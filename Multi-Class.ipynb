{
 "cells": [
  {
   "cell_type": "code",
   "execution_count": 1,
   "id": "3900b492-0540-4f7b-b694-09344ec1b37d",
   "metadata": {},
   "outputs": [],
   "source": [
    "import pandas as pd\n",
    "import numpy as np\n",
    "from tqdm import tqdm\n",
    "tqdm.pandas(desc=\"progress-bar\")\n",
    "from gensim.models import Doc2Vec\n",
    "from sklearn import utils\n",
    "from sklearn.model_selection import train_test_split\n",
    "import gensim\n",
    "from sklearn.linear_model import LogisticRegression\n",
    "from gensim.models.doc2vec import TaggedDocument\n",
    "import re\n",
    "import seaborn as sns\n",
    "import matplotlib.pyplot as plt\n",
    "import warnings\n",
    "warnings.filterwarnings(\"ignore\")"
   ]
  },
  {
   "cell_type": "code",
   "execution_count": 2,
   "id": "743a6430-98fd-4e80-8b49-94bfce66f54a",
   "metadata": {},
   "outputs": [],
   "source": [
    "df = pd.read_csv('Cleaned-Updated-Keyword.csv')"
   ]
  },
  {
   "cell_type": "code",
   "execution_count": 3,
   "id": "50bce902-04f7-489a-8a73-b8af8f62b967",
   "metadata": {},
   "outputs": [],
   "source": [
    "df = df.drop(['Unnamed: 0.1','Unnamed: 0'], axis = 1)"
   ]
  },
  {
   "cell_type": "code",
   "execution_count": 4,
   "id": "b027bebf-2cab-4545-b0c8-eeb9e853f481",
   "metadata": {},
   "outputs": [],
   "source": [
    "# Define the categories you want to select\n",
    "categories = [\"People\", \"Arts\", \"History\",\"Technology\", \"Mathematics\", \"Physical_sciences\", \"Biology_and_health_sciences\", \"Physical_sciences\", \"Everyday_life\", \"Geography\", \"Philosophy_and_religion\", \"Society_and_social_sciences\"]\n",
    "\n",
    "# Create an empty list to store the selected rows\n",
    "selected_rows = []\n",
    "\n",
    "# Loop through each category and select 100 rows\n",
    "for category in categories:\n",
    "    category_rows = df[df[\"Category\"] == category].head(100)\n",
    "    selected_rows.append(category_rows)\n",
    "\n",
    "# Concatenate all the selected rows into a new dataframe\n",
    "df = pd.concat(selected_rows)"
   ]
  },
  {
   "cell_type": "code",
   "execution_count": 5,
   "id": "6c7ac73b-97d9-432e-9d4c-4d18762c7910",
   "metadata": {},
   "outputs": [],
   "source": [
    "df = df[['Article', 'Category']]"
   ]
  },
  {
   "cell_type": "code",
   "execution_count": 6,
   "id": "f1440455-7771-4a2f-ad27-59296c3b9813",
   "metadata": {},
   "outputs": [
    {
     "data": {
      "text/plain": [
       "(1200, 2)"
      ]
     },
     "execution_count": 6,
     "metadata": {},
     "output_type": "execute_result"
    }
   ],
   "source": [
    "df.shape"
   ]
  },
  {
   "cell_type": "code",
   "execution_count": 7,
   "id": "989e337a-0bec-473a-a66f-a59dfaab9c67",
   "metadata": {},
   "outputs": [
    {
     "data": {
      "text/plain": [
       "8513514"
      ]
     },
     "execution_count": 7,
     "metadata": {},
     "output_type": "execute_result"
    }
   ],
   "source": [
    "df.index = range(df.shape[0])\n",
    "df['Article'].apply(lambda x: len(x.split(' '))).sum()"
   ]
  },
  {
   "cell_type": "code",
   "execution_count": 8,
   "id": "6034bbdf-544f-4160-99a5-5a4557adc32a",
   "metadata": {},
   "outputs": [
    {
     "data": {
      "image/png": "[encoded data removed]",
      "text/plain": [
       "<Figure size 864x288 with 1 Axes>"
      ]
     },
     "metadata": {
      "needs_background": "light"
     },
     "output_type": "display_data"
    }
   ],
   "source": [
    "cnt_pro = df['Category'].value_counts()\n",
    "plt.figure(figsize=(12,4))\n",
    "sns.barplot(cnt_pro.index, cnt_pro.values, alpha=0.8)\n",
    "plt.ylabel('Number of Occurrences', fontsize=12)\n",
    "plt.xlabel('Categpry', fontsize=12)\n",
    "plt.xticks(rotation=90)\n",
    "plt.show();"
   ]
  },
  {
   "cell_type": "code",
   "execution_count": 9,
   "id": "deeb9bf1-239e-476b-83a4-843c81c1468a",
   "metadata": {},
   "outputs": [],
   "source": [
    "train, test = train_test_split(df, test_size = 0.3, random_state = 42)\n",
    "import nltk\n",
    "from nltk.corpus import stopwords\n",
    "def tokenize_text(text):\n",
    "    tokens = []\n",
    "    for sent in nltk.sent_tokenize(text):\n",
    "        for word in nltk.word_tokenize(sent):\n",
    "            if len(word) < 3:\n",
    "                continue\n",
    "            tokens.append(word.lower())\n",
    "    return tokens\n",
    "train_tagged = train.apply(\n",
    "    lambda r: TaggedDocument(words=tokenize_text(r['Article']), tags=[r.Category]), axis=1)\n",
    "test_tagged = test.apply(\n",
    "    lambda r: TaggedDocument(words=tokenize_text(r['Article']), tags=[r.Category]), axis=1)"
   ]
  },
  {
   "cell_type": "code",
   "execution_count": 10,
   "id": "6a0c6ded-bde2-4e96-8a9f-f28c8d1109a6",
   "metadata": {},
   "outputs": [],
   "source": [
    "import multiprocessing\n",
    "cores = multiprocessing.cpu_count()"
   ]
  },
  {
   "cell_type": "code",
   "execution_count": 11,
   "id": "1c235260-e425-43c8-8d23-e68912410287",
   "metadata": {},
   "outputs": [
    {
     "name": "stderr",
     "output_type": "stream",
     "text": [
      "100%|██████████| 840/840 [00:00<00:00, 1749362.14it/s]\n"
     ]
    }
   ],
   "source": [
    "model_dbow = Doc2Vec(dm = 0, vector_size = 300, negative = 5, hs = 0, min_count = 2, sample = 0, workers = cores)\n",
    "model_dbow.build_vocab([x for x in tqdm(train_tagged.values)])"
   ]
  },
  {
   "cell_type": "code",
   "execution_count": 12,
   "id": "fc87c718-d85f-474e-b56e-397507e9696d",
   "metadata": {},
   "outputs": [
    {
     "name": "stderr",
     "output_type": "stream",
     "text": [
      "100%|██████████| 840/840 [00:00<00:00, 1463129.30it/s]\n",
      "100%|██████████| 840/840 [00:00<00:00, 2041260.35it/s]\n",
      "100%|██████████| 840/840 [00:00<00:00, 2055551.55it/s]\n",
      "100%|██████████| 840/840 [00:00<00:00, 1687363.68it/s]\n",
      "100%|██████████| 840/840 [00:00<00:00, 2193782.91it/s]\n",
      "100%|██████████| 840/840 [00:00<00:00, 2070044.28it/s]\n",
      "100%|██████████| 840/840 [00:00<00:00, 2097152.00it/s]\n",
      "100%|██████████| 840/840 [00:00<00:00, 1199188.35it/s]\n",
      "100%|██████████| 840/840 [00:00<00:00, 2126261.53it/s]\n",
      "100%|██████████| 840/840 [00:00<00:00, 2051960.02it/s]\n",
      "100%|██████████| 840/840 [00:00<00:00, 2249818.24it/s]\n",
      "100%|██████████| 840/840 [00:00<00:00, 2097152.00it/s]\n",
      "100%|██████████| 840/840 [00:00<00:00, 2127545.51it/s]\n",
      "100%|██████████| 840/840 [00:00<00:00, 1868088.74it/s]\n",
      "100%|██████████| 840/840 [00:00<00:00, 2456914.48it/s]\n",
      "100%|██████████| 840/840 [00:00<00:00, 2470698.01it/s]\n",
      "100%|██████████| 840/840 [00:00<00:00, 1575677.71it/s]\n",
      "100%|██████████| 840/840 [00:00<00:00, 1885080.45it/s]\n",
      "100%|██████████| 840/840 [00:00<00:00, 2146992.91it/s]\n",
      "100%|██████████| 840/840 [00:00<00:00, 1207821.52it/s]\n",
      "100%|██████████| 840/840 [00:00<00:00, 2162808.69it/s]\n",
      "100%|██████████| 840/840 [00:00<00:00, 2345682.66it/s]\n",
      "100%|██████████| 840/840 [00:00<00:00, 1809561.05it/s]\n",
      "100%|██████████| 840/840 [00:00<00:00, 1922103.31it/s]\n",
      "100%|██████████| 840/840 [00:00<00:00, 2135282.04it/s]\n",
      "100%|██████████| 840/840 [00:00<00:00, 2169467.59it/s]\n",
      "100%|██████████| 840/840 [00:00<00:00, 2099651.59it/s]\n",
      "100%|██████████| 840/840 [00:00<00:00, 2254136.51it/s]\n",
      "100%|██████████| 840/840 [00:00<00:00, 1929471.72it/s]\n",
      "100%|██████████| 840/840 [00:00<00:00, 1039910.08it/s]\n",
      "100%|██████████| 840/840 [00:00<00:00, 1873054.42it/s]\n",
      "100%|██████████| 840/840 [00:00<00:00, 1947603.85it/s]\n",
      "100%|██████████| 840/840 [00:00<00:00, 1472916.12it/s]\n",
      "100%|██████████| 840/840 [00:00<00:00, 2200634.20it/s]\n",
      "100%|██████████| 840/840 [00:00<00:00, 1898284.14it/s]\n",
      "100%|██████████| 840/840 [00:00<00:00, 2084742.82it/s]\n",
      "100%|██████████| 840/840 [00:00<00:00, 2143075.04it/s]\n",
      "100%|██████████| 840/840 [00:00<00:00, 2241231.15it/s]\n",
      "100%|██████████| 840/840 [00:00<00:00, 2409860.03it/s]\n",
      "100%|██████████| 840/840 [00:00<00:00, 1857256.38it/s]\n",
      "100%|██████████| 840/840 [00:00<00:00, 2225657.21it/s]\n",
      "100%|██████████| 840/840 [00:00<00:00, 2078593.13it/s]\n",
      "100%|██████████| 840/840 [00:00<00:00, 2047190.80it/s]\n",
      "100%|██████████| 840/840 [00:00<00:00, 1848486.55it/s]\n",
      "100%|██████████| 840/840 [00:00<00:00, 1857256.38it/s]\n",
      "100%|██████████| 840/840 [00:00<00:00, 1793897.84it/s]\n",
      "100%|██████████| 840/840 [00:00<00:00, 2242657.77it/s]\n",
      "100%|██████████| 840/840 [00:00<00:00, 1934769.56it/s]\n",
      "100%|██████████| 840/840 [00:00<00:00, 2388620.58it/s]\n",
      "100%|██████████| 840/840 [00:00<00:00, 2133988.71it/s]\n"
     ]
    },
    {
     "name": "stdout",
     "output_type": "stream",
     "text": [
      "CPU times: user 9min 5s, sys: 2.31 s, total: 9min 8s\n",
      "Wall time: 1min 42s\n"
     ]
    }
   ],
   "source": [
    "%%time\n",
    "for epoch in range(50):\n",
    "    model_dbow.train(utils.shuffle([x for x in tqdm(train_tagged.values)]), total_examples = len(train_tagged.values), epochs = 1)\n",
    "    model_dbow.alpha -= 0.002\n",
    "    model_dbow.min_alpha = model_dbow.alpha"
   ]
  },
  {
   "cell_type": "code",
   "execution_count": 13,
   "id": "5027692b-5ba2-442e-b402-15725d060488",
   "metadata": {},
   "outputs": [],
   "source": [
    "def vec_for_learning(model, tagged_docs):\n",
    "    sents = tagged_docs.values\n",
    "    targets, regressors = zip(*[(doc.tags[0], model.infer_vector(doc.words, steps = 50)) for doc in sents])\n",
    "    return targets, regressors"
   ]
  },
  {
   "cell_type": "code",
   "execution_count": 14,
   "id": "acc478db-28b3-4ff0-a6f0-78517431fc53",
   "metadata": {},
   "outputs": [],
   "source": [
    "y_train, X_train = vec_for_learning(model_dbow, train_tagged)\n",
    "y_test, X_test = vec_for_learning(model_dbow, test_tagged)"
   ]
  },
  {
   "cell_type": "code",
   "execution_count": 15,
   "id": "8bd09659-0eef-4e26-8a36-81c536c0b34e",
   "metadata": {},
   "outputs": [],
   "source": [
    "from sklearn.preprocessing import StandardScaler\n",
    "scaler = StandardScaler()\n",
    "X_train= scaler.fit_transform(X_train)\n",
    "X_test = scaler.transform(X_test)"
   ]
  },
  {
   "cell_type": "code",
   "execution_count": 16,
   "id": "f67db732-c51d-4aab-8def-467d341a0729",
   "metadata": {},
   "outputs": [],
   "source": [
    "logreg = LogisticRegression(multi_class='multinomial', solver='newton-cg', max_iter = 10000, n_jobs = -1, C = 1e5)\n",
    "logreg.fit(X_train, y_train)\n",
    "y_pred = logreg.predict(X_test)"
   ]
  },
  {
   "cell_type": "code",
   "execution_count": 17,
   "id": "fb9a39f3-14da-48a2-88d5-9e03e943213a",
   "metadata": {},
   "outputs": [
    {
     "name": "stdout",
     "output_type": "stream",
     "text": [
      "Testing accuracy 0.11666666666666667\n",
      "Testing F1 score: 0.11769821860602635\n"
     ]
    }
   ],
   "source": [
    "from sklearn.metrics import accuracy_score, f1_score\n",
    "\n",
    "print('Testing accuracy %s' % accuracy_score(y_test, y_pred))\n",
    "print('Testing F1 score: {}'.format(f1_score(y_test, y_pred, average='weighted')))"
   ]
  },
  {
   "cell_type": "code",
   "execution_count": 25,
   "id": "c3eac761-ed17-4bd5-84a2-c875405b4110",
   "metadata": {},
   "outputs": [
    {
     "name": "stderr",
     "output_type": "stream",
     "text": [
      "100%|██████████| 840/840 [00:00<00:00, 1073823.64it/s]\n"
     ]
    }
   ],
   "source": [
    "model_dmm = Doc2Vec(dm = 1, dm_mean = 1, vector_size = 300, window = 10, negative = 5, min_count = 1, workers = 5, alpha = 0.065, min_alpha = 0.065)\n",
    "model_dmm.build_vocab([x for x in tqdm(train_tagged.values)])"
   ]
  },
  {
   "cell_type": "code",
   "execution_count": 26,
   "id": "7080a44f-7431-40d5-a779-b6c3920b6508",
   "metadata": {},
   "outputs": [
    {
     "name": "stderr",
     "output_type": "stream",
     "text": [
      "100%|██████████| 840/840 [00:00<00:00, 2489904.85it/s]\n",
      "100%|██████████| 840/840 [00:00<00:00, 1148375.28it/s]\n",
      "100%|██████████| 840/840 [00:00<00:00, 2221447.26it/s]\n",
      "100%|██████████| 840/840 [00:00<00:00, 2100903.61it/s]\n",
      "100%|██████████| 840/840 [00:00<00:00, 1654091.72it/s]\n",
      "100%|██████████| 840/840 [00:00<00:00, 1843650.11it/s]\n",
      "100%|██████████| 840/840 [00:00<00:00, 1837879.69it/s]\n",
      "100%|██████████| 840/840 [00:00<00:00, 1229743.58it/s]\n",
      "100%|██████████| 840/840 [00:00<00:00, 2121141.10it/s]\n",
      "100%|██████████| 840/840 [00:00<00:00, 2262822.97it/s]\n",
      "100%|██████████| 840/840 [00:00<00:00, 1511460.90it/s]\n",
      "100%|██████████| 840/840 [00:00<00:00, 2082278.58it/s]\n",
      "100%|██████████| 840/840 [00:00<00:00, 2347245.41it/s]\n",
      "100%|██████████| 840/840 [00:00<00:00, 1872059.17it/s]\n",
      "100%|██████████| 840/840 [00:00<00:00, 2241231.15it/s]\n",
      "100%|██████████| 840/840 [00:00<00:00, 2327090.73it/s]\n",
      "100%|██████████| 840/840 [00:00<00:00, 1423521.36it/s]\n",
      "100%|██████████| 840/840 [00:00<00:00, 2037718.54it/s]\n",
      "100%|██████████| 840/840 [00:00<00:00, 2105926.69it/s]\n",
      "100%|██████████| 840/840 [00:00<00:00, 2367752.26it/s]\n",
      "100%|██████████| 840/840 [00:00<00:00, 1510165.18it/s]\n",
      "100%|██████████| 840/840 [00:00<00:00, 1943306.87it/s]\n",
      "100%|██████████| 840/840 [00:00<00:00, 1834052.76it/s]\n",
      "100%|██████████| 840/840 [00:00<00:00, 1195931.89it/s]\n",
      "100%|██████████| 840/840 [00:00<00:00, 1109324.74it/s]\n",
      "100%|██████████| 840/840 [00:00<00:00, 1436874.13it/s]\n",
      "100%|██████████| 840/840 [00:00<00:00, 1163929.75it/s]\n",
      "100%|██████████| 840/840 [00:00<00:00, 1010675.66it/s]\n",
      "100%|██████████| 840/840 [00:00<00:00, 1028976.45it/s]\n",
      "100%|██████████| 840/840 [00:00<00:00, 985790.53it/s]\n",
      "100%|██████████| 840/840 [00:00<00:00, 1068936.70it/s]\n",
      "100%|██████████| 840/840 [00:00<00:00, 1273297.93it/s]\n",
      "100%|██████████| 840/840 [00:00<00:00, 1228885.72it/s]\n",
      "100%|██████████| 840/840 [00:00<00:00, 1167400.72it/s]\n",
      "100%|██████████| 840/840 [00:00<00:00, 1201232.65it/s]\n",
      "100%|██████████| 840/840 [00:00<00:00, 1515361.45it/s]\n",
      "100%|██████████| 840/840 [00:00<00:00, 1031084.39it/s]\n",
      "100%|██████████| 840/840 [00:00<00:00, 1128512.29it/s]\n",
      "100%|██████████| 840/840 [00:00<00:00, 1229743.58it/s]\n",
      "100%|██████████| 840/840 [00:00<00:00, 1269169.80it/s]\n",
      "100%|██████████| 840/840 [00:00<00:00, 991617.04it/s]\n",
      "100%|██████████| 840/840 [00:00<00:00, 1215320.92it/s]\n",
      "100%|██████████| 840/840 [00:00<00:00, 1198780.32it/s]\n",
      "100%|██████████| 840/840 [00:00<00:00, 1416083.34it/s]\n",
      "100%|██████████| 840/840 [00:00<00:00, 1849456.88it/s]\n",
      "100%|██████████| 840/840 [00:00<00:00, 1317582.41it/s]\n",
      "100%|██████████| 840/840 [00:00<00:00, 1015628.53it/s]\n",
      "100%|██████████| 840/840 [00:00<00:00, 1355082.83it/s]\n",
      "100%|██████████| 840/840 [00:00<00:00, 1098944.28it/s]\n",
      "100%|██████████| 840/840 [00:00<00:00, 1169726.22it/s]\n"
     ]
    },
    {
     "name": "stdout",
     "output_type": "stream",
     "text": [
      "CPU times: user 11min 51s, sys: 12.2 s, total: 12min 3s\n",
      "Wall time: 4min 6s\n"
     ]
    }
   ],
   "source": [
    "%%time\n",
    "for epoch in range(50):\n",
    "    model_dmm.train(utils.shuffle([x for x in tqdm(train_tagged.values)]), total_examples=len(train_tagged.values), epochs=1)\n",
    "    model_dmm.alpha -= 0.002\n",
    "    model_dmm.min_alpha = model_dmm.alpha"
   ]
  },
  {
   "cell_type": "code",
   "execution_count": 27,
   "id": "205effca-ae96-4830-a70e-252bf6d52695",
   "metadata": {},
   "outputs": [
    {
     "name": "stdout",
     "output_type": "stream",
     "text": [
      "Testing accuracy 0.75\n",
      "Testing F1 score: 0.7431100815185864\n"
     ]
    }
   ],
   "source": [
    "y_train, X_train = vec_for_learning(model_dmm, train_tagged)\n",
    "y_test, X_test = vec_for_learning(model_dmm, test_tagged)\n",
    "\n",
    "logreg.fit(X_train, y_train)\n",
    "y_pred = logreg.predict(X_test)\n",
    "\n",
    "print('Testing accuracy %s' % accuracy_score(y_test, y_pred))\n",
    "print('Testing F1 score: {}'.format(f1_score(y_test, y_pred, average = 'weighted')))"
   ]
  },
  {
   "cell_type": "code",
   "execution_count": 28,
   "id": "aa8bbc94-0912-4cdf-a4c3-29c2df29902d",
   "metadata": {},
   "outputs": [],
   "source": [
    "model_dbow.delete_temporary_training_data(keep_doctags_vectors = True, keep_inference = True)\n",
    "model_dmm.delete_temporary_training_data(keep_doctags_vectors = True, keep_inference = True)"
   ]
  },
  {
   "cell_type": "code",
   "execution_count": 29,
   "id": "d8a27a62-9ff3-4eff-a2f5-6dbf38387ce9",
   "metadata": {},
   "outputs": [],
   "source": [
    "from gensim.test.test_doc2vec import ConcatenatedDoc2Vec\n",
    "new_model = ConcatenatedDoc2Vec([model_dbow, model_dmm])"
   ]
  },
  {
   "cell_type": "code",
   "execution_count": 30,
   "id": "540b2a4b-5a81-4323-9b4f-5ff61fcc36ee",
   "metadata": {},
   "outputs": [],
   "source": [
    "def get_vectors(model, tagged_docs):\n",
    "    sents = tagged_docs.values\n",
    "    targets, regressors = zip(*[(doc.tags[0], model.infer_vector(doc.words, steps = 50)) for doc in sents])\n",
    "    return targets, regressors"
   ]
  },
  {
   "cell_type": "code",
   "execution_count": 31,
   "id": "fee4c3e5-e202-4dd8-920c-18b42f1d2c96",
   "metadata": {},
   "outputs": [],
   "source": [
    "y_train, X_train = get_vectors(new_model, train_tagged)\n",
    "y_test, X_test = get_vectors(new_model, test_tagged)"
   ]
  },
  {
   "cell_type": "code",
   "execution_count": 32,
   "id": "217ad61e-f624-4d6c-bf81-1f944022762a",
   "metadata": {},
   "outputs": [
    {
     "name": "stdout",
     "output_type": "stream",
     "text": [
      "Testing accuracy 0.7527777777777778\n",
      "Testing F1 score: 0.747256858215427\n"
     ]
    }
   ],
   "source": [
    "logreg.fit(X_train, y_train)\n",
    "y_pred = logreg.predict(X_test)\n",
    "\n",
    "print('Testing accuracy %s' % accuracy_score(y_test, y_pred))\n",
    "print('Testing F1 score: {}'.format(f1_score(y_test, y_pred, average = 'weighted')))"
   ]
  }
 ],
 "metadata": {
  "kernelspec": {
   "display_name": "Python 3 (ipykernel)",
   "language": "python",
   "name": "python3"
  },
  "language_info": {
   "codemirror_mode": {
    "name": "ipython",
    "version": 3
   },
   "file_extension": ".py",
   "mimetype": "text/x-python",
   "name": "python",
   "nbconvert_exporter": "python",
   "pygments_lexer": "ipython3",
   "version": "3.9.12"
  }
 },
 "nbformat": 4,
 "nbformat_minor": 5
}

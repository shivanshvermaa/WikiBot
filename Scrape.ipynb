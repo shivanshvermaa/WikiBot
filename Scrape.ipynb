{
 "cells": [
  {
   "cell_type": "code",
   "execution_count": 1,
   "id": "75fefb33-f0e4-4aa1-a614-afa48080dea0",
   "metadata": {},
   "outputs": [],
   "source": [
    "import requests\n",
    "from bs4 import BeautifulSoup\n",
    "import time\n",
    "import re\n",
    "import wikipediaapi\n",
    "from tqdm import tqdm\n",
    "import os"
   ]
  },
  {
   "cell_type": "markdown",
   "id": "71c9ce39-819e-4478-ac45-566e77e760b6",
   "metadata": {},
   "source": [
    "https://en.wikipedia.org/wiki/Wikipedia:Vital_articles/Level/4/People <br>\n",
    "https://en.wikipedia.org/wiki/Wikipedia:Vital_articles/Level/4/History <br>\n",
    "https://en.wikipedia.org/wiki/Wikipedia:Vital_articles/Level/4/Geography <br>\n",
    "https://en.wikipedia.org/wiki/Wikipedia:Vital_articles/Level/4/Arts <br>\n",
    "https://en.wikipedia.org/wiki/Wikipedia:Vital_articles/Level/4/Philosophy_and_religion <br>\n",
    "https://en.wikipedia.org/wiki/Wikipedia:Vital_articles/Level/4/Everyday_life <br>\n",
    "https://en.wikipedia.org/wiki/Wikipedia:Vital_articles/Level/4/Society_and_social_sciences <br>\n",
    "https://en.wikipedia.org/wiki/Wikipedia:Vital_articles/Level/4/Biology_and_health_sciences <br>\n",
    "https://en.wikipedia.org/wiki/Wikipedia:Vital_articles/Level/4/Physical_sciences <br>\n",
    "https://en.wikipedia.org/wiki/Wikipedia:Vital_articles/Level/4/Technology <br>\n",
    "https://en.wikipedia.org/wiki/Wikipedia:Vital_articles/Level/4/Mathematics <br>"
   ]
  },
  {
   "cell_type": "code",
   "execution_count": 2,
   "id": "91bfd7bc-32dc-45c5-9edf-e17a9cca3013",
   "metadata": {},
   "outputs": [],
   "source": [
    "url = \"https://en.wikipedia.org/wiki/Wikipedia:Vital_articles/Level/4/Mathematics\""
   ]
  },
  {
   "cell_type": "code",
   "execution_count": 3,
   "id": "72939302-ce77-4cf6-8542-27a1f86860b2",
   "metadata": {},
   "outputs": [],
   "source": [
    "path = \"dataset/\" + url.split(\"/\")[-1]"
   ]
  },
  {
   "cell_type": "code",
   "execution_count": 4,
   "id": "978c87fd-9564-4d47-9a28-27fb14b51e89",
   "metadata": {},
   "outputs": [],
   "source": [
    "os.makedirs(path, exist_ok=True)"
   ]
  },
  {
   "cell_type": "code",
   "execution_count": 5,
   "id": "e93bda74-86c4-4fb2-b5c1-41cf42a2191b",
   "metadata": {},
   "outputs": [],
   "source": [
    "res = requests.get(url)\n",
    "soup = BeautifulSoup(res.text, 'html.parser')\n",
    "\n",
    "tags = soup.find_all(lambda tag: tag.name == 'a' and 'href' in tag.attrs and 'title' in tag.attrs and len(tag.attrs) == 2)\n",
    "article_names = [ tag.text for tag in tags]"
   ]
  },
  {
   "cell_type": "code",
   "execution_count": 6,
   "id": "17311d2c-9a94-49c4-969d-efd474c83d1b",
   "metadata": {},
   "outputs": [
    {
     "name": "stderr",
     "output_type": "stream",
     "text": [
      "100%|████████████████████████████████████████████████████████████████████████████████████████████████████████████████████████████████████████████████████████████████████████████████| 447/447 [02:09<00:00,  3.45it/s]\n"
     ]
    }
   ],
   "source": [
    "pattern = '.*\\/wiki.*'\n",
    "success_count = 0\n",
    "fail_count = 0\n",
    "wiki_wiki = wikipediaapi.Wikipedia('en',timeout=10.0)\n",
    "\n",
    "done_files = set()\n",
    "\n",
    "for i, tag in enumerate( tqdm(tags) ):\n",
    "    attributes = tag.attrs\n",
    "    href = attributes[\"href\"]\n",
    "    title = attributes[\"title\"]\n",
    "    if re.match(pattern, href) and title not in done_files :\n",
    "        #print(href + \":\" + title)\n",
    "        \n",
    "        done_files.add(title)\n",
    "        \n",
    "        page_py = wiki_wiki.page(title)\n",
    "        \n",
    "        if page_py.exists() == False:\n",
    "            #print(\"Failed for {}\".format(title))\n",
    "            fail_count += 1\n",
    "            \n",
    "        else:\n",
    "            #print(\"Passed for {}\".format(title))\n",
    "            success_count += 1\n",
    "            \n",
    "            if \"Category:Wikipedia\" in title or \"Wikipedia:\" in title or \"User:\" in title or \"Help:\" in title:\n",
    "                continue\n",
    "            \n",
    "            with open(path+\"/{}.txt\".format(title.replace('/','-')),'w') as file:\n",
    "                file.write(page_py.text)\n",
    "            \n",
    "    if i%500 == 0 and i!=0:\n",
    "        time.sleep(300)"
   ]
  },
  {
   "cell_type": "code",
   "execution_count": 7,
   "id": "5bcb01c1-d5cf-4f2b-ab42-734f70adfe9d",
   "metadata": {},
   "outputs": [
    {
     "name": "stdout",
     "output_type": "stream",
     "text": [
      "373\n"
     ]
    }
   ],
   "source": [
    "print(success_count)"
   ]
  },
  {
   "cell_type": "code",
   "execution_count": 8,
   "id": "d8c607a4-d96c-41ea-9089-3e88e16ccf9b",
   "metadata": {},
   "outputs": [
    {
     "name": "stdout",
     "output_type": "stream",
     "text": [
      "10\n"
     ]
    }
   ],
   "source": [
    "print(fail_count)"
   ]
  }
 ],
 "metadata": {
  "kernelspec": {
   "display_name": "Python 3 (ipykernel)",
   "language": "python",
   "name": "python3"
  },
  "language_info": {
   "codemirror_mode": {
    "name": "ipython",
    "version": 3
   },
   "file_extension": ".py",
   "mimetype": "text/x-python",
   "name": "python",
   "nbconvert_exporter": "python",
   "pygments_lexer": "ipython3",
   "version": "3.9.12"
  }
 },
 "nbformat": 4,
 "nbformat_minor": 5
}

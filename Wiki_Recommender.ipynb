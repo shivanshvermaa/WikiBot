{
 "cells": [
  {
   "cell_type": "code",
   "execution_count": 1,
   "id": "f7df9c7d-251c-4066-8d8c-cc3403b4c1db",
   "metadata": {},
   "outputs": [],
   "source": [
    "import pandas as pd\n",
    "from tqdm import tqdm\n",
    "tqdm.pandas()"
   ]
  },
  {
   "cell_type": "code",
   "execution_count": 2,
   "id": "4cab9486-1e3c-49df-82d7-8d378a40beae",
   "metadata": {},
   "outputs": [],
   "source": [
    "data = pd.read_csv('Cleaned-Updated-Keyword.csv')"
   ]
  },
  {
   "cell_type": "code",
   "execution_count": 3,
   "id": "47c16088-32c8-4806-a841-fe9c077afa28",
   "metadata": {},
   "outputs": [
    {
     "data": {
      "text/html": [
       "<div>\n",
       "<style scoped>\n",
       "    .dataframe tbody tr th:only-of-type {\n",
       "        vertical-align: middle;\n",
       "    }\n",
       "\n",
       "    .dataframe tbody tr th {\n",
       "        vertical-align: top;\n",
       "    }\n",
       "\n",
       "    .dataframe thead th {\n",
       "        text-align: right;\n",
       "    }\n",
       "</style>\n",
       "<table border=\"1\" class=\"dataframe\">\n",
       "  <thead>\n",
       "    <tr style=\"text-align: right;\">\n",
       "      <th></th>\n",
       "      <th>Title</th>\n",
       "      <th>Article</th>\n",
       "      <th>Category</th>\n",
       "      <th>Summary</th>\n",
       "      <th>Article_clean</th>\n",
       "      <th>Summary_clean</th>\n",
       "      <th>Keywords_extracted</th>\n",
       "      <th>Keywords_list</th>\n",
       "    </tr>\n",
       "  </thead>\n",
       "  <tbody>\n",
       "    <tr>\n",
       "      <th>0</th>\n",
       "      <td>Masaccio</td>\n",
       "      <td>Masaccio (UK: , US: , Italian: [maˈzattʃo]; De...</td>\n",
       "      <td>People</td>\n",
       "      <td>Masaccio (UK: , US: , Italian: [maˈzattʃo]; De...</td>\n",
       "      <td>masaccio italian decemb 1401 summer 1428 born ...</td>\n",
       "      <td>masaccio italian december 1401 summer 1428 bor...</td>\n",
       "      <td>masaccio italian paint work fresco perspect th...</td>\n",
       "      <td>['masaccio', 'italian', 'paint', 'work', 'fres...</td>\n",
       "    </tr>\n",
       "    <tr>\n",
       "      <th>1</th>\n",
       "      <td>Hokusai</td>\n",
       "      <td>Katsushika Hokusai (葛飾 北斎, c. 31 October 1760 ...</td>\n",
       "      <td>People</td>\n",
       "      <td>Katsushika Hokusai (葛飾 北斎, c. 31 October 1760 ...</td>\n",
       "      <td>katsushika hokusai octob 1760 may 1849 known s...</td>\n",
       "      <td>katsushika hokusai october 1760 may 1849 known...</td>\n",
       "      <td>hokusai octob japan art style isbn japanes uki...</td>\n",
       "      <td>['hokusai', 'octob', 'japan', 'art', 'style', ...</td>\n",
       "    </tr>\n",
       "    <tr>\n",
       "      <th>2</th>\n",
       "      <td>Steven Spielberg</td>\n",
       "      <td>Steven Allan Spielberg  (; born December 18, 1...</td>\n",
       "      <td>People</td>\n",
       "      <td>Steven Allan Spielberg  (; born December 18, 1...</td>\n",
       "      <td>steven allan spielberg born decemb 1946 americ...</td>\n",
       "      <td>steven allan spielberg born december 1946 amer...</td>\n",
       "      <td>spielberg born decemb critic american film dir...</td>\n",
       "      <td>['spielberg', 'born', 'decemb', 'critic', 'ame...</td>\n",
       "    </tr>\n",
       "    <tr>\n",
       "      <th>3</th>\n",
       "      <td>Che Guevara</td>\n",
       "      <td>Ernesto \"Che\" Guevara (Spanish: [ˈtʃe ɣeˈβaɾa]...</td>\n",
       "      <td>People</td>\n",
       "      <td>Ernesto \"Che\" Guevara (Spanish: [ˈtʃe ɣeˈβaɾa]...</td>\n",
       "      <td>ernesto che guevara spanish june 1928 octob 19...</td>\n",
       "      <td>ernesto che guevara spanish june 1928 october ...</td>\n",
       "      <td>ernesto che guevara spanish june thi cuba unit...</td>\n",
       "      <td>['ernesto', 'che', 'guevara', 'spanish', 'june...</td>\n",
       "    </tr>\n",
       "    <tr>\n",
       "      <th>4</th>\n",
       "      <td>Jöns Jacob Berzelius</td>\n",
       "      <td>Baron Jöns Jacob Berzelius (Swedish: [jœns ˈjɑ...</td>\n",
       "      <td>People</td>\n",
       "      <td>Baron Jöns Jacob Berzelius (Swedish: [jœns ˈjɑ...</td>\n",
       "      <td>baron jacob berzeliu swedish contemporari name...</td>\n",
       "      <td>baron jacob berzelius swedish contemporary nam...</td>\n",
       "      <td>berzelius jacob berzeliu swedish work compound...</td>\n",
       "      <td>['berzelius', 'jacob', 'berzeliu', 'swedish', ...</td>\n",
       "    </tr>\n",
       "  </tbody>\n",
       "</table>\n",
       "</div>"
      ],
      "text/plain": [
       "                   Title                                            Article  \\\n",
       "0               Masaccio  Masaccio (UK: , US: , Italian: [maˈzattʃo]; De...   \n",
       "1                Hokusai  Katsushika Hokusai (葛飾 北斎, c. 31 October 1760 ...   \n",
       "2       Steven Spielberg  Steven Allan Spielberg  (; born December 18, 1...   \n",
       "3            Che Guevara  Ernesto \"Che\" Guevara (Spanish: [ˈtʃe ɣeˈβaɾa]...   \n",
       "4  Jöns Jacob Berzelius  Baron Jöns Jacob Berzelius (Swedish: [jœns ˈjɑ...   \n",
       "\n",
       "  Category                                            Summary  \\\n",
       "0   People  Masaccio (UK: , US: , Italian: [maˈzattʃo]; De...   \n",
       "1   People  Katsushika Hokusai (葛飾 北斎, c. 31 October 1760 ...   \n",
       "2   People  Steven Allan Spielberg  (; born December 18, 1...   \n",
       "3   People  Ernesto \"Che\" Guevara (Spanish: [ˈtʃe ɣeˈβaɾa]...   \n",
       "4   People  Baron Jöns Jacob Berzelius (Swedish: [jœns ˈjɑ...   \n",
       "\n",
       "                                       Article_clean  \\\n",
       "0  masaccio italian decemb 1401 summer 1428 born ...   \n",
       "1  katsushika hokusai octob 1760 may 1849 known s...   \n",
       "2  steven allan spielberg born decemb 1946 americ...   \n",
       "3  ernesto che guevara spanish june 1928 octob 19...   \n",
       "4  baron jacob berzeliu swedish contemporari name...   \n",
       "\n",
       "                                       Summary_clean  \\\n",
       "0  masaccio italian december 1401 summer 1428 bor...   \n",
       "1  katsushika hokusai october 1760 may 1849 known...   \n",
       "2  steven allan spielberg born december 1946 amer...   \n",
       "3  ernesto che guevara spanish june 1928 october ...   \n",
       "4  baron jacob berzelius swedish contemporary nam...   \n",
       "\n",
       "                                  Keywords_extracted  \\\n",
       "0  masaccio italian paint work fresco perspect th...   \n",
       "1  hokusai octob japan art style isbn japanes uki...   \n",
       "2  spielberg born decemb critic american film dir...   \n",
       "3  ernesto che guevara spanish june thi cuba unit...   \n",
       "4  berzelius jacob berzeliu swedish work compound...   \n",
       "\n",
       "                                       Keywords_list  \n",
       "0  ['masaccio', 'italian', 'paint', 'work', 'fres...  \n",
       "1  ['hokusai', 'octob', 'japan', 'art', 'style', ...  \n",
       "2  ['spielberg', 'born', 'decemb', 'critic', 'ame...  \n",
       "3  ['ernesto', 'che', 'guevara', 'spanish', 'june...  \n",
       "4  ['berzelius', 'jacob', 'berzeliu', 'swedish', ...  "
      ]
     },
     "execution_count": 3,
     "metadata": {},
     "output_type": "execute_result"
    }
   ],
   "source": [
    "data = data.drop(['Unnamed: 0', 'Unnamed: 0.1', 'Keywords'], axis = 1)\n",
    "data.head(5)"
   ]
  },
  {
   "cell_type": "code",
   "execution_count": 4,
   "id": "d9dc81f0-4194-4c03-ae9f-5445975bbe34",
   "metadata": {},
   "outputs": [],
   "source": [
    "def binary(genre_list):\n",
    "    binaryList=[]\n",
    "    for genres in data[\"Category\"]:\n",
    "        if genres in genre_list:\n",
    "            binaryList.append(1)\n",
    "        else:\n",
    "            binaryList.append(0)\n",
    "    return binaryList"
   ]
  },
  {
   "cell_type": "code",
   "execution_count": 5,
   "id": "38f8ef9d-9245-4d0c-a6ed-9d3b6c2c6675",
   "metadata": {},
   "outputs": [
    {
     "data": {
      "text/plain": [
       "0    [1, 1, 1, 1, 1, 1, 1, 1, 1, 1, 1, 1, 1, 1, 1, ...\n",
       "1    [1, 1, 1, 1, 1, 1, 1, 1, 1, 1, 1, 1, 1, 1, 1, ...\n",
       "2    [1, 1, 1, 1, 1, 1, 1, 1, 1, 1, 1, 1, 1, 1, 1, ...\n",
       "3    [1, 1, 1, 1, 1, 1, 1, 1, 1, 1, 1, 1, 1, 1, 1, ...\n",
       "4    [1, 1, 1, 1, 1, 1, 1, 1, 1, 1, 1, 1, 1, 1, 1, ...\n",
       "Name: Category_bin, dtype: object"
      ]
     },
     "execution_count": 5,
     "metadata": {},
     "output_type": "execute_result"
    }
   ],
   "source": [
    "data['Category_bin'] = data['Category'].apply(lambda x: binary(x))\n",
    "data['Category_bin'].head()"
   ]
  },
  {
   "cell_type": "code",
   "execution_count": 6,
   "id": "93f277cd-df59-40a2-be2b-abb050c3cfd3",
   "metadata": {},
   "outputs": [],
   "source": [
    "data['Keywords_list_correct'] = data['Keywords_list'].str.strip('[]').str.replace(\" \",'').str.lstrip().str.split(',')"
   ]
  },
  {
   "cell_type": "code",
   "execution_count": 7,
   "id": "b6d19f21-98ad-4fae-b78e-e2252e0e60f7",
   "metadata": {},
   "outputs": [],
   "source": [
    "words_list = []\n",
    "for kw_list in data['Keywords_list_correct']:\n",
    "    words_list.extend(kw_list)\n",
    "words_list = pd.unique(words_list)"
   ]
  },
  {
   "cell_type": "code",
   "execution_count": 8,
   "id": "33b3fd68-5a64-480b-bdd7-26dbb5354842",
   "metadata": {},
   "outputs": [],
   "source": [
    "words_list = [word.replace(\"'\", \"\") for word in words_list]"
   ]
  },
  {
   "cell_type": "code",
   "execution_count": 9,
   "id": "0c7ddd43-49e5-4468-862f-731cbd363eaa",
   "metadata": {},
   "outputs": [],
   "source": [
    "def binary(words):\n",
    "    binaryList = []\n",
    "    for w in words_list:\n",
    "        if w in words:\n",
    "            binaryList.append(1)\n",
    "        else:\n",
    "            binaryList.append(0)\n",
    "    return binaryList"
   ]
  },
  {
   "cell_type": "code",
   "execution_count": 10,
   "id": "b218ed77-31f4-49df-82ad-e027874ab232",
   "metadata": {},
   "outputs": [
    {
     "name": "stderr",
     "output_type": "stream",
     "text": [
      "100%|██████████| 10009/10009 [01:52<00:00, 89.35it/s]\n"
     ]
    }
   ],
   "source": [
    "data['keywords_bin'] = data['Keywords_list_correct'].progress_apply(lambda x: binary(x))"
   ]
  },
  {
   "cell_type": "code",
   "execution_count": 11,
   "id": "648436d1-8e36-432f-9345-887a93875020",
   "metadata": {},
   "outputs": [
    {
     "name": "stdout",
     "output_type": "stream",
     "text": [
      "[[1 1 1 ... 0 0 0]\n",
      " [1 1 1 ... 0 0 0]\n",
      " [1 1 1 ... 0 0 0]\n",
      " ...\n",
      " [0 0 0 ... 0 0 0]\n",
      " [0 0 0 ... 0 0 0]\n",
      " [0 0 0 ... 0 0 0]]\n"
     ]
    }
   ],
   "source": [
    "import numpy as np\n",
    "# Concatenate the features \n",
    "feature_matrix = []\n",
    "for index, m in data.iterrows():\n",
    "    feature_matrix.append([*m['Category_bin'], *m['keywords_bin']])\n",
    "\n",
    "X = np.array(feature_matrix)\n",
    "print(X)"
   ]
  },
  {
   "cell_type": "code",
   "execution_count": 12,
   "id": "b5b4a668-3ece-44e6-b33b-96ded4a3c90f",
   "metadata": {},
   "outputs": [
    {
     "name": "stderr",
     "output_type": "stream",
     "text": [
      " 73%|███████▎  | 11/15 [02:21<00:57, 14.41s/it]/tmp/ipykernel_5803/2968606377.py:14: ConvergenceWarning: Number of distinct clusters (11) found smaller than n_clusters (12). Possibly due to duplicate points in X.\n",
      "  km = KMeans(n_clusters = i, random_state = RANDOM_STATE).fit(X)\n",
      " 80%|████████  | 12/15 [03:53<01:54, 38.05s/it]/tmp/ipykernel_5803/2968606377.py:14: ConvergenceWarning: Number of distinct clusters (11) found smaller than n_clusters (13). Possibly due to duplicate points in X.\n",
      "  km = KMeans(n_clusters = i, random_state = RANDOM_STATE).fit(X)\n",
      " 87%|████████▋ | 13/15 [05:25<01:49, 54.58s/it]/tmp/ipykernel_5803/2968606377.py:14: ConvergenceWarning: Number of distinct clusters (11) found smaller than n_clusters (14). Possibly due to duplicate points in X.\n",
      "  km = KMeans(n_clusters = i, random_state = RANDOM_STATE).fit(X)\n",
      " 93%|█████████▎| 14/15 [06:58<01:06, 66.12s/it]/tmp/ipykernel_5803/2968606377.py:14: ConvergenceWarning: Number of distinct clusters (11) found smaller than n_clusters (15). Possibly due to duplicate points in X.\n",
      "  km = KMeans(n_clusters = i, random_state = RANDOM_STATE).fit(X)\n",
      "100%|██████████| 15/15 [08:31<00:00, 34.12s/it]\n"
     ]
    }
   ],
   "source": [
    "from sklearn.cluster import KMeans\n",
    "from tqdm import tqdm\n",
    "import time\n",
    "\n",
    "RANDOM_STATE = 42\n",
    "MAX_CLUSTERS = 15\n",
    "\n",
    "kms = []\n",
    "inertia_values = []\n",
    "time_values = []\n",
    "\n",
    "for i in tqdm(range(1, MAX_CLUSTERS + 1)):\n",
    "    start_time = time.time()\n",
    "    km = KMeans(n_clusters = i, random_state = RANDOM_STATE).fit(X)\n",
    "    end_time = time.time()\n",
    "    kms.append(km)\n",
    "    inertia_values.append(km.inertia_)\n",
    "    time_values.append(end_time - start_time)\n"
   ]
  },
  {
   "cell_type": "code",
   "execution_count": 13,
   "id": "cd7ce9e2-9ab0-44ac-8d8b-bfa22c7d99bb",
   "metadata": {},
   "outputs": [
    {
     "data": {
      "image/png": "[encoded data removed]",
      "text/plain": [
       "<Figure size 576x432 with 1 Axes>"
      ]
     },
     "metadata": {
      "needs_background": "light"
     },
     "output_type": "display_data"
    }
   ],
   "source": [
    "import matplotlib.pyplot as plt\n",
    "\n",
    "# plot the Inertia vs No. of Clusters graph\n",
    "fig, ax = plt.subplots(figsize = (8, 6))\n",
    "plt.plot(range(1, MAX_CLUSTERS + 1), inertia_values)\n",
    "plt.xlabel('No. of Clusters', fontsize = 15)\n",
    "plt.ylabel('Inertia', fontsize = 15)\n",
    "plt.title('Inertia vs No. of Clusters', fontsize = 20)\n",
    "plt.show()\n"
   ]
  },
  {
   "cell_type": "code",
   "execution_count": 14,
   "id": "b6e1e20b-29f0-41a4-bc1a-9f633a983911",
   "metadata": {},
   "outputs": [
    {
     "name": "stdout",
     "output_type": "stream",
     "text": [
      "1 clusters:  Counter({0: 10009})\n",
      "2 clusters:  Counter({0: 8017, 1: 1992})\n",
      "3 clusters:  Counter({0: 6539, 1: 1992, 2: 1478})\n",
      "4 clusters:  Counter({1: 5335, 2: 1992, 0: 1478, 3: 1204})\n",
      "5 clusters:  Counter({0: 4235, 1: 1992, 2: 1478, 4: 1204, 3: 1100})\n",
      "6 clusters:  Counter({2: 3309, 0: 1992, 3: 1478, 4: 1204, 1: 1100, 5: 926})\n",
      "7 clusters:  Counter({3: 2569, 2: 1992, 1: 1478, 5: 1204, 0: 1100, 6: 926, 4: 740})\n",
      "8 clusters:  Counter({1: 1992, 3: 1885, 2: 1478, 4: 1204, 5: 1100, 6: 926, 7: 740, 0: 684})\n",
      "9 clusters:  Counter({1: 1992, 2: 1478, 3: 1214, 4: 1204, 5: 1100, 6: 926, 7: 740, 0: 684, 8: 671})\n",
      "10 clusters:  Counter({1: 1992, 2: 1478, 4: 1204, 5: 1100, 6: 926, 7: 740, 3: 737, 0: 684, 8: 671, 9: 477})\n",
      "11 clusters:  Counter({1: 1992, 2: 1478, 4: 1204, 5: 1100, 6: 926, 7: 740, 0: 684, 8: 671, 9: 477, 10: 437, 3: 300})\n",
      "12 clusters:  Counter({1: 1992, 2: 1478, 4: 1204, 5: 1100, 6: 926, 7: 740, 0: 684, 8: 671, 9: 477, 10: 437, 3: 300})\n",
      "13 clusters:  Counter({1: 1992, 2: 1478, 4: 1204, 5: 1100, 6: 926, 7: 740, 0: 684, 8: 671, 9: 477, 10: 437, 3: 300})\n",
      "14 clusters:  Counter({1: 1992, 2: 1478, 4: 1204, 5: 1100, 6: 926, 7: 740, 0: 684, 8: 671, 9: 477, 10: 437, 3: 300})\n",
      "15 clusters:  Counter({1: 1992, 2: 1478, 4: 1204, 5: 1100, 6: 926, 7: 740, 0: 684, 8: 671, 9: 477, 10: 437, 3: 300})\n"
     ]
    }
   ],
   "source": [
    "from collections import Counter\n",
    "\n",
    "for i in range(1, MAX_CLUSTERS+1):\n",
    "  print(str(i) + ' clusters: ', Counter(kms[i-1].labels_))"
   ]
  },
  {
   "cell_type": "code",
   "execution_count": 15,
   "id": "cbac925e-bc8d-4bcb-a7d6-c25fecba4166",
   "metadata": {},
   "outputs": [],
   "source": [
    "N_CLUSTERS = 10\n",
    "\n",
    "data['Cluster'] = kms[N_CLUSTERS - 1].labels_\n",
    "data_clusters = (data[['Title', 'Cluster']]\n",
    "                  .sort_values(by = ['Cluster'], ascending = False)\n",
    "                  .groupby('Cluster').head(10))\n",
    "data_clusters = data_clusters.copy(deep = True)"
   ]
  },
  {
   "cell_type": "code",
   "execution_count": 16,
   "id": "d4edd1ea-f4bb-44ac-a652-046804702a60",
   "metadata": {},
   "outputs": [
    {
     "name": "stdout",
     "output_type": "stream",
     "text": [
      "CLUSTER  1\n",
      "Popular Title: ['History of science', 'Thebes, Egypt', 'Caliphate of Córdoba', 'Wall Street Crash of 1929', 'Cretan War (1645–1669)', 'Lewis and Clark Expedition', 'Revolutions of 1848', 'Tibetan Empire', 'History of medicine', 'Collective farming']\n",
      "\n",
      "CLUSTER  2\n",
      "Popular Title: ['Ben Jonson', 'Diocletian', 'William I, German Emperor', 'Saint George', 'William Henry Bragg', 'Justus von Liebig', 'Tamar of Georgia', \"Georgia O'Keeffe\", 'Arthur Rimbaud', 'Modest Mussorgsky']\n",
      "\n",
      "CLUSTER  3\n",
      "Popular Title: ['Fungus', 'Snake', 'Fission (biology)', 'Weed', 'Sheep', 'Fat', 'Smilodon', 'Sexual dimorphism', 'African buffalo', 'Bleeding']\n",
      "\n",
      "CLUSTER  4\n",
      "Popular Title: ['Graph (discrete mathematics)', 'Subset', 'Axiom of choice', 'Ring (mathematics)', 'Riemann surface', 'Poincaré conjecture', 'Integer', \"Cauchy's integral formula\", 'Right angle', 'Classification of finite simple groups']\n",
      "\n",
      "CLUSTER  5\n",
      "Popular Title: ['Gulf of Thailand', 'Dnipro', 'Damietta', 'Apennine Mountains', 'Pakistan', 'Drakensberg', 'Athens', 'Libya', 'Greater Antilles', 'Australia']\n",
      "\n",
      "CLUSTER  6\n",
      "Popular Title: ['Stellar structure', 'Inorganic compound', 'Dust storm', 'Ultrasound', 'Francium', 'Velocity', 'Gallon', 'Jungle', 'Molecular orbital', 'Gain (electronics)']\n",
      "\n",
      "CLUSTER  7\n",
      "Popular Title: ['Endangered language', 'Fishing', 'Mind', 'Hausa language', 'Morpheme', 'Behaviorism', 'International Red Cross and Red Crescent Movement', 'Library of Alexandria', 'New Year', 'Derivative (finance)']\n",
      "\n",
      "CLUSTER  8\n",
      "Popular Title: ['Waveguide', 'Tower block', 'Video camera', 'Automotive engineering', 'Gas turbine', 'Battering ram', 'Fertilizer', 'Silo', 'Signal processing', 'Bathroom']\n",
      "\n",
      "CLUSTER  9\n",
      "Popular Title: ['Mime artist', 'Detective fiction', 'David (Michelangelo)', 'Anna Karenina', 'Shahnameh', 'Colosseum', 'Fashion', 'Xylophone', 'Surrealism', 'The Persistence of Memory']\n",
      "\n",
      "CLUSTER  10\n",
      "Popular Title: ['Bobsleigh', 'Ketchup', 'Super Bowl', 'Wallet', 'Party', 'Ski jumping', 'Sumo', 'Handball', 'Egg as food', 'Asexuality']\n",
      "\n"
     ]
    }
   ],
   "source": [
    "for cluster_num in range(N_CLUSTERS):\n",
    "    data_title = data_clusters[data_clusters['Cluster'] == cluster_num]['Title'].values.tolist()\n",
    "    print('CLUSTER ', cluster_num + 1)\n",
    "    print('Popular Title:', data_title)\n",
    "    print()"
   ]
  },
  {
   "cell_type": "code",
   "execution_count": 18,
   "id": "643ef053-86f9-4b3c-889e-84622e9d673b",
   "metadata": {},
   "outputs": [],
   "source": [
    "from numpy import dot\n",
    "from numpy.linalg import norm\n",
    "\n",
    "def cos_sim(a, b):\n",
    "    norm_a = norm(a)\n",
    "    norm_b = norm(b)\n",
    "    if norm_a == 0 or norm_b == 0:\n",
    "        return 0\n",
    "    return dot(a, b)/(norm_a*norm_b)\n",
    "\n",
    "def cosine_dist(dataId1, dataId2, data):\n",
    "    # Pass 'data' as an argument to the function\n",
    "    a = data.iloc[dataId1]\n",
    "    b = data.iloc[dataId2]\n",
    "    \n",
    "    genresA = a['Category_bin']\n",
    "    genresB = b['Category_bin']\n",
    "    genreDistance = 1- cos_sim(genresA, genresB)\n",
    "\n",
    "    wordsA = a['keywords_bin']\n",
    "    wordsB = b['keywords_bin']\n",
    "    wordsDistance = 1- cos_sim(wordsA, wordsB)\n",
    "       \n",
    "    # Add weights to each feature distance based on the importance of the feature\n",
    "    # The weights can be adjusted to fine-tune the results\n",
    "    dist = (genreDistance * 0.4 + wordsDistance * 0.2) \n",
    "    \n",
    "    return dist\n"
   ]
  },
  {
   "cell_type": "code",
   "execution_count": 19,
   "id": "4e58cc56-5fba-43eb-afe9-034f8dcd2b30",
   "metadata": {},
   "outputs": [
    {
     "name": "stdout",
     "output_type": "stream",
     "text": [
      "Title                                            Miguel Hidalgo y Costilla\n",
      "Article                  Don Miguel Gregorio Antonio Ignacio Hidalgo y ...\n",
      "Category                                                            People\n",
      "Summary                  Don Miguel Gregorio Antonio Ignacio Hidalgo y ...\n",
      "Article_clean            miguel gregorio antonio ignacio hidalgo costil...\n",
      "Summary_clean            miguel gregorio antonio ignacio hidalgo costil...\n",
      "Keywords_extracted       antonio ignacio hidalgo costilla insurg mexico...\n",
      "Keywords_list            ['antonio', 'ignacio', 'hidalgo', 'costilla', ...\n",
      "Category_bin             [1, 1, 1, 1, 1, 1, 1, 1, 1, 1, 1, 1, 1, 1, 1, ...\n",
      "Keywords_list_correct    ['antonio', 'ignacio', 'hidalgo', 'costilla', ...\n",
      "keywords_bin             [0, 0, 0, 0, 0, 0, 0, 0, 0, 0, 0, 0, 0, 0, 0, ...\n",
      "Cluster                                                                  1\n",
      "Name: 692, dtype: object\n"
     ]
    }
   ],
   "source": [
    "print(data.iloc[692])"
   ]
  },
  {
   "cell_type": "code",
   "execution_count": 20,
   "id": "c39795e0-d8d3-4efa-88ab-65fa7e7af5cd",
   "metadata": {},
   "outputs": [
    {
     "name": "stdout",
     "output_type": "stream",
     "text": [
      "Title                                                               Eating\n",
      "Article                  Eating (also known as consuming) is the ingest...\n",
      "Category                                                     Everyday_life\n",
      "Summary                  Eating (also known as consuming) is the ingest...\n",
      "Article_clean            eat also known consum ingest food typic provid...\n",
      "Summary_clean            eating also known consuming ingestion food typ...\n",
      "Keywords_extracted       eat consum ingest food hormon bodi hunger brai...\n",
      "Keywords_list            ['eat', 'consum', 'ingest', 'food', 'hormon', ...\n",
      "Category_bin             [0, 0, 0, 0, 0, 0, 0, 0, 0, 0, 0, 0, 0, 0, 0, ...\n",
      "Keywords_list_correct    ['eat', 'consum', 'ingest', 'food', 'hormon', ...\n",
      "keywords_bin             [0, 0, 0, 0, 0, 0, 0, 0, 0, 0, 0, 0, 0, 0, 0, ...\n",
      "Cluster                                                                  9\n",
      "Name: 4053, dtype: object\n"
     ]
    }
   ],
   "source": [
    "print(data.iloc[4053])"
   ]
  },
  {
   "cell_type": "code",
   "execution_count": 21,
   "id": "aa89d331-c3e6-4d77-a1bd-fcdf1afa0751",
   "metadata": {},
   "outputs": [],
   "source": [
    "cosine = cosine_dist(692, 4053, data)"
   ]
  },
  {
   "cell_type": "code",
   "execution_count": 22,
   "id": "3cf9bbc6-9f82-4278-9fb2-82c05f9b3262",
   "metadata": {},
   "outputs": [
    {
     "name": "stdout",
     "output_type": "stream",
     "text": [
      "Cosine similarity: 0.6\n"
     ]
    }
   ],
   "source": [
    "print('Cosine similarity: {}'.format(round(cosine, 4)))"
   ]
  },
  {
   "cell_type": "code",
   "execution_count": 23,
   "id": "9cb3df7d-1c74-46ca-ba7f-18922931aad7",
   "metadata": {},
   "outputs": [
    {
     "data": {
      "text/html": [
       "<div>\n",
       "<style scoped>\n",
       "    .dataframe tbody tr th:only-of-type {\n",
       "        vertical-align: middle;\n",
       "    }\n",
       "\n",
       "    .dataframe tbody tr th {\n",
       "        vertical-align: top;\n",
       "    }\n",
       "\n",
       "    .dataframe thead th {\n",
       "        text-align: right;\n",
       "    }\n",
       "</style>\n",
       "<table border=\"1\" class=\"dataframe\">\n",
       "  <thead>\n",
       "    <tr style=\"text-align: right;\">\n",
       "      <th></th>\n",
       "      <th>Title</th>\n",
       "      <th>Article</th>\n",
       "      <th>Category</th>\n",
       "      <th>Summary</th>\n",
       "      <th>Article_clean</th>\n",
       "      <th>Summary_clean</th>\n",
       "      <th>Keywords_extracted</th>\n",
       "      <th>Keywords_list</th>\n",
       "      <th>Category_bin</th>\n",
       "      <th>Keywords_list_correct</th>\n",
       "      <th>keywords_bin</th>\n",
       "      <th>Cluster</th>\n",
       "      <th>new_id</th>\n",
       "    </tr>\n",
       "  </thead>\n",
       "  <tbody>\n",
       "    <tr>\n",
       "      <th>0</th>\n",
       "      <td>Masaccio</td>\n",
       "      <td>Masaccio (UK: , US: , Italian: [maˈzattʃo]; De...</td>\n",
       "      <td>People</td>\n",
       "      <td>Masaccio (UK: , US: , Italian: [maˈzattʃo]; De...</td>\n",
       "      <td>masaccio italian decemb 1401 summer 1428 born ...</td>\n",
       "      <td>masaccio italian december 1401 summer 1428 bor...</td>\n",
       "      <td>masaccio italian paint work fresco perspect th...</td>\n",
       "      <td>['masaccio', 'italian', 'paint', 'work', 'fres...</td>\n",
       "      <td>[1, 1, 1, 1, 1, 1, 1, 1, 1, 1, 1, 1, 1, 1, 1, ...</td>\n",
       "      <td>['masaccio', 'italian', 'paint', 'work', 'fres...</td>\n",
       "      <td>[0, 0, 0, 0, 0, 0, 0, 0, 0, 0, 0, 0, 0, 0, 0, ...</td>\n",
       "      <td>1</td>\n",
       "      <td>0</td>\n",
       "    </tr>\n",
       "    <tr>\n",
       "      <th>1</th>\n",
       "      <td>Hokusai</td>\n",
       "      <td>Katsushika Hokusai (葛飾 北斎, c. 31 October 1760 ...</td>\n",
       "      <td>People</td>\n",
       "      <td>Katsushika Hokusai (葛飾 北斎, c. 31 October 1760 ...</td>\n",
       "      <td>katsushika hokusai octob 1760 may 1849 known s...</td>\n",
       "      <td>katsushika hokusai october 1760 may 1849 known...</td>\n",
       "      <td>hokusai octob japan art style isbn japanes uki...</td>\n",
       "      <td>['hokusai', 'octob', 'japan', 'art', 'style', ...</td>\n",
       "      <td>[1, 1, 1, 1, 1, 1, 1, 1, 1, 1, 1, 1, 1, 1, 1, ...</td>\n",
       "      <td>['hokusai', 'octob', 'japan', 'art', 'style', ...</td>\n",
       "      <td>[0, 0, 0, 0, 0, 0, 0, 0, 0, 0, 0, 0, 0, 0, 0, ...</td>\n",
       "      <td>1</td>\n",
       "      <td>1</td>\n",
       "    </tr>\n",
       "    <tr>\n",
       "      <th>2</th>\n",
       "      <td>Steven Spielberg</td>\n",
       "      <td>Steven Allan Spielberg  (; born December 18, 1...</td>\n",
       "      <td>People</td>\n",
       "      <td>Steven Allan Spielberg  (; born December 18, 1...</td>\n",
       "      <td>steven allan spielberg born decemb 1946 americ...</td>\n",
       "      <td>steven allan spielberg born december 1946 amer...</td>\n",
       "      <td>spielberg born decemb critic american film dir...</td>\n",
       "      <td>['spielberg', 'born', 'decemb', 'critic', 'ame...</td>\n",
       "      <td>[1, 1, 1, 1, 1, 1, 1, 1, 1, 1, 1, 1, 1, 1, 1, ...</td>\n",
       "      <td>['spielberg', 'born', 'decemb', 'critic', 'ame...</td>\n",
       "      <td>[0, 0, 0, 0, 0, 0, 0, 0, 0, 0, 0, 0, 0, 0, 0, ...</td>\n",
       "      <td>1</td>\n",
       "      <td>2</td>\n",
       "    </tr>\n",
       "    <tr>\n",
       "      <th>3</th>\n",
       "      <td>Che Guevara</td>\n",
       "      <td>Ernesto \"Che\" Guevara (Spanish: [ˈtʃe ɣeˈβaɾa]...</td>\n",
       "      <td>People</td>\n",
       "      <td>Ernesto \"Che\" Guevara (Spanish: [ˈtʃe ɣeˈβaɾa]...</td>\n",
       "      <td>ernesto che guevara spanish june 1928 octob 19...</td>\n",
       "      <td>ernesto che guevara spanish june 1928 october ...</td>\n",
       "      <td>ernesto che guevara spanish june thi cuba unit...</td>\n",
       "      <td>['ernesto', 'che', 'guevara', 'spanish', 'june...</td>\n",
       "      <td>[1, 1, 1, 1, 1, 1, 1, 1, 1, 1, 1, 1, 1, 1, 1, ...</td>\n",
       "      <td>['ernesto', 'che', 'guevara', 'spanish', 'june...</td>\n",
       "      <td>[0, 0, 0, 0, 0, 0, 0, 0, 0, 0, 0, 0, 0, 0, 0, ...</td>\n",
       "      <td>1</td>\n",
       "      <td>3</td>\n",
       "    </tr>\n",
       "    <tr>\n",
       "      <th>4</th>\n",
       "      <td>Jöns Jacob Berzelius</td>\n",
       "      <td>Baron Jöns Jacob Berzelius (Swedish: [jœns ˈjɑ...</td>\n",
       "      <td>People</td>\n",
       "      <td>Baron Jöns Jacob Berzelius (Swedish: [jœns ˈjɑ...</td>\n",
       "      <td>baron jacob berzeliu swedish contemporari name...</td>\n",
       "      <td>baron jacob berzelius swedish contemporary nam...</td>\n",
       "      <td>berzelius jacob berzeliu swedish work compound...</td>\n",
       "      <td>['berzelius', 'jacob', 'berzeliu', 'swedish', ...</td>\n",
       "      <td>[1, 1, 1, 1, 1, 1, 1, 1, 1, 1, 1, 1, 1, 1, 1, ...</td>\n",
       "      <td>['berzelius', 'jacob', 'berzeliu', 'swedish', ...</td>\n",
       "      <td>[0, 0, 0, 0, 0, 0, 0, 0, 0, 0, 0, 0, 0, 0, 0, ...</td>\n",
       "      <td>1</td>\n",
       "      <td>4</td>\n",
       "    </tr>\n",
       "  </tbody>\n",
       "</table>\n",
       "</div>"
      ],
      "text/plain": [
       "                   Title                                            Article  \\\n",
       "0               Masaccio  Masaccio (UK: , US: , Italian: [maˈzattʃo]; De...   \n",
       "1                Hokusai  Katsushika Hokusai (葛飾 北斎, c. 31 October 1760 ...   \n",
       "2       Steven Spielberg  Steven Allan Spielberg  (; born December 18, 1...   \n",
       "3            Che Guevara  Ernesto \"Che\" Guevara (Spanish: [ˈtʃe ɣeˈβaɾa]...   \n",
       "4  Jöns Jacob Berzelius  Baron Jöns Jacob Berzelius (Swedish: [jœns ˈjɑ...   \n",
       "\n",
       "  Category                                            Summary  \\\n",
       "0   People  Masaccio (UK: , US: , Italian: [maˈzattʃo]; De...   \n",
       "1   People  Katsushika Hokusai (葛飾 北斎, c. 31 October 1760 ...   \n",
       "2   People  Steven Allan Spielberg  (; born December 18, 1...   \n",
       "3   People  Ernesto \"Che\" Guevara (Spanish: [ˈtʃe ɣeˈβaɾa]...   \n",
       "4   People  Baron Jöns Jacob Berzelius (Swedish: [jœns ˈjɑ...   \n",
       "\n",
       "                                       Article_clean  \\\n",
       "0  masaccio italian decemb 1401 summer 1428 born ...   \n",
       "1  katsushika hokusai octob 1760 may 1849 known s...   \n",
       "2  steven allan spielberg born decemb 1946 americ...   \n",
       "3  ernesto che guevara spanish june 1928 octob 19...   \n",
       "4  baron jacob berzeliu swedish contemporari name...   \n",
       "\n",
       "                                       Summary_clean  \\\n",
       "0  masaccio italian december 1401 summer 1428 bor...   \n",
       "1  katsushika hokusai october 1760 may 1849 known...   \n",
       "2  steven allan spielberg born december 1946 amer...   \n",
       "3  ernesto che guevara spanish june 1928 october ...   \n",
       "4  baron jacob berzelius swedish contemporary nam...   \n",
       "\n",
       "                                  Keywords_extracted  \\\n",
       "0  masaccio italian paint work fresco perspect th...   \n",
       "1  hokusai octob japan art style isbn japanes uki...   \n",
       "2  spielberg born decemb critic american film dir...   \n",
       "3  ernesto che guevara spanish june thi cuba unit...   \n",
       "4  berzelius jacob berzeliu swedish work compound...   \n",
       "\n",
       "                                       Keywords_list  \\\n",
       "0  ['masaccio', 'italian', 'paint', 'work', 'fres...   \n",
       "1  ['hokusai', 'octob', 'japan', 'art', 'style', ...   \n",
       "2  ['spielberg', 'born', 'decemb', 'critic', 'ame...   \n",
       "3  ['ernesto', 'che', 'guevara', 'spanish', 'june...   \n",
       "4  ['berzelius', 'jacob', 'berzeliu', 'swedish', ...   \n",
       "\n",
       "                                        Category_bin  \\\n",
       "0  [1, 1, 1, 1, 1, 1, 1, 1, 1, 1, 1, 1, 1, 1, 1, ...   \n",
       "1  [1, 1, 1, 1, 1, 1, 1, 1, 1, 1, 1, 1, 1, 1, 1, ...   \n",
       "2  [1, 1, 1, 1, 1, 1, 1, 1, 1, 1, 1, 1, 1, 1, 1, ...   \n",
       "3  [1, 1, 1, 1, 1, 1, 1, 1, 1, 1, 1, 1, 1, 1, 1, ...   \n",
       "4  [1, 1, 1, 1, 1, 1, 1, 1, 1, 1, 1, 1, 1, 1, 1, ...   \n",
       "\n",
       "                               Keywords_list_correct  \\\n",
       "0  ['masaccio', 'italian', 'paint', 'work', 'fres...   \n",
       "1  ['hokusai', 'octob', 'japan', 'art', 'style', ...   \n",
       "2  ['spielberg', 'born', 'decemb', 'critic', 'ame...   \n",
       "3  ['ernesto', 'che', 'guevara', 'spanish', 'june...   \n",
       "4  ['berzelius', 'jacob', 'berzeliu', 'swedish', ...   \n",
       "\n",
       "                                        keywords_bin  Cluster  new_id  \n",
       "0  [0, 0, 0, 0, 0, 0, 0, 0, 0, 0, 0, 0, 0, 0, 0, ...        1       0  \n",
       "1  [0, 0, 0, 0, 0, 0, 0, 0, 0, 0, 0, 0, 0, 0, 0, ...        1       1  \n",
       "2  [0, 0, 0, 0, 0, 0, 0, 0, 0, 0, 0, 0, 0, 0, 0, ...        1       2  \n",
       "3  [0, 0, 0, 0, 0, 0, 0, 0, 0, 0, 0, 0, 0, 0, 0, ...        1       3  \n",
       "4  [0, 0, 0, 0, 0, 0, 0, 0, 0, 0, 0, 0, 0, 0, 0, ...        1       4  "
      ]
     },
     "execution_count": 23,
     "metadata": {},
     "output_type": "execute_result"
    }
   ],
   "source": [
    "new_id = list(range(0, data.shape[0]))\n",
    "data['new_id'] = new_id\n",
    "data.head()"
   ]
  },
  {
   "cell_type": "code",
   "execution_count": 26,
   "id": "f5041ba3-8f25-4ad3-af77-fbea789b6867",
   "metadata": {},
   "outputs": [],
   "source": [
    "import operator\n",
    "\n",
    "def get_neighbors(basedata, K, data):\n",
    "    distances = []\n",
    "    \n",
    "    for index, data1 in data.iterrows():\n",
    "        if (data1['new_id'] != basedata['new_id'] and data1['Cluster'] == basedata['Cluster']):\n",
    "            dist = cosine_dist(basedata['new_id'], data1['new_id'], data)\n",
    "            distances.append((data1['new_id'], dist))\n",
    "    \n",
    "    distances.sort(key = operator.itemgetter(1))\n",
    "    neighbors = []\n",
    "    \n",
    "    for x in range(K):\n",
    "        neighbors.append(distances[x])\n",
    "    return neighbors\n",
    "\n",
    "def get_recommendations(name, data):\n",
    "    new_data = data[data['Title'] == name].iloc[0]\n",
    "    print('Title: ', new_data.Title)\n",
    "    \n",
    "    category = new_data.Category\n",
    "    keywords_list = new_data.Keywords_list.split()\n",
    "\n",
    "    K = 10\n",
    "    neighbors = get_neighbors(new_data, K, data)\n",
    "    \n",
    "    print('\\nRecommended articles: \\n')\n",
    "    recommended_articles = []\n",
    "    for neighbor in neighbors:\n",
    "        data1 = data.iloc[neighbor[0]]\n",
    "        if data1['Category'] == category:\n",
    "            count = 0\n",
    "            for word in keywords_list:\n",
    "                if word in data1['Keywords_list']:\n",
    "                    count += 1\n",
    "            if count >= 5:\n",
    "                recommended_articles.append(data1['Title'])\n",
    "    if len(recommended_articles) == 0:\n",
    "        print('Sorry, we could not find any articles matching both category and keyword.')\n",
    "    else:\n",
    "        for article in recommended_articles:\n",
    "            print(article)"
   ]
  },
  {
   "cell_type": "code",
   "execution_count": 27,
   "id": "0ac3590f-c996-4233-9dca-f8a05a3485b1",
   "metadata": {},
   "outputs": [
    {
     "name": "stdout",
     "output_type": "stream",
     "text": [
      "Title:  Hokusai\n",
      "\n",
      "Recommended articles: \n",
      "\n",
      "Masaccio\n",
      "Steven Spielberg\n",
      "Jöns Jacob Berzelius\n",
      "Harriet Tubman\n"
     ]
    }
   ],
   "source": [
    "# Enter a title:\n",
    "name = 'Hokusai'\n",
    "\n",
    "get_recommendations(name, data)"
   ]
  },
  {
   "cell_type": "code",
   "execution_count": null,
   "id": "7d65fffa-c549-47e2-9424-e09b095fb36e",
   "metadata": {},
   "outputs": [],
   "source": []
  }
 ],
 "metadata": {
  "kernelspec": {
   "display_name": "Python 3 (ipykernel)",
   "language": "python",
   "name": "python3"
  },
  "language_info": {
   "codemirror_mode": {
    "name": "ipython",
    "version": 3
   },
   "file_extension": ".py",
   "mimetype": "text/x-python",
   "name": "python",
   "nbconvert_exporter": "python",
   "pygments_lexer": "ipython3",
   "version": "3.9.12"
  }
 },
 "nbformat": 4,
 "nbformat_minor": 5
}

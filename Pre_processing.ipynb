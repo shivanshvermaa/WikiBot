{
  "nbformat": 4,
  "nbformat_minor": 0,
  "metadata": {
    "colab": {
      "provenance": []
    },
    "kernelspec": {
      "name": "python3",
      "display_name": "Python 3"
    },
    "language_info": {
      "name": "python"
    },
    "gpuClass": "standard"
  },
  "cells": [
    {
      "cell_type": "code",
      "execution_count": 1,
      "metadata": {
        "colab": {
          "base_uri": "https://localhost:8080/"
        },
        "id": "OcWFFlhnq-mw",
        "outputId": "3df665f2-47b6-485c-b00e-1d61f6a18016"
      },
      "outputs": [
        {
          "output_type": "stream",
          "name": "stdout",
          "text": [
            "Drive already mounted at /content/drive/; to attempt to forcibly remount, call drive.mount(\"/content/drive/\", force_remount=True).\n"
          ]
        }
      ],
      "source": [
        "import zipfile\n",
        "from google.colab import drive\n",
        "\n",
        "drive.mount('/content/drive/')\n",
        "\n",
        "# zip_ref = zipfile.ZipFile(\"/content/drive/My Drive/dataset-updated.zip\", 'r')\n",
        "# zip_ref.extractall(\"/tmp\")\n",
        "# zip_ref.close()"
      ]
    },
    {
      "cell_type": "code",
      "source": [
        "## for data\n",
        "import pandas as pd  #(0.25.1)\n",
        "import numpy  #(1.16.4)\n",
        "## for plotting\n",
        "import matplotlib.pyplot as plt  #(3.1.2)\n",
        "import seaborn as sns  #(0.9.0)\n",
        "## for preprocessing\n",
        "import re\n",
        "import nltk  #(3.4.5)\n",
        "import contractions  #(0.0.18)\n",
        "## for textrank\n",
        "import gensim  #(3.8.1)\n",
        "## for evaluation\n",
        "import rouge  #(1.0.0)\n",
        "import difflib\n",
        "## for seq2seq\n",
        "from tensorflow.keras import callbacks, models, layers, preprocessing as kprocessing #(2.6.0)\n",
        "## for bart\n",
        "import transformers  #(3.0.1)\n",
        "import os\n",
        "import glob\n",
        "from tqdm import tqdm"
      ],
      "metadata": {
        "id": "IZ8kcsFurUSn"
      },
      "execution_count": 2,
      "outputs": []
    },
    {
      "cell_type": "code",
      "source": [
        "dataset_path = \"/content/drive/MyDrive/dataset-updated\""
      ],
      "metadata": {
        "id": "SVEuRDzer-sr"
      },
      "execution_count": null,
      "outputs": []
    },
    {
      "cell_type": "code",
      "source": [
        "categories = os.listdir(dataset_path)\n",
        "#categories"
      ],
      "metadata": {
        "id": "A5-lyOErsVU5"
      },
      "execution_count": null,
      "outputs": []
    },
    {
      "cell_type": "code",
      "source": [
        "\n",
        "print(\"Reading the data\")\n",
        "wiki_data = { \"Title\": [] , \"Article\" : [] , \"Category\" : []  , \"Summary\" : []}\n",
        "for category in tqdm(categories):\n",
        "    article_path = dataset_path+\"/\"+category+\"/Article/\"\n",
        "    summary_path = dataset_path+\"/\"+category+\"/Summary/\"\n",
        "\n",
        "    for file in glob.glob(article_path+\"/*.txt\"):\n",
        "        file_name = os.path.basename(file)\n",
        "        title = file_name.replace(\".txt\",\"\")\n",
        "\n",
        "        with open(file,'r') as f:        \n",
        "            wiki_data[\"Article\"].append(f.read())\n",
        "            wiki_data[\"Category\"].append(category)\n",
        "\n",
        "        with open(summary_path+file_name,'r') as f:        \n",
        "            wiki_data[\"Summary\"].append(f.read())\n",
        "            wiki_data[\"Title\"].append(title)\n"
      ],
      "metadata": {
        "colab": {
          "base_uri": "https://localhost:8080/"
        },
        "id": "wb1UoomBDnmq",
        "outputId": "22e4d79e-961b-4d84-a8c1-1a922e50017e"
      },
      "execution_count": null,
      "outputs": [
        {
          "output_type": "stream",
          "name": "stdout",
          "text": [
            "Reading the data\n"
          ]
        },
        {
          "output_type": "stream",
          "name": "stderr",
          "text": [
            "100%|██████████| 9/9 [25:12<00:00, 168.04s/it]\n"
          ]
        }
      ]
    },
    {
      "cell_type": "code",
      "source": [
        "print(\"Creating the dataframe\")\n",
        "wikiDF = pd.DataFrame( data = wiki_data )\n",
        "wikiDF.reset_index(drop=True, inplace=True)"
      ],
      "metadata": {
        "id": "S5mhQFnvsrOn",
        "colab": {
          "base_uri": "https://localhost:8080/"
        },
        "outputId": "9650f4e5-6722-4f29-8a87-0fe0db3b0680"
      },
      "execution_count": null,
      "outputs": [
        {
          "output_type": "stream",
          "name": "stdout",
          "text": [
            "Creating the dataframe\n"
          ]
        }
      ]
    },
    {
      "cell_type": "code",
      "source": [
        "print(\"Saving the data in CSV\")\n",
        "wikiDF.to_csv(\"Wikipedia-Level-4-Articles.csv\")"
      ],
      "metadata": {
        "colab": {
          "base_uri": "https://localhost:8080/"
        },
        "id": "FW7AAqNXD_3o",
        "outputId": "5a0c8e71-5f61-4aad-a842-d52b282c70db"
      },
      "execution_count": null,
      "outputs": [
        {
          "output_type": "stream",
          "name": "stdout",
          "text": [
            "Saving the data in CSV\n"
          ]
        }
      ]
    },
    {
      "cell_type": "code",
      "source": [
        "data = pd.read_csv('/content/drive/MyDrive/Wikipedia-Level-4-Articles.csv')"
      ],
      "metadata": {
        "id": "HbuU-yxfJ--T"
      },
      "execution_count": 3,
      "outputs": []
    },
    {
      "cell_type": "code",
      "source": [
        "data.head(5)"
      ],
      "metadata": {
        "colab": {
          "base_uri": "https://localhost:8080/",
          "height": 354
        },
        "id": "jXmJen4rKHcA",
        "outputId": "1c7d0841-f553-4323-f511-f2eaf344328b"
      },
      "execution_count": 12,
      "outputs": [
        {
          "output_type": "execute_result",
          "data": {
            "text/plain": [
              "   Unnamed: 0                      Title  \\\n",
              "0           0                  Ecumenism   \n",
              "1           1       Eastern Christianity   \n",
              "2           2    Eastern Orthodox Church   \n",
              "3           3  Eastern Catholic Churches   \n",
              "4           4                      Druze   \n",
              "\n",
              "                                             Article                 Category  \\\n",
              "0  Ecumenism (), also spelled oecumenism,  is the...  Philosophy_and_religion   \n",
              "1  Eastern Christianity comprises Christian tradi...  Philosophy_and_religion   \n",
              "2  The Eastern Orthodox Church, also called the O...  Philosophy_and_religion   \n",
              "3  The Eastern Catholic Churches or Oriental Cath...  Philosophy_and_religion   \n",
              "4  The Druze (; Arabic: دَرْزِيٌّ, darzī or Arabi...  Philosophy_and_religion   \n",
              "\n",
              "                                             Summary  \\\n",
              "0  Ecumenism (), also spelled oecumenism,  is the...   \n",
              "1  Eastern Christianity comprises Christian tradi...   \n",
              "2  The Eastern Orthodox Church, also called the O...   \n",
              "3  The Eastern Catholic Churches or Oriental Cath...   \n",
              "4  The Druze (; Arabic: دَرْزِيٌّ, darzī or Arabi...   \n",
              "\n",
              "                                         CleanedText  \n",
              "0  ecumen also spell oecumen concept principl chr...  \n",
              "1  eastern christian compris christian tradit chu...  \n",
              "2  eastern orthodox church also call orthodox chu...  \n",
              "3  eastern cathol church orient cathol church als...  \n",
              "4  druze arab درزي darzī arab درزي durzī pl دروز ...  "
            ],
            "text/html": [
              "\n",
              "  <div id=\"df-821b9dcb-0fbb-4646-b97d-d629b2d11eb6\">\n",
              "    <div class=\"colab-df-container\">\n",
              "      <div>\n",
              "<style scoped>\n",
              "    .dataframe tbody tr th:only-of-type {\n",
              "        vertical-align: middle;\n",
              "    }\n",
              "\n",
              "    .dataframe tbody tr th {\n",
              "        vertical-align: top;\n",
              "    }\n",
              "\n",
              "    .dataframe thead th {\n",
              "        text-align: right;\n",
              "    }\n",
              "</style>\n",
              "<table border=\"1\" class=\"dataframe\">\n",
              "  <thead>\n",
              "    <tr style=\"text-align: right;\">\n",
              "      <th></th>\n",
              "      <th>Unnamed: 0</th>\n",
              "      <th>Title</th>\n",
              "      <th>Article</th>\n",
              "      <th>Category</th>\n",
              "      <th>Summary</th>\n",
              "      <th>CleanedText</th>\n",
              "    </tr>\n",
              "  </thead>\n",
              "  <tbody>\n",
              "    <tr>\n",
              "      <th>0</th>\n",
              "      <td>0</td>\n",
              "      <td>Ecumenism</td>\n",
              "      <td>Ecumenism (), also spelled oecumenism,  is the...</td>\n",
              "      <td>Philosophy_and_religion</td>\n",
              "      <td>Ecumenism (), also spelled oecumenism,  is the...</td>\n",
              "      <td>ecumen also spell oecumen concept principl chr...</td>\n",
              "    </tr>\n",
              "    <tr>\n",
              "      <th>1</th>\n",
              "      <td>1</td>\n",
              "      <td>Eastern Christianity</td>\n",
              "      <td>Eastern Christianity comprises Christian tradi...</td>\n",
              "      <td>Philosophy_and_religion</td>\n",
              "      <td>Eastern Christianity comprises Christian tradi...</td>\n",
              "      <td>eastern christian compris christian tradit chu...</td>\n",
              "    </tr>\n",
              "    <tr>\n",
              "      <th>2</th>\n",
              "      <td>2</td>\n",
              "      <td>Eastern Orthodox Church</td>\n",
              "      <td>The Eastern Orthodox Church, also called the O...</td>\n",
              "      <td>Philosophy_and_religion</td>\n",
              "      <td>The Eastern Orthodox Church, also called the O...</td>\n",
              "      <td>eastern orthodox church also call orthodox chu...</td>\n",
              "    </tr>\n",
              "    <tr>\n",
              "      <th>3</th>\n",
              "      <td>3</td>\n",
              "      <td>Eastern Catholic Churches</td>\n",
              "      <td>The Eastern Catholic Churches or Oriental Cath...</td>\n",
              "      <td>Philosophy_and_religion</td>\n",
              "      <td>The Eastern Catholic Churches or Oriental Cath...</td>\n",
              "      <td>eastern cathol church orient cathol church als...</td>\n",
              "    </tr>\n",
              "    <tr>\n",
              "      <th>4</th>\n",
              "      <td>4</td>\n",
              "      <td>Druze</td>\n",
              "      <td>The Druze (; Arabic: دَرْزِيٌّ, darzī or Arabi...</td>\n",
              "      <td>Philosophy_and_religion</td>\n",
              "      <td>The Druze (; Arabic: دَرْزِيٌّ, darzī or Arabi...</td>\n",
              "      <td>druze arab درزي darzī arab درزي durzī pl دروز ...</td>\n",
              "    </tr>\n",
              "  </tbody>\n",
              "</table>\n",
              "</div>\n",
              "      <button class=\"colab-df-convert\" onclick=\"convertToInteractive('df-821b9dcb-0fbb-4646-b97d-d629b2d11eb6')\"\n",
              "              title=\"Convert this dataframe to an interactive table.\"\n",
              "              style=\"display:none;\">\n",
              "        \n",
              "  <svg xmlns=\"http://www.w3.org/2000/svg\" height=\"24px\"viewBox=\"0 0 24 24\"\n",
              "       width=\"24px\">\n",
              "    <path d=\"M0 0h24v24H0V0z\" fill=\"none\"/>\n",
              "    <path d=\"M18.56 5.44l.94 2.06.94-2.06 2.06-.94-2.06-.94-.94-2.06-.94 2.06-2.06.94zm-11 1L8.5 8.5l.94-2.06 2.06-.94-2.06-.94L8.5 2.5l-.94 2.06-2.06.94zm10 10l.94 2.06.94-2.06 2.06-.94-2.06-.94-.94-2.06-.94 2.06-2.06.94z\"/><path d=\"M17.41 7.96l-1.37-1.37c-.4-.4-.92-.59-1.43-.59-.52 0-1.04.2-1.43.59L10.3 9.45l-7.72 7.72c-.78.78-.78 2.05 0 2.83L4 21.41c.39.39.9.59 1.41.59.51 0 1.02-.2 1.41-.59l7.78-7.78 2.81-2.81c.8-.78.8-2.07 0-2.86zM5.41 20L4 18.59l7.72-7.72 1.47 1.35L5.41 20z\"/>\n",
              "  </svg>\n",
              "      </button>\n",
              "      \n",
              "  <style>\n",
              "    .colab-df-container {\n",
              "      display:flex;\n",
              "      flex-wrap:wrap;\n",
              "      gap: 12px;\n",
              "    }\n",
              "\n",
              "    .colab-df-convert {\n",
              "      background-color: #E8F0FE;\n",
              "      border: none;\n",
              "      border-radius: 50%;\n",
              "      cursor: pointer;\n",
              "      display: none;\n",
              "      fill: #1967D2;\n",
              "      height: 32px;\n",
              "      padding: 0 0 0 0;\n",
              "      width: 32px;\n",
              "    }\n",
              "\n",
              "    .colab-df-convert:hover {\n",
              "      background-color: #E2EBFA;\n",
              "      box-shadow: 0px 1px 2px rgba(60, 64, 67, 0.3), 0px 1px 3px 1px rgba(60, 64, 67, 0.15);\n",
              "      fill: #174EA6;\n",
              "    }\n",
              "\n",
              "    [theme=dark] .colab-df-convert {\n",
              "      background-color: #3B4455;\n",
              "      fill: #D2E3FC;\n",
              "    }\n",
              "\n",
              "    [theme=dark] .colab-df-convert:hover {\n",
              "      background-color: #434B5C;\n",
              "      box-shadow: 0px 1px 3px 1px rgba(0, 0, 0, 0.15);\n",
              "      filter: drop-shadow(0px 1px 2px rgba(0, 0, 0, 0.3));\n",
              "      fill: #FFFFFF;\n",
              "    }\n",
              "  </style>\n",
              "\n",
              "      <script>\n",
              "        const buttonEl =\n",
              "          document.querySelector('#df-821b9dcb-0fbb-4646-b97d-d629b2d11eb6 button.colab-df-convert');\n",
              "        buttonEl.style.display =\n",
              "          google.colab.kernel.accessAllowed ? 'block' : 'none';\n",
              "\n",
              "        async function convertToInteractive(key) {\n",
              "          const element = document.querySelector('#df-821b9dcb-0fbb-4646-b97d-d629b2d11eb6');\n",
              "          const dataTable =\n",
              "            await google.colab.kernel.invokeFunction('convertToInteractive',\n",
              "                                                     [key], {});\n",
              "          if (!dataTable) return;\n",
              "\n",
              "          const docLinkHtml = 'Like what you see? Visit the ' +\n",
              "            '<a target=\"_blank\" href=https://colab.research.google.com/notebooks/data_table.ipynb>data table notebook</a>'\n",
              "            + ' to learn more about interactive tables.';\n",
              "          element.innerHTML = '';\n",
              "          dataTable['output_type'] = 'display_data';\n",
              "          await google.colab.output.renderOutput(dataTable, element);\n",
              "          const docLink = document.createElement('div');\n",
              "          docLink.innerHTML = docLinkHtml;\n",
              "          element.appendChild(docLink);\n",
              "        }\n",
              "      </script>\n",
              "    </div>\n",
              "  </div>\n",
              "  "
            ]
          },
          "metadata": {},
          "execution_count": 12
        }
      ]
    },
    {
      "cell_type": "code",
      "source": [
        "import nltk\n",
        "nltk.download('stopwords')\n",
        "nltk.download('wordnet')"
      ],
      "metadata": {
        "colab": {
          "base_uri": "https://localhost:8080/"
        },
        "id": "D_K10M1TKXot",
        "outputId": "6bfc62a7-10b6-46d4-b836-512ffc35aff8"
      },
      "execution_count": 5,
      "outputs": [
        {
          "output_type": "stream",
          "name": "stderr",
          "text": [
            "[nltk_data] Downloading package stopwords to /root/nltk_data...\n",
            "[nltk_data]   Package stopwords is already up-to-date!\n",
            "[nltk_data] Downloading package wordnet to /root/nltk_data...\n",
            "[nltk_data]   Package wordnet is already up-to-date!\n"
          ]
        },
        {
          "output_type": "execute_result",
          "data": {
            "text/plain": [
              "True"
            ]
          },
          "metadata": {},
          "execution_count": 5
        }
      ]
    },
    {
      "cell_type": "code",
      "source": [
        "## create stopwords\n",
        "lst_stopwords = nltk.corpus.stopwords.words(\"english\")\n",
        "## add words that are too frequent\n",
        "lst_stopwords = lst_stopwords + [\"cnn\",\"say\",\"said\",\"new\"]\n",
        "\n",
        "## cleaning function\n",
        "def utils_preprocess_text(txt):\n",
        "    punkt=True\n",
        "    lower=True\n",
        "    slang=True\n",
        "    lst_stopword=True\n",
        "    stemm=True\n",
        "    lemm=True\n",
        "    ### separate sentences with '. '\n",
        "    txt = re.sub(r'\\.(?=[^ \\W\\d])', '. ', str(txt))\n",
        "    ### remove punctuations and characters\n",
        "    txt = re.sub(r'[^\\w\\s]', '', txt) if punkt is True else txt\n",
        "    ### strip\n",
        "    txt = \" \".join([word.strip() for word in txt.split()])\n",
        "    ### lowercase\n",
        "    txt = txt.lower() if lower is True else txt\n",
        "    ### slang\n",
        "    txt = contractions.fix(txt) if slang is True else txt   \n",
        "    ### tokenize (convert from string to list)\n",
        "    lst_txt = txt.split()\n",
        "    ### stemming (remove -ing, -ly, ...)\n",
        "    if stemm is True:\n",
        "        ps = nltk.stem.porter.PorterStemmer()\n",
        "        lst_txt = [ps.stem(word) for word in lst_txt]\n",
        "    ### lemmatization (convert the word into root word)\n",
        "    if lemm is True:\n",
        "        lem = nltk.stem.wordnet.WordNetLemmatizer()\n",
        "        lst_txt = [lem.lemmatize(word) for word in lst_txt]\n",
        "    ### remove Stopwords\n",
        "    if lst_stopwords is not None:\n",
        "        lst_txt = [word for word in lst_txt if word not in \n",
        "                   lst_stopwords]\n",
        "    ### back to string\n",
        "    txt = \" \".join(lst_txt)\n",
        "    return txt"
      ],
      "metadata": {
        "id": "2lyi4DrUKIys"
      },
      "execution_count": 6,
      "outputs": []
    },
    {
      "cell_type": "code",
      "source": [
        "text = data.iloc[0][\"Article\"]"
      ],
      "metadata": {
        "id": "j8KKqa9QKT-u"
      },
      "execution_count": 7,
      "outputs": []
    },
    {
      "cell_type": "code",
      "source": [
        "\n",
        "print(\"Cleaning the data\")\n",
        "data[\"CleanedText\"] = tqdm(data[\"Article\"].apply(utils_preprocess_text))\n"
      ],
      "metadata": {
        "colab": {
          "base_uri": "https://localhost:8080/"
        },
        "id": "-uvosbkXKfcE",
        "outputId": "70748d39-e76c-4d4d-8095-e6217da69842"
      },
      "execution_count": 8,
      "outputs": [
        {
          "output_type": "stream",
          "name": "stdout",
          "text": [
            "Cleaning the data\n"
          ]
        },
        {
          "output_type": "stream",
          "name": "stderr",
          "text": [
            "100%|██████████| 7869/7869 [00:00<00:00, 708839.36it/s]\n"
          ]
        }
      ]
    },
    {
      "cell_type": "code",
      "source": [
        "print(\"Saving the cleaned data in CSV\")\n",
        "data.to_csv(\"Wikipedia-Level-4-Articles-Cleaned.csv\")"
      ],
      "metadata": {
        "id": "2aqy5Z_VKjMR"
      },
      "execution_count": 9,
      "outputs": []
    },
    {
      "cell_type": "code",
      "source": [
        "cleaned_data = pd.read_csv('/content/Wikipedia-Level-4-Articles-Cleaned.csv')"
      ],
      "metadata": {
        "id": "mDINpGFgKqCM"
      },
      "execution_count": 10,
      "outputs": []
    },
    {
      "cell_type": "code",
      "source": [
        "cleaned_data.drop(['Unnamed: 0.1', 'Unnamed: 0'], axis=1)"
      ],
      "metadata": {
        "id": "Juv2GCBHKqH9",
        "colab": {
          "base_uri": "https://localhost:8080/",
          "height": 641
        },
        "outputId": "d42a21a7-d293-4ced-f063-71eca90fbba6"
      },
      "execution_count": 13,
      "outputs": [
        {
          "output_type": "execute_result",
          "data": {
            "text/plain": [
              "                          Title  \\\n",
              "0                     Ecumenism   \n",
              "1          Eastern Christianity   \n",
              "2       Eastern Orthodox Church   \n",
              "3     Eastern Catholic Churches   \n",
              "4                         Druze   \n",
              "...                         ...   \n",
              "7864     RomanΓÇôPersian Wars   \n",
              "7865                   Sabaeans   \n",
              "7866          Russian Civil War   \n",
              "7867         Russian Revolution   \n",
              "7868             Russian Empire   \n",
              "\n",
              "                                                Article  \\\n",
              "0     Ecumenism (), also spelled oecumenism,  is the...   \n",
              "1     Eastern Christianity comprises Christian tradi...   \n",
              "2     The Eastern Orthodox Church, also called the O...   \n",
              "3     The Eastern Catholic Churches or Oriental Cath...   \n",
              "4     The Druze (; Arabic: دَرْزِيٌّ, darzī or Arabi...   \n",
              "...                                                 ...   \n",
              "7864  The Roman–Persian Wars, also known as the Roma...   \n",
              "7865  The Sabaeans or Sabeans (Sabaean: 𐩪𐩨𐩱, S¹Bʾ; A...   \n",
              "7866  The Russian Civil War (Russian: Гражданская во...   \n",
              "7867  The Russian Revolution was a period of politic...   \n",
              "7868  The Russian Empire was an empire and the final...   \n",
              "\n",
              "                     Category  \\\n",
              "0     Philosophy_and_religion   \n",
              "1     Philosophy_and_religion   \n",
              "2     Philosophy_and_religion   \n",
              "3     Philosophy_and_religion   \n",
              "4     Philosophy_and_religion   \n",
              "...                       ...   \n",
              "7864                  History   \n",
              "7865                  History   \n",
              "7866                  History   \n",
              "7867                  History   \n",
              "7868                  History   \n",
              "\n",
              "                                                Summary  \\\n",
              "0     Ecumenism (), also spelled oecumenism,  is the...   \n",
              "1     Eastern Christianity comprises Christian tradi...   \n",
              "2     The Eastern Orthodox Church, also called the O...   \n",
              "3     The Eastern Catholic Churches or Oriental Cath...   \n",
              "4     The Druze (; Arabic: دَرْزِيٌّ, darzī or Arabi...   \n",
              "...                                                 ...   \n",
              "7864  The Roman–Persian Wars, also known as the Roma...   \n",
              "7865  The Sabaeans or Sabeans (Sabaean: 𐩪𐩨𐩱, S¹Bʾ; A...   \n",
              "7866  The Russian Civil War (Russian: Гражданская во...   \n",
              "7867  The Russian Revolution was a period of politic...   \n",
              "7868  The Russian Empire was an empire and the final...   \n",
              "\n",
              "                                            CleanedText  \n",
              "0     ecumen also spell oecumen concept principl chr...  \n",
              "1     eastern christian compris christian tradit chu...  \n",
              "2     eastern orthodox church also call orthodox chu...  \n",
              "3     eastern cathol church orient cathol church als...  \n",
              "4     druze arab درزي darzī arab درزي durzī pl دروز ...  \n",
              "...                                                 ...  \n",
              "7864  romanpersian war also known romaniranian war s...  \n",
              "7865  sabaean sabean sabaean 𐩪𐩨𐩱 s¹bʾ arab ٱلسبئيون ...  \n",
              "7866  russian civil war russian гражданская война в ...  \n",
              "7867  russian revolut wa period polit social revolut...  \n",
              "7868  russian empir wa empir final period russian mo...  \n",
              "\n",
              "[7869 rows x 5 columns]"
            ],
            "text/html": [
              "\n",
              "  <div id=\"df-6572c670-a99d-4df6-b034-f2bb97fdf5f9\">\n",
              "    <div class=\"colab-df-container\">\n",
              "      <div>\n",
              "<style scoped>\n",
              "    .dataframe tbody tr th:only-of-type {\n",
              "        vertical-align: middle;\n",
              "    }\n",
              "\n",
              "    .dataframe tbody tr th {\n",
              "        vertical-align: top;\n",
              "    }\n",
              "\n",
              "    .dataframe thead th {\n",
              "        text-align: right;\n",
              "    }\n",
              "</style>\n",
              "<table border=\"1\" class=\"dataframe\">\n",
              "  <thead>\n",
              "    <tr style=\"text-align: right;\">\n",
              "      <th></th>\n",
              "      <th>Title</th>\n",
              "      <th>Article</th>\n",
              "      <th>Category</th>\n",
              "      <th>Summary</th>\n",
              "      <th>CleanedText</th>\n",
              "    </tr>\n",
              "  </thead>\n",
              "  <tbody>\n",
              "    <tr>\n",
              "      <th>0</th>\n",
              "      <td>Ecumenism</td>\n",
              "      <td>Ecumenism (), also spelled oecumenism,  is the...</td>\n",
              "      <td>Philosophy_and_religion</td>\n",
              "      <td>Ecumenism (), also spelled oecumenism,  is the...</td>\n",
              "      <td>ecumen also spell oecumen concept principl chr...</td>\n",
              "    </tr>\n",
              "    <tr>\n",
              "      <th>1</th>\n",
              "      <td>Eastern Christianity</td>\n",
              "      <td>Eastern Christianity comprises Christian tradi...</td>\n",
              "      <td>Philosophy_and_religion</td>\n",
              "      <td>Eastern Christianity comprises Christian tradi...</td>\n",
              "      <td>eastern christian compris christian tradit chu...</td>\n",
              "    </tr>\n",
              "    <tr>\n",
              "      <th>2</th>\n",
              "      <td>Eastern Orthodox Church</td>\n",
              "      <td>The Eastern Orthodox Church, also called the O...</td>\n",
              "      <td>Philosophy_and_religion</td>\n",
              "      <td>The Eastern Orthodox Church, also called the O...</td>\n",
              "      <td>eastern orthodox church also call orthodox chu...</td>\n",
              "    </tr>\n",
              "    <tr>\n",
              "      <th>3</th>\n",
              "      <td>Eastern Catholic Churches</td>\n",
              "      <td>The Eastern Catholic Churches or Oriental Cath...</td>\n",
              "      <td>Philosophy_and_religion</td>\n",
              "      <td>The Eastern Catholic Churches or Oriental Cath...</td>\n",
              "      <td>eastern cathol church orient cathol church als...</td>\n",
              "    </tr>\n",
              "    <tr>\n",
              "      <th>4</th>\n",
              "      <td>Druze</td>\n",
              "      <td>The Druze (; Arabic: دَرْزِيٌّ, darzī or Arabi...</td>\n",
              "      <td>Philosophy_and_religion</td>\n",
              "      <td>The Druze (; Arabic: دَرْزِيٌّ, darzī or Arabi...</td>\n",
              "      <td>druze arab درزي darzī arab درزي durzī pl دروز ...</td>\n",
              "    </tr>\n",
              "    <tr>\n",
              "      <th>...</th>\n",
              "      <td>...</td>\n",
              "      <td>...</td>\n",
              "      <td>...</td>\n",
              "      <td>...</td>\n",
              "      <td>...</td>\n",
              "    </tr>\n",
              "    <tr>\n",
              "      <th>7864</th>\n",
              "      <td>RomanΓÇôPersian Wars</td>\n",
              "      <td>The Roman–Persian Wars, also known as the Roma...</td>\n",
              "      <td>History</td>\n",
              "      <td>The Roman–Persian Wars, also known as the Roma...</td>\n",
              "      <td>romanpersian war also known romaniranian war s...</td>\n",
              "    </tr>\n",
              "    <tr>\n",
              "      <th>7865</th>\n",
              "      <td>Sabaeans</td>\n",
              "      <td>The Sabaeans or Sabeans (Sabaean: 𐩪𐩨𐩱, S¹Bʾ; A...</td>\n",
              "      <td>History</td>\n",
              "      <td>The Sabaeans or Sabeans (Sabaean: 𐩪𐩨𐩱, S¹Bʾ; A...</td>\n",
              "      <td>sabaean sabean sabaean 𐩪𐩨𐩱 s¹bʾ arab ٱلسبئيون ...</td>\n",
              "    </tr>\n",
              "    <tr>\n",
              "      <th>7866</th>\n",
              "      <td>Russian Civil War</td>\n",
              "      <td>The Russian Civil War (Russian: Гражданская во...</td>\n",
              "      <td>History</td>\n",
              "      <td>The Russian Civil War (Russian: Гражданская во...</td>\n",
              "      <td>russian civil war russian гражданская война в ...</td>\n",
              "    </tr>\n",
              "    <tr>\n",
              "      <th>7867</th>\n",
              "      <td>Russian Revolution</td>\n",
              "      <td>The Russian Revolution was a period of politic...</td>\n",
              "      <td>History</td>\n",
              "      <td>The Russian Revolution was a period of politic...</td>\n",
              "      <td>russian revolut wa period polit social revolut...</td>\n",
              "    </tr>\n",
              "    <tr>\n",
              "      <th>7868</th>\n",
              "      <td>Russian Empire</td>\n",
              "      <td>The Russian Empire was an empire and the final...</td>\n",
              "      <td>History</td>\n",
              "      <td>The Russian Empire was an empire and the final...</td>\n",
              "      <td>russian empir wa empir final period russian mo...</td>\n",
              "    </tr>\n",
              "  </tbody>\n",
              "</table>\n",
              "<p>7869 rows × 5 columns</p>\n",
              "</div>\n",
              "      <button class=\"colab-df-convert\" onclick=\"convertToInteractive('df-6572c670-a99d-4df6-b034-f2bb97fdf5f9')\"\n",
              "              title=\"Convert this dataframe to an interactive table.\"\n",
              "              style=\"display:none;\">\n",
              "        \n",
              "  <svg xmlns=\"http://www.w3.org/2000/svg\" height=\"24px\"viewBox=\"0 0 24 24\"\n",
              "       width=\"24px\">\n",
              "    <path d=\"M0 0h24v24H0V0z\" fill=\"none\"/>\n",
              "    <path d=\"M18.56 5.44l.94 2.06.94-2.06 2.06-.94-2.06-.94-.94-2.06-.94 2.06-2.06.94zm-11 1L8.5 8.5l.94-2.06 2.06-.94-2.06-.94L8.5 2.5l-.94 2.06-2.06.94zm10 10l.94 2.06.94-2.06 2.06-.94-2.06-.94-.94-2.06-.94 2.06-2.06.94z\"/><path d=\"M17.41 7.96l-1.37-1.37c-.4-.4-.92-.59-1.43-.59-.52 0-1.04.2-1.43.59L10.3 9.45l-7.72 7.72c-.78.78-.78 2.05 0 2.83L4 21.41c.39.39.9.59 1.41.59.51 0 1.02-.2 1.41-.59l7.78-7.78 2.81-2.81c.8-.78.8-2.07 0-2.86zM5.41 20L4 18.59l7.72-7.72 1.47 1.35L5.41 20z\"/>\n",
              "  </svg>\n",
              "      </button>\n",
              "      \n",
              "  <style>\n",
              "    .colab-df-container {\n",
              "      display:flex;\n",
              "      flex-wrap:wrap;\n",
              "      gap: 12px;\n",
              "    }\n",
              "\n",
              "    .colab-df-convert {\n",
              "      background-color: #E8F0FE;\n",
              "      border: none;\n",
              "      border-radius: 50%;\n",
              "      cursor: pointer;\n",
              "      display: none;\n",
              "      fill: #1967D2;\n",
              "      height: 32px;\n",
              "      padding: 0 0 0 0;\n",
              "      width: 32px;\n",
              "    }\n",
              "\n",
              "    .colab-df-convert:hover {\n",
              "      background-color: #E2EBFA;\n",
              "      box-shadow: 0px 1px 2px rgba(60, 64, 67, 0.3), 0px 1px 3px 1px rgba(60, 64, 67, 0.15);\n",
              "      fill: #174EA6;\n",
              "    }\n",
              "\n",
              "    [theme=dark] .colab-df-convert {\n",
              "      background-color: #3B4455;\n",
              "      fill: #D2E3FC;\n",
              "    }\n",
              "\n",
              "    [theme=dark] .colab-df-convert:hover {\n",
              "      background-color: #434B5C;\n",
              "      box-shadow: 0px 1px 3px 1px rgba(0, 0, 0, 0.15);\n",
              "      filter: drop-shadow(0px 1px 2px rgba(0, 0, 0, 0.3));\n",
              "      fill: #FFFFFF;\n",
              "    }\n",
              "  </style>\n",
              "\n",
              "      <script>\n",
              "        const buttonEl =\n",
              "          document.querySelector('#df-6572c670-a99d-4df6-b034-f2bb97fdf5f9 button.colab-df-convert');\n",
              "        buttonEl.style.display =\n",
              "          google.colab.kernel.accessAllowed ? 'block' : 'none';\n",
              "\n",
              "        async function convertToInteractive(key) {\n",
              "          const element = document.querySelector('#df-6572c670-a99d-4df6-b034-f2bb97fdf5f9');\n",
              "          const dataTable =\n",
              "            await google.colab.kernel.invokeFunction('convertToInteractive',\n",
              "                                                     [key], {});\n",
              "          if (!dataTable) return;\n",
              "\n",
              "          const docLinkHtml = 'Like what you see? Visit the ' +\n",
              "            '<a target=\"_blank\" href=https://colab.research.google.com/notebooks/data_table.ipynb>data table notebook</a>'\n",
              "            + ' to learn more about interactive tables.';\n",
              "          element.innerHTML = '';\n",
              "          dataTable['output_type'] = 'display_data';\n",
              "          await google.colab.output.renderOutput(dataTable, element);\n",
              "          const docLink = document.createElement('div');\n",
              "          docLink.innerHTML = docLinkHtml;\n",
              "          element.appendChild(docLink);\n",
              "        }\n",
              "      </script>\n",
              "    </div>\n",
              "  </div>\n",
              "  "
            ]
          },
          "metadata": {},
          "execution_count": 13
        }
      ]
    },
    {
      "cell_type": "code",
      "source": [
        "print(\"Saving the cleaned data in CSV\")\n",
        "cleaned_data.to_csv(\"Cleaned_Data.csv\")"
      ],
      "metadata": {
        "colab": {
          "base_uri": "https://localhost:8080/"
        },
        "id": "YGgshnEFTyAR",
        "outputId": "15375494-83ce-4ed3-99c2-ed3b3b8601fc"
      },
      "execution_count": 14,
      "outputs": [
        {
          "output_type": "stream",
          "name": "stdout",
          "text": [
            "Saving the cleaned data in CSV\n"
          ]
        }
      ]
    },
    {
      "cell_type": "code",
      "source": [],
      "metadata": {
        "id": "PDssq2LXUDDV"
      },
      "execution_count": null,
      "outputs": []
    }
  ]
}
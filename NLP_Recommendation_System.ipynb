{
  "nbformat": 4,
  "nbformat_minor": 0,
  "metadata": {
    "colab": {
      "provenance": [],
      "machine_shape": "hm"
    },
    "kernelspec": {
      "name": "python3",
      "display_name": "Python 3"
    },
    "language_info": {
      "name": "python"
    },
    "accelerator": "GPU",
    "gpuClass": "standard"
  },
  "cells": [
    {
      "cell_type": "code",
      "source": [
        "from google.colab import drive\n",
        "drive.mount('/content/drive')"
      ],
      "metadata": {
        "colab": {
          "base_uri": "https://localhost:8080/"
        },
        "id": "R2VKxYrj_Wsv",
        "outputId": "d269a262-35b6-4f65-d026-8893946a1afa"
      },
      "execution_count": 1,
      "outputs": [
        {
          "output_type": "stream",
          "name": "stdout",
          "text": [
            "Drive already mounted at /content/drive; to attempt to forcibly remount, call drive.mount(\"/content/drive\", force_remount=True).\n"
          ]
        }
      ]
    },
    {
      "cell_type": "code",
      "source": [
        "import pandas as pd\n",
        "from sklearn.feature_extraction.text import TfidfVectorizer\n",
        "from sklearn.metrics.pairwise import cosine_similarity"
      ],
      "metadata": {
        "id": "_jq9gaP2_gWr"
      },
      "execution_count": 2,
      "outputs": []
    },
    {
      "cell_type": "code",
      "source": [
        "data = pd.read_csv('/content/drive/MyDrive/Cleaned-Data-Keywords.csv')"
      ],
      "metadata": {
        "id": "fJ_-54OaAAdJ"
      },
      "execution_count": 3,
      "outputs": []
    },
    {
      "cell_type": "code",
      "source": [
        "data.info()"
      ],
      "metadata": {
        "colab": {
          "base_uri": "https://localhost:8080/"
        },
        "id": "suBWVLHoBfwY",
        "outputId": "cf9eb2e1-3ff7-4e51-caa5-9f32a0f793de"
      },
      "execution_count": 4,
      "outputs": [
        {
          "output_type": "stream",
          "name": "stdout",
          "text": [
            "<class 'pandas.core.frame.DataFrame'>\n",
            "RangeIndex: 5004 entries, 0 to 5003\n",
            "Data columns (total 9 columns):\n",
            " #   Column         Non-Null Count  Dtype \n",
            "---  ------         --------------  ----- \n",
            " 0   Unnamed: 0.1   5004 non-null   int64 \n",
            " 1   Unnamed: 0     5004 non-null   int64 \n",
            " 2   Title          5004 non-null   object\n",
            " 3   Article        5004 non-null   object\n",
            " 4   Category       5004 non-null   object\n",
            " 5   Summary        5004 non-null   object\n",
            " 6   Article_clean  5004 non-null   object\n",
            " 7   Summary_clean  5004 non-null   object\n",
            " 8   Keywords       5004 non-null   object\n",
            "dtypes: int64(2), object(7)\n",
            "memory usage: 352.0+ KB\n"
          ]
        }
      ]
    },
    {
      "cell_type": "code",
      "source": [
        "data = data.drop(labels = ['Unnamed: 0.1','Unnamed: 0' ], axis = 1)"
      ],
      "metadata": {
        "id": "EHpwuQGXBClD"
      },
      "execution_count": 5,
      "outputs": []
    },
    {
      "cell_type": "code",
      "source": [
        "data.head(100)"
      ],
      "metadata": {
        "colab": {
          "base_uri": "https://localhost:8080/",
          "height": 745
        },
        "id": "AO95idVZBnRC",
        "outputId": "3c574835-88a9-4e40-ce7e-f3852cc9f965"
      },
      "execution_count": 6,
      "outputs": [
        {
          "output_type": "execute_result",
          "data": {
            "text/plain": [
              "                Title                                            Article  \\\n",
              "0    Askia Muhammad I  Askia Muhammad I (b. 1443 – d. 1538), born Muh...   \n",
              "1                Wood  Wood is a structural tissue found in the stems...   \n",
              "2   Horn (instrument)  A horn is any of a family of musical instrumen...   \n",
              "3              Corvus  Corvus is a widely distributed genus of medium...   \n",
              "4           Cebu City  Cebu City, officially the City of Cebu (Cebuan...   \n",
              "..                ...                                                ...   \n",
              "95            Terence  Publius Terentius Afer (; c. 195/185 – c. 159?...   \n",
              "96          Saxophone  The saxophone (often referred to colloquially ...   \n",
              "97        Helmut Kohl  Helmut Josef Michael Kohl (German pronunciatio...   \n",
              "98    Track and field  Track and field is a sport that includes athle...   \n",
              "99             Alkane  In organic chemistry, an alkane, or paraffin (...   \n",
              "\n",
              "                       Category  \\\n",
              "0                        People   \n",
              "1                    Technology   \n",
              "2                          Arts   \n",
              "3   Biology_and_health_sciences   \n",
              "4                     Geography   \n",
              "..                          ...   \n",
              "95                       People   \n",
              "96                         Arts   \n",
              "97                       People   \n",
              "98                Everyday_life   \n",
              "99            Physical_sciences   \n",
              "\n",
              "                                              Summary  \\\n",
              "0   Askia Muhammad I (b. 1443 – d. 1538), born Muh...   \n",
              "1   Wood is a structural tissue found in the stems...   \n",
              "2   A horn is any of a family of musical instrumen...   \n",
              "3   Corvus is a widely distributed genus of medium...   \n",
              "4   Cebu City, officially the City of Cebu (Cebuan...   \n",
              "..                                                ...   \n",
              "95  Publius Terentius Afer (; c. 195/185 – c. 159?...   \n",
              "96  The saxophone (often referred to colloquially ...   \n",
              "97  Helmut Josef Michael Kohl (German pronunciatio...   \n",
              "98  Track and field is a sport that includes athle...   \n",
              "99  In organic chemistry, an alkane, or paraffin (...   \n",
              "\n",
              "                                        Article_clean  \\\n",
              "0   askia muhammad 1443 1538 born muhammad ibn abi...   \n",
              "1   wood structur tissu found stem root tree woodi...   \n",
              "2   horn ani famili music instrument made tube usu...   \n",
              "3   corvu wide distribut genu medium larg bird fam...   \n",
              "4   cebu citi offici citi cebu cebuano dakbayan su...   \n",
              "..                                                ...   \n",
              "95  publiu terentiu afer 195185 159 becaus better ...   \n",
              "96  saxophon often refer colloqui sax type singler...   \n",
              "97  helmut josef michael kohl german pronunci list...   \n",
              "98  track field sport includ athlet contest base r...   \n",
              "99  organ chemistri alkan paraffin histor trivial ...   \n",
              "\n",
              "                                        Summary_clean  \\\n",
              "0   askia muhammad 1443 1538 born muhammad ibn abi...   \n",
              "1   wood structural tissue found stem root tree wo...   \n",
              "2   horn family musical instrument made tube usual...   \n",
              "3   corvus widely distributed genus mediumsized la...   \n",
              "4   cebu city officially city cebu cebuano dakbaya...   \n",
              "..                                                ...   \n",
              "95  publius terentius afer 195185 159 better known...   \n",
              "96  saxophone often referred colloquially sax type...   \n",
              "97  helmut josef michael kohl german pronunciation...   \n",
              "98  track field sport includes athletic contest ba...   \n",
              "99  organic chemistry alkane paraffin historical t...   \n",
              "\n",
              "                                             Keywords  \n",
              "0   ['askia muhammad', 'descend', 'dynasti songhai...  \n",
              "1   ['wood structur tissu', 'use', 'growth ring', ...  \n",
              "2   ['horn ani famili music instrument', 'use', 'p...  \n",
              "3   ['includ speci commonli known crow raven rook'...  \n",
              "4   ['cebu citi offici', 'locat', 'barangay', 'sch...  \n",
              "..                                                ...  \n",
              "95  ['play', 'terenc roman african playwright dure...  \n",
              "96  ['saxophon', 'jazz', 'sax type singlere woodwi...  \n",
              "97  ['kohl german', 'european', 'state', 'polit', ...  \n",
              "98  ['event', 'record', 'track field sport includ ...  \n",
              "99  ['organ chemistri alkan paraffin', 'thi', 'iso...  \n",
              "\n",
              "[100 rows x 7 columns]"
            ],
            "text/html": [
              "\n",
              "  <div id=\"df-04beb2ee-1c2b-495f-8009-9f3ad12c10a4\">\n",
              "    <div class=\"colab-df-container\">\n",
              "      <div>\n",
              "<style scoped>\n",
              "    .dataframe tbody tr th:only-of-type {\n",
              "        vertical-align: middle;\n",
              "    }\n",
              "\n",
              "    .dataframe tbody tr th {\n",
              "        vertical-align: top;\n",
              "    }\n",
              "\n",
              "    .dataframe thead th {\n",
              "        text-align: right;\n",
              "    }\n",
              "</style>\n",
              "<table border=\"1\" class=\"dataframe\">\n",
              "  <thead>\n",
              "    <tr style=\"text-align: right;\">\n",
              "      <th></th>\n",
              "      <th>Title</th>\n",
              "      <th>Article</th>\n",
              "      <th>Category</th>\n",
              "      <th>Summary</th>\n",
              "      <th>Article_clean</th>\n",
              "      <th>Summary_clean</th>\n",
              "      <th>Keywords</th>\n",
              "    </tr>\n",
              "  </thead>\n",
              "  <tbody>\n",
              "    <tr>\n",
              "      <th>0</th>\n",
              "      <td>Askia Muhammad I</td>\n",
              "      <td>Askia Muhammad I (b. 1443 – d. 1538), born Muh...</td>\n",
              "      <td>People</td>\n",
              "      <td>Askia Muhammad I (b. 1443 – d. 1538), born Muh...</td>\n",
              "      <td>askia muhammad 1443 1538 born muhammad ibn abi...</td>\n",
              "      <td>askia muhammad 1443 1538 born muhammad ibn abi...</td>\n",
              "      <td>['askia muhammad', 'descend', 'dynasti songhai...</td>\n",
              "    </tr>\n",
              "    <tr>\n",
              "      <th>1</th>\n",
              "      <td>Wood</td>\n",
              "      <td>Wood is a structural tissue found in the stems...</td>\n",
              "      <td>Technology</td>\n",
              "      <td>Wood is a structural tissue found in the stems...</td>\n",
              "      <td>wood structur tissu found stem root tree woodi...</td>\n",
              "      <td>wood structural tissue found stem root tree wo...</td>\n",
              "      <td>['wood structur tissu', 'use', 'growth ring', ...</td>\n",
              "    </tr>\n",
              "    <tr>\n",
              "      <th>2</th>\n",
              "      <td>Horn (instrument)</td>\n",
              "      <td>A horn is any of a family of musical instrumen...</td>\n",
              "      <td>Arts</td>\n",
              "      <td>A horn is any of a family of musical instrumen...</td>\n",
              "      <td>horn ani famili music instrument made tube usu...</td>\n",
              "      <td>horn family musical instrument made tube usual...</td>\n",
              "      <td>['horn ani famili music instrument', 'use', 'p...</td>\n",
              "    </tr>\n",
              "    <tr>\n",
              "      <th>3</th>\n",
              "      <td>Corvus</td>\n",
              "      <td>Corvus is a widely distributed genus of medium...</td>\n",
              "      <td>Biology_and_health_sciences</td>\n",
              "      <td>Corvus is a widely distributed genus of medium...</td>\n",
              "      <td>corvu wide distribut genu medium larg bird fam...</td>\n",
              "      <td>corvus widely distributed genus mediumsized la...</td>\n",
              "      <td>['includ speci commonli known crow raven rook'...</td>\n",
              "    </tr>\n",
              "    <tr>\n",
              "      <th>4</th>\n",
              "      <td>Cebu City</td>\n",
              "      <td>Cebu City, officially the City of Cebu (Cebuan...</td>\n",
              "      <td>Geography</td>\n",
              "      <td>Cebu City, officially the City of Cebu (Cebuan...</td>\n",
              "      <td>cebu citi offici citi cebu cebuano dakbayan su...</td>\n",
              "      <td>cebu city officially city cebu cebuano dakbaya...</td>\n",
              "      <td>['cebu citi offici', 'locat', 'barangay', 'sch...</td>\n",
              "    </tr>\n",
              "    <tr>\n",
              "      <th>...</th>\n",
              "      <td>...</td>\n",
              "      <td>...</td>\n",
              "      <td>...</td>\n",
              "      <td>...</td>\n",
              "      <td>...</td>\n",
              "      <td>...</td>\n",
              "      <td>...</td>\n",
              "    </tr>\n",
              "    <tr>\n",
              "      <th>95</th>\n",
              "      <td>Terence</td>\n",
              "      <td>Publius Terentius Afer (; c. 195/185 – c. 159?...</td>\n",
              "      <td>People</td>\n",
              "      <td>Publius Terentius Afer (; c. 195/185 – c. 159?...</td>\n",
              "      <td>publiu terentiu afer 195185 159 becaus better ...</td>\n",
              "      <td>publius terentius afer 195185 159 better known...</td>\n",
              "      <td>['play', 'terenc roman african playwright dure...</td>\n",
              "    </tr>\n",
              "    <tr>\n",
              "      <th>96</th>\n",
              "      <td>Saxophone</td>\n",
              "      <td>The saxophone (often referred to colloquially ...</td>\n",
              "      <td>Arts</td>\n",
              "      <td>The saxophone (often referred to colloquially ...</td>\n",
              "      <td>saxophon often refer colloqui sax type singler...</td>\n",
              "      <td>saxophone often referred colloquially sax type...</td>\n",
              "      <td>['saxophon', 'jazz', 'sax type singlere woodwi...</td>\n",
              "    </tr>\n",
              "    <tr>\n",
              "      <th>97</th>\n",
              "      <td>Helmut Kohl</td>\n",
              "      <td>Helmut Josef Michael Kohl (German pronunciatio...</td>\n",
              "      <td>People</td>\n",
              "      <td>Helmut Josef Michael Kohl (German pronunciatio...</td>\n",
              "      <td>helmut josef michael kohl german pronunci list...</td>\n",
              "      <td>helmut josef michael kohl german pronunciation...</td>\n",
              "      <td>['kohl german', 'european', 'state', 'polit', ...</td>\n",
              "    </tr>\n",
              "    <tr>\n",
              "      <th>98</th>\n",
              "      <td>Track and field</td>\n",
              "      <td>Track and field is a sport that includes athle...</td>\n",
              "      <td>Everyday_life</td>\n",
              "      <td>Track and field is a sport that includes athle...</td>\n",
              "      <td>track field sport includ athlet contest base r...</td>\n",
              "      <td>track field sport includes athletic contest ba...</td>\n",
              "      <td>['event', 'record', 'track field sport includ ...</td>\n",
              "    </tr>\n",
              "    <tr>\n",
              "      <th>99</th>\n",
              "      <td>Alkane</td>\n",
              "      <td>In organic chemistry, an alkane, or paraffin (...</td>\n",
              "      <td>Physical_sciences</td>\n",
              "      <td>In organic chemistry, an alkane, or paraffin (...</td>\n",
              "      <td>organ chemistri alkan paraffin histor trivial ...</td>\n",
              "      <td>organic chemistry alkane paraffin historical t...</td>\n",
              "      <td>['organ chemistri alkan paraffin', 'thi', 'iso...</td>\n",
              "    </tr>\n",
              "  </tbody>\n",
              "</table>\n",
              "<p>100 rows × 7 columns</p>\n",
              "</div>\n",
              "      <button class=\"colab-df-convert\" onclick=\"convertToInteractive('df-04beb2ee-1c2b-495f-8009-9f3ad12c10a4')\"\n",
              "              title=\"Convert this dataframe to an interactive table.\"\n",
              "              style=\"display:none;\">\n",
              "        \n",
              "  <svg xmlns=\"http://www.w3.org/2000/svg\" height=\"24px\"viewBox=\"0 0 24 24\"\n",
              "       width=\"24px\">\n",
              "    <path d=\"M0 0h24v24H0V0z\" fill=\"none\"/>\n",
              "    <path d=\"M18.56 5.44l.94 2.06.94-2.06 2.06-.94-2.06-.94-.94-2.06-.94 2.06-2.06.94zm-11 1L8.5 8.5l.94-2.06 2.06-.94-2.06-.94L8.5 2.5l-.94 2.06-2.06.94zm10 10l.94 2.06.94-2.06 2.06-.94-2.06-.94-.94-2.06-.94 2.06-2.06.94z\"/><path d=\"M17.41 7.96l-1.37-1.37c-.4-.4-.92-.59-1.43-.59-.52 0-1.04.2-1.43.59L10.3 9.45l-7.72 7.72c-.78.78-.78 2.05 0 2.83L4 21.41c.39.39.9.59 1.41.59.51 0 1.02-.2 1.41-.59l7.78-7.78 2.81-2.81c.8-.78.8-2.07 0-2.86zM5.41 20L4 18.59l7.72-7.72 1.47 1.35L5.41 20z\"/>\n",
              "  </svg>\n",
              "      </button>\n",
              "      \n",
              "  <style>\n",
              "    .colab-df-container {\n",
              "      display:flex;\n",
              "      flex-wrap:wrap;\n",
              "      gap: 12px;\n",
              "    }\n",
              "\n",
              "    .colab-df-convert {\n",
              "      background-color: #E8F0FE;\n",
              "      border: none;\n",
              "      border-radius: 50%;\n",
              "      cursor: pointer;\n",
              "      display: none;\n",
              "      fill: #1967D2;\n",
              "      height: 32px;\n",
              "      padding: 0 0 0 0;\n",
              "      width: 32px;\n",
              "    }\n",
              "\n",
              "    .colab-df-convert:hover {\n",
              "      background-color: #E2EBFA;\n",
              "      box-shadow: 0px 1px 2px rgba(60, 64, 67, 0.3), 0px 1px 3px 1px rgba(60, 64, 67, 0.15);\n",
              "      fill: #174EA6;\n",
              "    }\n",
              "\n",
              "    [theme=dark] .colab-df-convert {\n",
              "      background-color: #3B4455;\n",
              "      fill: #D2E3FC;\n",
              "    }\n",
              "\n",
              "    [theme=dark] .colab-df-convert:hover {\n",
              "      background-color: #434B5C;\n",
              "      box-shadow: 0px 1px 3px 1px rgba(0, 0, 0, 0.15);\n",
              "      filter: drop-shadow(0px 1px 2px rgba(0, 0, 0, 0.3));\n",
              "      fill: #FFFFFF;\n",
              "    }\n",
              "  </style>\n",
              "\n",
              "      <script>\n",
              "        const buttonEl =\n",
              "          document.querySelector('#df-04beb2ee-1c2b-495f-8009-9f3ad12c10a4 button.colab-df-convert');\n",
              "        buttonEl.style.display =\n",
              "          google.colab.kernel.accessAllowed ? 'block' : 'none';\n",
              "\n",
              "        async function convertToInteractive(key) {\n",
              "          const element = document.querySelector('#df-04beb2ee-1c2b-495f-8009-9f3ad12c10a4');\n",
              "          const dataTable =\n",
              "            await google.colab.kernel.invokeFunction('convertToInteractive',\n",
              "                                                     [key], {});\n",
              "          if (!dataTable) return;\n",
              "\n",
              "          const docLinkHtml = 'Like what you see? Visit the ' +\n",
              "            '<a target=\"_blank\" href=https://colab.research.google.com/notebooks/data_table.ipynb>data table notebook</a>'\n",
              "            + ' to learn more about interactive tables.';\n",
              "          element.innerHTML = '';\n",
              "          dataTable['output_type'] = 'display_data';\n",
              "          await google.colab.output.renderOutput(dataTable, element);\n",
              "          const docLink = document.createElement('div');\n",
              "          docLink.innerHTML = docLinkHtml;\n",
              "          element.appendChild(docLink);\n",
              "        }\n",
              "      </script>\n",
              "    </div>\n",
              "  </div>\n",
              "  "
            ]
          },
          "metadata": {},
          "execution_count": 6
        }
      ]
    },
    {
      "cell_type": "code",
      "source": [
        "data.info()"
      ],
      "metadata": {
        "colab": {
          "base_uri": "https://localhost:8080/"
        },
        "id": "sC7S0ErhQ627",
        "outputId": "30943529-643d-482a-f3ca-b0ea9fc2f2af"
      },
      "execution_count": 7,
      "outputs": [
        {
          "output_type": "stream",
          "name": "stdout",
          "text": [
            "<class 'pandas.core.frame.DataFrame'>\n",
            "RangeIndex: 5004 entries, 0 to 5003\n",
            "Data columns (total 7 columns):\n",
            " #   Column         Non-Null Count  Dtype \n",
            "---  ------         --------------  ----- \n",
            " 0   Title          5004 non-null   object\n",
            " 1   Article        5004 non-null   object\n",
            " 2   Category       5004 non-null   object\n",
            " 3   Summary        5004 non-null   object\n",
            " 4   Article_clean  5004 non-null   object\n",
            " 5   Summary_clean  5004 non-null   object\n",
            " 6   Keywords       5004 non-null   object\n",
            "dtypes: object(7)\n",
            "memory usage: 273.8+ KB\n"
          ]
        }
      ]
    },
    {
      "cell_type": "code",
      "source": [
        "tf_idf = TfidfVectorizer()"
      ],
      "metadata": {
        "id": "wc5S1Lp_S0VQ"
      },
      "execution_count": 8,
      "outputs": []
    },
    {
      "cell_type": "code",
      "source": [
        "# fitting the vectorizer on the Keywords\n",
        "tf_idf.fit(data['Keywords'])"
      ],
      "metadata": {
        "colab": {
          "base_uri": "https://localhost:8080/",
          "height": 74
        },
        "id": "0oNAALIcSqIV",
        "outputId": "b619875e-e354-485e-fc26-004b1850fc21"
      },
      "execution_count": 9,
      "outputs": [
        {
          "output_type": "execute_result",
          "data": {
            "text/plain": [
              "TfidfVectorizer()"
            ],
            "text/html": [
              "<style>#sk-container-id-1 {color: black;background-color: white;}#sk-container-id-1 pre{padding: 0;}#sk-container-id-1 div.sk-toggleable {background-color: white;}#sk-container-id-1 label.sk-toggleable__label {cursor: pointer;display: block;width: 100%;margin-bottom: 0;padding: 0.3em;box-sizing: border-box;text-align: center;}#sk-container-id-1 label.sk-toggleable__label-arrow:before {content: \"▸\";float: left;margin-right: 0.25em;color: #696969;}#sk-container-id-1 label.sk-toggleable__label-arrow:hover:before {color: black;}#sk-container-id-1 div.sk-estimator:hover label.sk-toggleable__label-arrow:before {color: black;}#sk-container-id-1 div.sk-toggleable__content {max-height: 0;max-width: 0;overflow: hidden;text-align: left;background-color: #f0f8ff;}#sk-container-id-1 div.sk-toggleable__content pre {margin: 0.2em;color: black;border-radius: 0.25em;background-color: #f0f8ff;}#sk-container-id-1 input.sk-toggleable__control:checked~div.sk-toggleable__content {max-height: 200px;max-width: 100%;overflow: auto;}#sk-container-id-1 input.sk-toggleable__control:checked~label.sk-toggleable__label-arrow:before {content: \"▾\";}#sk-container-id-1 div.sk-estimator input.sk-toggleable__control:checked~label.sk-toggleable__label {background-color: #d4ebff;}#sk-container-id-1 div.sk-label input.sk-toggleable__control:checked~label.sk-toggleable__label {background-color: #d4ebff;}#sk-container-id-1 input.sk-hidden--visually {border: 0;clip: rect(1px 1px 1px 1px);clip: rect(1px, 1px, 1px, 1px);height: 1px;margin: -1px;overflow: hidden;padding: 0;position: absolute;width: 1px;}#sk-container-id-1 div.sk-estimator {font-family: monospace;background-color: #f0f8ff;border: 1px dotted black;border-radius: 0.25em;box-sizing: border-box;margin-bottom: 0.5em;}#sk-container-id-1 div.sk-estimator:hover {background-color: #d4ebff;}#sk-container-id-1 div.sk-parallel-item::after {content: \"\";width: 100%;border-bottom: 1px solid gray;flex-grow: 1;}#sk-container-id-1 div.sk-label:hover label.sk-toggleable__label {background-color: #d4ebff;}#sk-container-id-1 div.sk-serial::before {content: \"\";position: absolute;border-left: 1px solid gray;box-sizing: border-box;top: 0;bottom: 0;left: 50%;z-index: 0;}#sk-container-id-1 div.sk-serial {display: flex;flex-direction: column;align-items: center;background-color: white;padding-right: 0.2em;padding-left: 0.2em;position: relative;}#sk-container-id-1 div.sk-item {position: relative;z-index: 1;}#sk-container-id-1 div.sk-parallel {display: flex;align-items: stretch;justify-content: center;background-color: white;position: relative;}#sk-container-id-1 div.sk-item::before, #sk-container-id-1 div.sk-parallel-item::before {content: \"\";position: absolute;border-left: 1px solid gray;box-sizing: border-box;top: 0;bottom: 0;left: 50%;z-index: -1;}#sk-container-id-1 div.sk-parallel-item {display: flex;flex-direction: column;z-index: 1;position: relative;background-color: white;}#sk-container-id-1 div.sk-parallel-item:first-child::after {align-self: flex-end;width: 50%;}#sk-container-id-1 div.sk-parallel-item:last-child::after {align-self: flex-start;width: 50%;}#sk-container-id-1 div.sk-parallel-item:only-child::after {width: 0;}#sk-container-id-1 div.sk-dashed-wrapped {border: 1px dashed gray;margin: 0 0.4em 0.5em 0.4em;box-sizing: border-box;padding-bottom: 0.4em;background-color: white;}#sk-container-id-1 div.sk-label label {font-family: monospace;font-weight: bold;display: inline-block;line-height: 1.2em;}#sk-container-id-1 div.sk-label-container {text-align: center;}#sk-container-id-1 div.sk-container {/* jupyter's `normalize.less` sets `[hidden] { display: none; }` but bootstrap.min.css set `[hidden] { display: none !important; }` so we also need the `!important` here to be able to override the default hidden behavior on the sphinx rendered scikit-learn.org. See: https://github.com/scikit-learn/scikit-learn/issues/21755 */display: inline-block !important;position: relative;}#sk-container-id-1 div.sk-text-repr-fallback {display: none;}</style><div id=\"sk-container-id-1\" class=\"sk-top-container\"><div class=\"sk-text-repr-fallback\"><pre>TfidfVectorizer()</pre><b>In a Jupyter environment, please rerun this cell to show the HTML representation or trust the notebook. <br />On GitHub, the HTML representation is unable to render, please try loading this page with nbviewer.org.</b></div><div class=\"sk-container\" hidden><div class=\"sk-item\"><div class=\"sk-estimator sk-toggleable\"><input class=\"sk-toggleable__control sk-hidden--visually\" id=\"sk-estimator-id-1\" type=\"checkbox\" checked><label for=\"sk-estimator-id-1\" class=\"sk-toggleable__label sk-toggleable__label-arrow\">TfidfVectorizer</label><div class=\"sk-toggleable__content\"><pre>TfidfVectorizer()</pre></div></div></div></div></div>"
            ]
          },
          "metadata": {},
          "execution_count": 9
        }
      ]
    },
    {
      "cell_type": "code",
      "source": [
        "# defining a function to recommend articles based on category and keywords\n",
        "def recommend(category, keyword):\n",
        "    # filter the data by the specified category\n",
        "    category_data = data[data['Category'] == category]\n",
        "    \n",
        "    # vectorizing the input keyword\n",
        "    keyword_vector = tf_idf.transform([keyword])\n",
        "    \n",
        "    # computing the cosine similarity between the keyword vector and the Keywords column in the specified category\n",
        "    keywords_vectors = tf_idf.transform(category_data['Keywords'])\n",
        "    similarity_scores = cosine_similarity(keyword_vector, keywords_vectors)[0]\n",
        "    \n",
        "    # sort the articles by their similarity scores and return the top 10 articles\n",
        "    indices = similarity_scores.argsort()[::-1][:10]\n",
        "    recommended_articles = category_data.iloc[indices][['Title', 'Article']]\n",
        "    return recommended_articles"
      ],
      "metadata": {
        "id": "cw-MeNEAS6yj"
      },
      "execution_count": 20,
      "outputs": []
    },
    {
      "cell_type": "code",
      "source": [
        "recommended_articles = recommend(\"Everyday_life\", \"track\")\n",
        "print(recommended_articles)"
      ],
      "metadata": {
        "colab": {
          "base_uri": "https://localhost:8080/"
        },
        "id": "wkCJrph1Uths",
        "outputId": "737171d7-04b9-4b76-c916-e170ce920a86"
      },
      "execution_count": 22,
      "outputs": [
        {
          "output_type": "stream",
          "name": "stdout",
          "text": [
            "                     Title                                            Article\n",
            "692           Horse racing  Horse racing is an equestrian performance spor...\n",
            "4053             Long jump  The long jump is a track and field event in wh...\n",
            "3257              Hurdling  Hurdling is the act of jumping over an obstacl...\n",
            "1817               Karaoke  Karaoke (; Japanese: [kaɾaoke] (listen); カラオケ,...\n",
            "4919                  Luge  A luge  is a small one- or two-person sled on ...\n",
            "529     Sport of athletics  Athletics is a group of sporting events that i...\n",
            "98         Track and field  Track and field is a sport that includes athle...\n",
            "1256  Cross-country skiing  Cross-country skiing is a form of skiing where...\n",
            "2055                Karate  Karate (空手) (; Japanese pronunciation: [kaɾate...\n",
            "2038         Equestrianism  Equestrianism (from Latin equester, equestr-, ...\n"
          ]
        }
      ]
    }
  ]
}
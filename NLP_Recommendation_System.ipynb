{
 "cells": [
  {
   "cell_type": "code",
   "execution_count": 1,
   "metadata": {
    "id": "_jq9gaP2_gWr"
   },
   "outputs": [],
   "source": [
    "import pandas as pd\n",
    "from sklearn.feature_extraction.text import TfidfVectorizer\n",
    "from sklearn.metrics.pairwise import cosine_similarity"
   ]
  },
  {
   "cell_type": "code",
   "execution_count": 3,
   "metadata": {
    "id": "fJ_-54OaAAdJ"
   },
   "outputs": [],
   "source": [
    "data = pd.read_csv('Cleaned-Data-Keywords.csv')"
   ]
  },
  {
   "cell_type": "code",
   "execution_count": 4,
   "metadata": {
    "colab": {
     "base_uri": "https://localhost:8080/"
    },
    "id": "suBWVLHoBfwY",
    "outputId": "cf9eb2e1-3ff7-4e51-caa5-9f32a0f793de"
   },
   "outputs": [
    {
     "name": "stdout",
     "output_type": "stream",
     "text": [
      "<class 'pandas.core.frame.DataFrame'>\n",
      "RangeIndex: 5004 entries, 0 to 5003\n",
      "Data columns (total 9 columns):\n",
      " #   Column         Non-Null Count  Dtype \n",
      "---  ------         --------------  ----- \n",
      " 0   Unnamed: 0.1   5004 non-null   int64 \n",
      " 1   Unnamed: 0     5004 non-null   int64 \n",
      " 2   Title          5004 non-null   object\n",
      " 3   Article        5004 non-null   object\n",
      " 4   Category       5004 non-null   object\n",
      " 5   Summary        5004 non-null   object\n",
      " 6   Article_clean  5004 non-null   object\n",
      " 7   Summary_clean  5004 non-null   object\n",
      " 8   Keywords       5004 non-null   object\n",
      "dtypes: int64(2), object(7)\n",
      "memory usage: 352.0+ KB\n"
     ]
    }
   ],
   "source": [
    "data.info()"
   ]
  },
  {
   "cell_type": "code",
   "execution_count": 5,
   "metadata": {
    "id": "EHpwuQGXBClD"
   },
   "outputs": [],
   "source": [
    "data = data.drop(labels = ['Unnamed: 0.1','Unnamed: 0' ], axis = 1)"
   ]
  },
  {
   "cell_type": "code",
   "execution_count": 6,
   "metadata": {
    "colab": {
     "base_uri": "https://localhost:8080/",
     "height": 745
    },
    "id": "AO95idVZBnRC",
    "outputId": "3c574835-88a9-4e40-ce7e-f3852cc9f965"
   },
   "outputs": [
    {
     "data": {
      "text/html": [
       "<div>\n",
       "<style scoped>\n",
       "    .dataframe tbody tr th:only-of-type {\n",
       "        vertical-align: middle;\n",
       "    }\n",
       "\n",
       "    .dataframe tbody tr th {\n",
       "        vertical-align: top;\n",
       "    }\n",
       "\n",
       "    .dataframe thead th {\n",
       "        text-align: right;\n",
       "    }\n",
       "</style>\n",
       "<table border=\"1\" class=\"dataframe\">\n",
       "  <thead>\n",
       "    <tr style=\"text-align: right;\">\n",
       "      <th></th>\n",
       "      <th>Title</th>\n",
       "      <th>Article</th>\n",
       "      <th>Category</th>\n",
       "      <th>Summary</th>\n",
       "      <th>Article_clean</th>\n",
       "      <th>Summary_clean</th>\n",
       "      <th>Keywords</th>\n",
       "    </tr>\n",
       "  </thead>\n",
       "  <tbody>\n",
       "    <tr>\n",
       "      <th>0</th>\n",
       "      <td>Askia Muhammad I</td>\n",
       "      <td>Askia Muhammad I (b. 1443 – d. 1538), born Muh...</td>\n",
       "      <td>People</td>\n",
       "      <td>Askia Muhammad I (b. 1443 – d. 1538), born Muh...</td>\n",
       "      <td>askia muhammad 1443 1538 born muhammad ibn abi...</td>\n",
       "      <td>askia muhammad 1443 1538 born muhammad ibn abi...</td>\n",
       "      <td>['askia muhammad', 'descend', 'dynasti songhai...</td>\n",
       "    </tr>\n",
       "    <tr>\n",
       "      <th>1</th>\n",
       "      <td>Wood</td>\n",
       "      <td>Wood is a structural tissue found in the stems...</td>\n",
       "      <td>Technology</td>\n",
       "      <td>Wood is a structural tissue found in the stems...</td>\n",
       "      <td>wood structur tissu found stem root tree woodi...</td>\n",
       "      <td>wood structural tissue found stem root tree wo...</td>\n",
       "      <td>['wood structur tissu', 'use', 'growth ring', ...</td>\n",
       "    </tr>\n",
       "    <tr>\n",
       "      <th>2</th>\n",
       "      <td>Horn (instrument)</td>\n",
       "      <td>A horn is any of a family of musical instrumen...</td>\n",
       "      <td>Arts</td>\n",
       "      <td>A horn is any of a family of musical instrumen...</td>\n",
       "      <td>horn ani famili music instrument made tube usu...</td>\n",
       "      <td>horn family musical instrument made tube usual...</td>\n",
       "      <td>['horn ani famili music instrument', 'use', 'p...</td>\n",
       "    </tr>\n",
       "    <tr>\n",
       "      <th>3</th>\n",
       "      <td>Corvus</td>\n",
       "      <td>Corvus is a widely distributed genus of medium...</td>\n",
       "      <td>Biology_and_health_sciences</td>\n",
       "      <td>Corvus is a widely distributed genus of medium...</td>\n",
       "      <td>corvu wide distribut genu medium larg bird fam...</td>\n",
       "      <td>corvus widely distributed genus mediumsized la...</td>\n",
       "      <td>['includ speci commonli known crow raven rook'...</td>\n",
       "    </tr>\n",
       "    <tr>\n",
       "      <th>4</th>\n",
       "      <td>Cebu City</td>\n",
       "      <td>Cebu City, officially the City of Cebu (Cebuan...</td>\n",
       "      <td>Geography</td>\n",
       "      <td>Cebu City, officially the City of Cebu (Cebuan...</td>\n",
       "      <td>cebu citi offici citi cebu cebuano dakbayan su...</td>\n",
       "      <td>cebu city officially city cebu cebuano dakbaya...</td>\n",
       "      <td>['cebu citi offici', 'locat', 'barangay', 'sch...</td>\n",
       "    </tr>\n",
       "    <tr>\n",
       "      <th>...</th>\n",
       "      <td>...</td>\n",
       "      <td>...</td>\n",
       "      <td>...</td>\n",
       "      <td>...</td>\n",
       "      <td>...</td>\n",
       "      <td>...</td>\n",
       "      <td>...</td>\n",
       "    </tr>\n",
       "    <tr>\n",
       "      <th>95</th>\n",
       "      <td>Terence</td>\n",
       "      <td>Publius Terentius Afer (; c. 195/185 – c. 159?...</td>\n",
       "      <td>People</td>\n",
       "      <td>Publius Terentius Afer (; c. 195/185 – c. 159?...</td>\n",
       "      <td>publiu terentiu afer 195185 159 becaus better ...</td>\n",
       "      <td>publius terentius afer 195185 159 better known...</td>\n",
       "      <td>['play', 'terenc roman african playwright dure...</td>\n",
       "    </tr>\n",
       "    <tr>\n",
       "      <th>96</th>\n",
       "      <td>Saxophone</td>\n",
       "      <td>The saxophone (often referred to colloquially ...</td>\n",
       "      <td>Arts</td>\n",
       "      <td>The saxophone (often referred to colloquially ...</td>\n",
       "      <td>saxophon often refer colloqui sax type singler...</td>\n",
       "      <td>saxophone often referred colloquially sax type...</td>\n",
       "      <td>['saxophon', 'jazz', 'sax type singlere woodwi...</td>\n",
       "    </tr>\n",
       "    <tr>\n",
       "      <th>97</th>\n",
       "      <td>Helmut Kohl</td>\n",
       "      <td>Helmut Josef Michael Kohl (German pronunciatio...</td>\n",
       "      <td>People</td>\n",
       "      <td>Helmut Josef Michael Kohl (German pronunciatio...</td>\n",
       "      <td>helmut josef michael kohl german pronunci list...</td>\n",
       "      <td>helmut josef michael kohl german pronunciation...</td>\n",
       "      <td>['kohl german', 'european', 'state', 'polit', ...</td>\n",
       "    </tr>\n",
       "    <tr>\n",
       "      <th>98</th>\n",
       "      <td>Track and field</td>\n",
       "      <td>Track and field is a sport that includes athle...</td>\n",
       "      <td>Everyday_life</td>\n",
       "      <td>Track and field is a sport that includes athle...</td>\n",
       "      <td>track field sport includ athlet contest base r...</td>\n",
       "      <td>track field sport includes athletic contest ba...</td>\n",
       "      <td>['event', 'record', 'track field sport includ ...</td>\n",
       "    </tr>\n",
       "    <tr>\n",
       "      <th>99</th>\n",
       "      <td>Alkane</td>\n",
       "      <td>In organic chemistry, an alkane, or paraffin (...</td>\n",
       "      <td>Physical_sciences</td>\n",
       "      <td>In organic chemistry, an alkane, or paraffin (...</td>\n",
       "      <td>organ chemistri alkan paraffin histor trivial ...</td>\n",
       "      <td>organic chemistry alkane paraffin historical t...</td>\n",
       "      <td>['organ chemistri alkan paraffin', 'thi', 'iso...</td>\n",
       "    </tr>\n",
       "  </tbody>\n",
       "</table>\n",
       "<p>100 rows × 7 columns</p>\n",
       "</div>"
      ],
      "text/plain": [
       "                Title                                            Article  \\\n",
       "0    Askia Muhammad I  Askia Muhammad I (b. 1443 – d. 1538), born Muh...   \n",
       "1                Wood  Wood is a structural tissue found in the stems...   \n",
       "2   Horn (instrument)  A horn is any of a family of musical instrumen...   \n",
       "3              Corvus  Corvus is a widely distributed genus of medium...   \n",
       "4           Cebu City  Cebu City, officially the City of Cebu (Cebuan...   \n",
       "..                ...                                                ...   \n",
       "95            Terence  Publius Terentius Afer (; c. 195/185 – c. 159?...   \n",
       "96          Saxophone  The saxophone (often referred to colloquially ...   \n",
       "97        Helmut Kohl  Helmut Josef Michael Kohl (German pronunciatio...   \n",
       "98    Track and field  Track and field is a sport that includes athle...   \n",
       "99             Alkane  In organic chemistry, an alkane, or paraffin (...   \n",
       "\n",
       "                       Category  \\\n",
       "0                        People   \n",
       "1                    Technology   \n",
       "2                          Arts   \n",
       "3   Biology_and_health_sciences   \n",
       "4                     Geography   \n",
       "..                          ...   \n",
       "95                       People   \n",
       "96                         Arts   \n",
       "97                       People   \n",
       "98                Everyday_life   \n",
       "99            Physical_sciences   \n",
       "\n",
       "                                              Summary  \\\n",
       "0   Askia Muhammad I (b. 1443 – d. 1538), born Muh...   \n",
       "1   Wood is a structural tissue found in the stems...   \n",
       "2   A horn is any of a family of musical instrumen...   \n",
       "3   Corvus is a widely distributed genus of medium...   \n",
       "4   Cebu City, officially the City of Cebu (Cebuan...   \n",
       "..                                                ...   \n",
       "95  Publius Terentius Afer (; c. 195/185 – c. 159?...   \n",
       "96  The saxophone (often referred to colloquially ...   \n",
       "97  Helmut Josef Michael Kohl (German pronunciatio...   \n",
       "98  Track and field is a sport that includes athle...   \n",
       "99  In organic chemistry, an alkane, or paraffin (...   \n",
       "\n",
       "                                        Article_clean  \\\n",
       "0   askia muhammad 1443 1538 born muhammad ibn abi...   \n",
       "1   wood structur tissu found stem root tree woodi...   \n",
       "2   horn ani famili music instrument made tube usu...   \n",
       "3   corvu wide distribut genu medium larg bird fam...   \n",
       "4   cebu citi offici citi cebu cebuano dakbayan su...   \n",
       "..                                                ...   \n",
       "95  publiu terentiu afer 195185 159 becaus better ...   \n",
       "96  saxophon often refer colloqui sax type singler...   \n",
       "97  helmut josef michael kohl german pronunci list...   \n",
       "98  track field sport includ athlet contest base r...   \n",
       "99  organ chemistri alkan paraffin histor trivial ...   \n",
       "\n",
       "                                        Summary_clean  \\\n",
       "0   askia muhammad 1443 1538 born muhammad ibn abi...   \n",
       "1   wood structural tissue found stem root tree wo...   \n",
       "2   horn family musical instrument made tube usual...   \n",
       "3   corvus widely distributed genus mediumsized la...   \n",
       "4   cebu city officially city cebu cebuano dakbaya...   \n",
       "..                                                ...   \n",
       "95  publius terentius afer 195185 159 better known...   \n",
       "96  saxophone often referred colloquially sax type...   \n",
       "97  helmut josef michael kohl german pronunciation...   \n",
       "98  track field sport includes athletic contest ba...   \n",
       "99  organic chemistry alkane paraffin historical t...   \n",
       "\n",
       "                                             Keywords  \n",
       "0   ['askia muhammad', 'descend', 'dynasti songhai...  \n",
       "1   ['wood structur tissu', 'use', 'growth ring', ...  \n",
       "2   ['horn ani famili music instrument', 'use', 'p...  \n",
       "3   ['includ speci commonli known crow raven rook'...  \n",
       "4   ['cebu citi offici', 'locat', 'barangay', 'sch...  \n",
       "..                                                ...  \n",
       "95  ['play', 'terenc roman african playwright dure...  \n",
       "96  ['saxophon', 'jazz', 'sax type singlere woodwi...  \n",
       "97  ['kohl german', 'european', 'state', 'polit', ...  \n",
       "98  ['event', 'record', 'track field sport includ ...  \n",
       "99  ['organ chemistri alkan paraffin', 'thi', 'iso...  \n",
       "\n",
       "[100 rows x 7 columns]"
      ]
     },
     "execution_count": 6,
     "metadata": {},
     "output_type": "execute_result"
    }
   ],
   "source": [
    "data.head(100)"
   ]
  },
  {
   "cell_type": "code",
   "execution_count": 7,
   "metadata": {
    "colab": {
     "base_uri": "https://localhost:8080/"
    },
    "id": "sC7S0ErhQ627",
    "outputId": "30943529-643d-482a-f3ca-b0ea9fc2f2af"
   },
   "outputs": [
    {
     "name": "stdout",
     "output_type": "stream",
     "text": [
      "<class 'pandas.core.frame.DataFrame'>\n",
      "RangeIndex: 5004 entries, 0 to 5003\n",
      "Data columns (total 7 columns):\n",
      " #   Column         Non-Null Count  Dtype \n",
      "---  ------         --------------  ----- \n",
      " 0   Title          5004 non-null   object\n",
      " 1   Article        5004 non-null   object\n",
      " 2   Category       5004 non-null   object\n",
      " 3   Summary        5004 non-null   object\n",
      " 4   Article_clean  5004 non-null   object\n",
      " 5   Summary_clean  5004 non-null   object\n",
      " 6   Keywords       5004 non-null   object\n",
      "dtypes: object(7)\n",
      "memory usage: 273.8+ KB\n"
     ]
    }
   ],
   "source": [
    "data.info()"
   ]
  },
  {
   "cell_type": "code",
   "execution_count": 8,
   "metadata": {
    "id": "wc5S1Lp_S0VQ"
   },
   "outputs": [],
   "source": [
    "tf_idf = TfidfVectorizer()"
   ]
  },
  {
   "cell_type": "code",
   "execution_count": 9,
   "metadata": {
    "colab": {
     "base_uri": "https://localhost:8080/",
     "height": 74
    },
    "id": "0oNAALIcSqIV",
    "outputId": "b619875e-e354-485e-fc26-004b1850fc21"
   },
   "outputs": [
    {
     "data": {
      "text/plain": [
       "TfidfVectorizer()"
      ]
     },
     "execution_count": 9,
     "metadata": {},
     "output_type": "execute_result"
    }
   ],
   "source": [
    "# fitting the vectorizer on the Keywords\n",
    "tf_idf.fit(data['Keywords'])"
   ]
  },
  {
   "cell_type": "code",
   "execution_count": 10,
   "metadata": {
    "id": "cw-MeNEAS6yj"
   },
   "outputs": [],
   "source": [
    "# defining a function to recommend articles based on category and keywords\n",
    "def recommend(category, keyword):\n",
    "    # filter the data by the specified category\n",
    "    category_data = data[data['Category'] == category]\n",
    "    \n",
    "    # vectorizing the input keyword\n",
    "    keyword_vector = tf_idf.transform([keyword])\n",
    "    \n",
    "    # computing the cosine similarity between the keyword vector and the Keywords column in the specified category\n",
    "    keywords_vectors = tf_idf.transform(category_data['Keywords'])\n",
    "    similarity_scores = cosine_similarity(keyword_vector, keywords_vectors)[0]\n",
    "    \n",
    "    # sort the articles by their similarity scores and return the top 10 articles\n",
    "    indices = similarity_scores.argsort()[::-1][:10]\n",
    "    recommended_articles = category_data.iloc[indices][['Title', 'Article']]\n",
    "    return recommended_articles"
   ]
  },
  {
   "cell_type": "code",
   "execution_count": 11,
   "metadata": {
    "colab": {
     "base_uri": "https://localhost:8080/"
    },
    "id": "wkCJrph1Uths",
    "outputId": "737171d7-04b9-4b76-c916-e170ce920a86"
   },
   "outputs": [
    {
     "name": "stdout",
     "output_type": "stream",
     "text": [
      "                     Title                                            Article\n",
      "692           Horse racing  Horse racing is an equestrian performance spor...\n",
      "4053             Long jump  The long jump is a track and field event in wh...\n",
      "3257              Hurdling  Hurdling is the act of jumping over an obstacl...\n",
      "1817               Karaoke  Karaoke (; Japanese: [kaɾaoke] (listen); カラオケ,...\n",
      "4919                  Luge  A luge  is a small one- or two-person sled on ...\n",
      "529     Sport of athletics  Athletics is a group of sporting events that i...\n",
      "98         Track and field  Track and field is a sport that includes athle...\n",
      "1256  Cross-country skiing  Cross-country skiing is a form of skiing where...\n",
      "2055                Karate  Karate (空手) (; Japanese pronunciation: [kaɾate...\n",
      "2038         Equestrianism  Equestrianism (from Latin equester, equestr-, ...\n"
     ]
    }
   ],
   "source": [
    "recommended_articles = recommend(\"Everyday_life\", \"track\")\n",
    "print(recommended_articles)"
   ]
  },
  {
   "cell_type": "code",
   "execution_count": null,
   "metadata": {},
   "outputs": [],
   "source": []
  }
 ],
 "metadata": {
  "accelerator": "GPU",
  "colab": {
   "machine_shape": "hm",
   "provenance": []
  },
  "gpuClass": "standard",
  "kernelspec": {
   "display_name": "Python 3 (ipykernel)",
   "language": "python",
   "name": "python3"
  },
  "language_info": {
   "codemirror_mode": {
    "name": "ipython",
    "version": 3
   },
   "file_extension": ".py",
   "mimetype": "text/x-python",
   "name": "python",
   "nbconvert_exporter": "python",
   "pygments_lexer": "ipython3",
   "version": "3.9.12"
  }
 },
 "nbformat": 4,
 "nbformat_minor": 4
}

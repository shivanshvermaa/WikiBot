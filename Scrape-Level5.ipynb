{
 "cells": [
  {
   "cell_type": "code",
   "execution_count": 3,
   "id": "1c0c3aa3-d616-4666-9835-835ea379a8af",
   "metadata": {},
   "outputs": [
    {
     "name": "stdout",
     "output_type": "stream",
     "text": [
      "Collecting wikipedia-api\n",
      "  Using cached Wikipedia_API-0.5.8-py3-none-any.whl (13 kB)\n",
      "Requirement already satisfied: requests in /home/verma.shi/.conda/envs/nlp-tf/lib/python3.9/site-packages (from wikipedia-api) (2.28.1)\n",
      "Requirement already satisfied: urllib3<1.27,>=1.21.1 in /home/verma.shi/.conda/envs/nlp-tf/lib/python3.9/site-packages (from requests->wikipedia-api) (1.26.14)\n",
      "Requirement already satisfied: charset-normalizer<3,>=2 in /home/verma.shi/.conda/envs/nlp-tf/lib/python3.9/site-packages (from requests->wikipedia-api) (2.0.4)\n",
      "Requirement already satisfied: certifi>=2017.4.17 in /home/verma.shi/.conda/envs/nlp-tf/lib/python3.9/site-packages (from requests->wikipedia-api) (2022.12.7)\n",
      "Requirement already satisfied: idna<4,>=2.5 in /home/verma.shi/.conda/envs/nlp-tf/lib/python3.9/site-packages (from requests->wikipedia-api) (3.4)\n",
      "Installing collected packages: wikipedia-api\n",
      "Successfully installed wikipedia-api-0.5.8\n"
     ]
    }
   ],
   "source": [
    "!pip install wikipedia-api"
   ]
  },
  {
   "cell_type": "code",
   "execution_count": 1,
   "id": "75fefb33-f0e4-4aa1-a614-afa48080dea0",
   "metadata": {},
   "outputs": [],
   "source": [
    "import requests\n",
    "from bs4 import BeautifulSoup\n",
    "import time\n",
    "import re\n",
    "import wikipediaapi\n",
    "from tqdm import tqdm\n",
    "import os"
   ]
  },
  {
   "cell_type": "markdown",
   "id": "87b48fe1-1ac6-4644-b977-f0e30d38fa5d",
   "metadata": {},
   "source": [
    "<h2>Links to the pages</h2>\n",
    "https://en.wikipedia.org/wiki/Wikipedia:Vital_articles/Level/5/People/Writers_and_journalists\n",
    "https://en.wikipedia.org/wiki/Wikipedia:Vital_articles/Level/5/People/Artists,_musicians,_and_composers\n",
    "https://en.wikipedia.org/wiki/Wikipedia:Vital_articles/Level/5/People/Entertainers,_directors,_producers,_and_screenwriters\n",
    "https://en.wikipedia.org/wiki/Wikipedia:Vital_articles/Level/5/People/Philosophers,_historians,_political_and_social_scientists\n",
    "https://en.wikipedia.org/wiki/Wikipedia:Vital_articles/Level/5/People/Religious_figures\n",
    "https://en.wikipedia.org/wiki/Wikipedia:Vital_articles/Level/5/People/Politicians_and_leaders\n",
    "https://en.wikipedia.org/wiki/Wikipedia:Vital_articles/Level/5/People/Military_personnel,_revolutionaries,_and_activists\n",
    "https://en.wikipedia.org/wiki/Wikipedia:Vital_articles/Level/5/People/Scientists,_inventors,_and_mathematicians\n",
    "https://en.wikipedia.org/wiki/Wikipedia:Vital_articles/Level/5/People/Sports_figures\n",
    "https://en.wikipedia.org/wiki/Wikipedia:Vital_articles/Level/5/People/Miscellaneous\n",
    "https://en.wikipedia.org/wiki/Wikipedia:Vital_articles/Level/5/History\n",
    "https://en.wikipedia.org/wiki/Wikipedia:Vital_articles/Level/5/Geography/Physical\n",
    "https://en.wikipedia.org/wiki/Wikipedia:Vital_articles/Level/5/Geography/Countries\n",
    "https://en.wikipedia.org/wiki/Wikipedia:Vital_articles/Level/5/Geography/Cities\n",
    "https://en.wikipedia.org/wiki/Wikipedia:Vital_articles/Level/5/Arts\n",
    "https://en.wikipedia.org/wiki/Wikipedia:Vital_articles/Level/5/Philosophy_and_religion\n",
    "https://en.wikipedia.org/wiki/Wikipedia:Vital_articles/Level/5/Everyday_life\n",
    "https://en.wikipedia.org/wiki/Wikipedia:Vital_articles/Level/5/Everyday_life/Sports,_games_and_recreation\n",
    "https://en.wikipedia.org/wiki/Wikipedia:Vital_articles/Level/5/Society_and_social_sciences/Social_studies\n",
    "https://en.wikipedia.org/wiki/Wikipedia:Vital_articles/Level/5/Society_and_social_sciences/Politics_and_economics\n",
    "https://en.wikipedia.org/wiki/Wikipedia:Vital_articles/Level/5/Society_and_social_sciences/Culture\n",
    "https://en.wikipedia.org/wiki/Wikipedia:Vital_articles/Level/5/Biological_and_health_sciences/Biology\n",
    "https://en.wikipedia.org/wiki/Wikipedia:Vital_articles/Level/5/Biological_and_health_sciences/Animals\n",
    "https://en.wikipedia.org/wiki/Wikipedia:Vital_articles/Level/5/Biological_and_health_sciences/Plants\n",
    "https://en.wikipedia.org/wiki/Wikipedia:Vital_articles/Level/5/Biological_and_health_sciences/Health\n",
    "https://en.wikipedia.org/wiki/Wikipedia:Vital_articles/Level/5/Physical_sciences/Basics_and_measurement\n",
    "https://en.wikipedia.org/wiki/Wikipedia:Vital_articles/Level/5/Physical_sciences/Astronomy\n",
    "https://en.wikipedia.org/wiki/Wikipedia:Vital_articles/Level/5/Physical_sciences/Chemistry\n",
    "https://en.wikipedia.org/wiki/Wikipedia:Vital_articles/Level/5/Physical_sciences/Earth_science\n",
    "https://en.wikipedia.org/wiki/Wikipedia:Vital_articles/Level/5/Physical_sciences/Physics\n",
    "https://en.wikipedia.org/wiki/Wikipedia:Vital_articles/Level/5/Technology\n",
    "https://en.wikipedia.org/wiki/Wikipedia:Vital_articles/Level/5/Mathematics"
   ]
  },
  {
   "cell_type": "code",
   "execution_count": 2,
   "id": "171ef315-5827-495b-bb51-e9c8f6b259d0",
   "metadata": {},
   "outputs": [],
   "source": [
    "links = [ \"https://en.wikipedia.org/wiki/Wikipedia:Vital_articles/Level/5/People/Writers_and_journalists\",\n",
    "\"https://en.wikipedia.org/wiki/Wikipedia:Vital_articles/Level/5/People/Artists,_musicians,_and_composers\",\n",
    "\"https://en.wikipedia.org/wiki/Wikipedia:Vital_articles/Level/5/People/Entertainers,_directors,_producers,_and_screenwriters\",\n",
    "\"https://en.wikipedia.org/wiki/Wikipedia:Vital_articles/Level/5/People/Philosophers,_historians,_political_and_social_scientists\",\n",
    "\"https://en.wikipedia.org/wiki/Wikipedia:Vital_articles/Level/5/People/Religious_figures\",\n",
    "\"https://en.wikipedia.org/wiki/Wikipedia:Vital_articles/Level/5/People/Politicians_and_leaders\",\n",
    "\"https://en.wikipedia.org/wiki/Wikipedia:Vital_articles/Level/5/People/Military_personnel,_revolutionaries,_and_activists\",\n",
    "\"https://en.wikipedia.org/wiki/Wikipedia:Vital_articles/Level/5/People/Scientists,_inventors,_and_mathematicians\",\n",
    "\"https://en.wikipedia.org/wiki/Wikipedia:Vital_articles/Level/5/People/Sports_figures\",\n",
    "\"https://en.wikipedia.org/wiki/Wikipedia:Vital_articles/Level/5/People/Miscellaneous\",\n",
    "\"https://en.wikipedia.org/wiki/Wikipedia:Vital_articles/Level/5/History\",\n",
    "\"https://en.wikipedia.org/wiki/Wikipedia:Vital_articles/Level/5/Geography/Physical\",\n",
    "\"https://en.wikipedia.org/wiki/Wikipedia:Vital_articles/Level/5/Geography/Countries\",\n",
    "\"https://en.wikipedia.org/wiki/Wikipedia:Vital_articles/Level/5/Geography/Cities\",\n",
    "\"https://en.wikipedia.org/wiki/Wikipedia:Vital_articles/Level/5/Arts\",\n",
    "\"https://en.wikipedia.org/wiki/Wikipedia:Vital_articles/Level/5/Philosophy_and_religion\",\n",
    "\"https://en.wikipedia.org/wiki/Wikipedia:Vital_articles/Level/5/Everyday_life\",\n",
    "\"https://en.wikipedia.org/wiki/Wikipedia:Vital_articles/Level/5/Everyday_life/Sports,_games_and_recreation\",\n",
    "\"https://en.wikipedia.org/wiki/Wikipedia:Vital_articles/Level/5/Society_and_social_sciences/Social_studies\",\n",
    "\"https://en.wikipedia.org/wiki/Wikipedia:Vital_articles/Level/5/Society_and_social_sciences/Politics_and_economics\",\n",
    "\"https://en.wikipedia.org/wiki/Wikipedia:Vital_articles/Level/5/Society_and_social_sciences/Culture\",\n",
    "\"https://en.wikipedia.org/wiki/Wikipedia:Vital_articles/Level/5/Biological_and_health_sciences/Biology\",\n",
    "\"https://en.wikipedia.org/wiki/Wikipedia:Vital_articles/Level/5/Biological_and_health_sciences/Animals\",\n",
    "\"https://en.wikipedia.org/wiki/Wikipedia:Vital_articles/Level/5/Biological_and_health_sciences/Plants\",\n",
    "\"https://en.wikipedia.org/wiki/Wikipedia:Vital_articles/Level/5/Biological_and_health_sciences/Health\",\n",
    "\"https://en.wikipedia.org/wiki/Wikipedia:Vital_articles/Level/5/Physical_sciences/Basics_and_measurement\",\n",
    "\"https://en.wikipedia.org/wiki/Wikipedia:Vital_articles/Level/5/Physical_sciences/Astronomy\",\n",
    "\"https://en.wikipedia.org/wiki/Wikipedia:Vital_articles/Level/5/Physical_sciences/Chemistry\",\n",
    "\"https://en.wikipedia.org/wiki/Wikipedia:Vital_articles/Level/5/Physical_sciences/Earth_science\",\n",
    "\"https://en.wikipedia.org/wiki/Wikipedia:Vital_articles/Level/5/Physical_sciences/Physics\",\n",
    "\"https://en.wikipedia.org/wiki/Wikipedia:Vital_articles/Level/5/Technology\",\n",
    "\"https://en.wikipedia.org/wiki/Wikipedia:Vital_articles/Level/5/Mathematics\"]"
   ]
  },
  {
   "cell_type": "code",
   "execution_count": 3,
   "id": "91bfd7bc-32dc-45c5-9edf-e17a9cca3013",
   "metadata": {},
   "outputs": [],
   "source": [
    "url = \"https://en.wikipedia.org/wiki/Wikipedia:Vital_articles/Level/4/Technology\""
   ]
  },
  {
   "cell_type": "code",
   "execution_count": 6,
   "id": "e1c96de7-a315-415a-b2a5-8d773a9634e1",
   "metadata": {},
   "outputs": [
    {
     "name": "stdout",
     "output_type": "stream",
     "text": [
      "Doing  : Writers_and_journalists\n"
     ]
    },
    {
     "name": "stderr",
     "output_type": "stream",
     "text": [
      "100%|██████████| 2495/2495 [00:02<00:00, 976.93it/s] \n"
     ]
    },
    {
     "name": "stdout",
     "output_type": "stream",
     "text": [
      "Doing  : Artists,_musicians,_and_composers\n"
     ]
    },
    {
     "name": "stderr",
     "output_type": "stream",
     "text": [
      "100%|██████████| 2655/2655 [00:02<00:00, 973.12it/s] \n"
     ]
    },
    {
     "name": "stdout",
     "output_type": "stream",
     "text": [
      "Doing  : Entertainers,_directors,_producers,_and_screenwriters\n"
     ]
    },
    {
     "name": "stderr",
     "output_type": "stream",
     "text": [
      "100%|██████████| 2601/2601 [00:02<00:00, 967.37it/s] \n"
     ]
    },
    {
     "name": "stdout",
     "output_type": "stream",
     "text": [
      "Doing  : Philosophers,_historians,_political_and_social_scientists\n"
     ]
    },
    {
     "name": "stderr",
     "output_type": "stream",
     "text": [
      "100%|██████████| 1597/1597 [00:01<00:00, 845.83it/s] \n"
     ]
    },
    {
     "name": "stdout",
     "output_type": "stream",
     "text": [
      "Doing  : Religious_figures\n"
     ]
    },
    {
     "name": "stderr",
     "output_type": "stream",
     "text": [
      "100%|██████████| 718/718 [00:01<00:00, 631.26it/s] \n"
     ]
    },
    {
     "name": "stdout",
     "output_type": "stream",
     "text": [
      "Doing  : Politicians_and_leaders\n"
     ]
    },
    {
     "name": "stderr",
     "output_type": "stream",
     "text": [
      "100%|██████████| 3044/3044 [00:02<00:00, 1106.58it/s]\n"
     ]
    },
    {
     "name": "stdout",
     "output_type": "stream",
     "text": [
      "Doing  : Military_personnel,_revolutionaries,_and_activists\n"
     ]
    },
    {
     "name": "stderr",
     "output_type": "stream",
     "text": [
      "100%|██████████| 1212/1212 [00:01<00:00, 772.51it/s] \n"
     ]
    },
    {
     "name": "stdout",
     "output_type": "stream",
     "text": [
      "Doing  : Scientists,_inventors,_and_mathematicians\n"
     ]
    },
    {
     "name": "stderr",
     "output_type": "stream",
     "text": [
      "100%|██████████| 1462/1462 [00:01<00:00, 860.38it/s] \n"
     ]
    },
    {
     "name": "stdout",
     "output_type": "stream",
     "text": [
      "Doing  : Sports_figures\n"
     ]
    },
    {
     "name": "stderr",
     "output_type": "stream",
     "text": [
      "100%|██████████| 1401/1401 [00:01<00:00, 819.46it/s] \n"
     ]
    },
    {
     "name": "stdout",
     "output_type": "stream",
     "text": [
      "Doing  : Miscellaneous\n"
     ]
    },
    {
     "name": "stderr",
     "output_type": "stream",
     "text": [
      "100%|██████████| 1346/1346 [00:01<00:00, 786.86it/s] \n"
     ]
    },
    {
     "name": "stdout",
     "output_type": "stream",
     "text": [
      "Doing  : History\n"
     ]
    },
    {
     "name": "stderr",
     "output_type": "stream",
     "text": [
      "100%|██████████| 4077/4077 [00:03<00:00, 1152.47it/s]\n"
     ]
    },
    {
     "name": "stdout",
     "output_type": "stream",
     "text": [
      "Doing  : Physical\n"
     ]
    },
    {
     "name": "stderr",
     "output_type": "stream",
     "text": [
      "100%|██████████| 2429/2429 [00:02<00:00, 972.31it/s] \n"
     ]
    },
    {
     "name": "stdout",
     "output_type": "stream",
     "text": [
      "Doing  : Countries\n"
     ]
    },
    {
     "name": "stderr",
     "output_type": "stream",
     "text": [
      "100%|██████████| 1815/1815 [00:02<00:00, 860.24it/s] \n"
     ]
    },
    {
     "name": "stdout",
     "output_type": "stream",
     "text": [
      "Doing  : Cities\n"
     ]
    },
    {
     "name": "stderr",
     "output_type": "stream",
     "text": [
      "100%|██████████| 2577/2577 [00:02<00:00, 1014.71it/s]\n"
     ]
    },
    {
     "name": "stdout",
     "output_type": "stream",
     "text": [
      "Doing  : Arts\n"
     ]
    },
    {
     "name": "stderr",
     "output_type": "stream",
     "text": [
      "100%|██████████| 4091/4091 [00:03<00:00, 1082.41it/s]\n"
     ]
    },
    {
     "name": "stdout",
     "output_type": "stream",
     "text": [
      "Doing  : Philosophy_and_religion\n"
     ]
    },
    {
     "name": "stderr",
     "output_type": "stream",
     "text": [
      "100%|██████████| 1955/1955 [00:02<00:00, 929.96it/s] \n"
     ]
    },
    {
     "name": "stdout",
     "output_type": "stream",
     "text": [
      "Doing  : Everyday_life\n"
     ]
    },
    {
     "name": "stderr",
     "output_type": "stream",
     "text": [
      "100%|██████████| 1567/1567 [00:01<00:00, 838.17it/s] \n"
     ]
    },
    {
     "name": "stdout",
     "output_type": "stream",
     "text": [
      "Doing  : Sports,_games_and_recreation\n"
     ]
    },
    {
     "name": "stderr",
     "output_type": "stream",
     "text": [
      "100%|██████████| 1529/1529 [00:01<00:00, 773.03it/s] \n"
     ]
    },
    {
     "name": "stdout",
     "output_type": "stream",
     "text": [
      "Doing  : Social_studies\n"
     ]
    },
    {
     "name": "stderr",
     "output_type": "stream",
     "text": [
      "100%|██████████| 712/712 [00:01<00:00, 660.94it/s] \n"
     ]
    },
    {
     "name": "stdout",
     "output_type": "stream",
     "text": [
      "Doing  : Politics_and_economics\n"
     ]
    },
    {
     "name": "stderr",
     "output_type": "stream",
     "text": [
      "100%|██████████| 2310/2310 [00:01<00:00, 1645.19it/s]\n"
     ]
    },
    {
     "name": "stdout",
     "output_type": "stream",
     "text": [
      "Doing  : Culture\n"
     ]
    },
    {
     "name": "stderr",
     "output_type": "stream",
     "text": [
      "100%|██████████| 2526/2526 [00:01<00:00, 1911.34it/s]\n"
     ]
    },
    {
     "name": "stdout",
     "output_type": "stream",
     "text": [
      "Doing  : Biology\n"
     ]
    },
    {
     "name": "stderr",
     "output_type": "stream",
     "text": [
      "100%|██████████| 1392/1392 [00:00<00:00, 1395.05it/s]\n"
     ]
    },
    {
     "name": "stdout",
     "output_type": "stream",
     "text": [
      "Doing  : Animals\n"
     ]
    },
    {
     "name": "stderr",
     "output_type": "stream",
     "text": [
      "100%|██████████| 3057/3057 [00:01<00:00, 2207.56it/s]\n"
     ]
    },
    {
     "name": "stdout",
     "output_type": "stream",
     "text": [
      "Doing  : Plants\n"
     ]
    },
    {
     "name": "stderr",
     "output_type": "stream",
     "text": [
      "100%|██████████| 1272/1272 [00:00<00:00, 1357.78it/s]\n"
     ]
    },
    {
     "name": "stdout",
     "output_type": "stream",
     "text": [
      "Doing  : Health\n"
     ]
    },
    {
     "name": "stderr",
     "output_type": "stream",
     "text": [
      "100%|██████████| 1217/1217 [00:00<00:00, 1311.54it/s]\n"
     ]
    },
    {
     "name": "stdout",
     "output_type": "stream",
     "text": [
      "Doing  : Basics_and_measurement\n"
     ]
    },
    {
     "name": "stderr",
     "output_type": "stream",
     "text": [
      "100%|██████████| 523/523 [00:00<00:00, 651.10it/s] \n"
     ]
    },
    {
     "name": "stdout",
     "output_type": "stream",
     "text": [
      "Doing  : Astronomy\n"
     ]
    },
    {
     "name": "stderr",
     "output_type": "stream",
     "text": [
      "100%|██████████| 1190/1190 [00:00<00:00, 1263.06it/s]\n"
     ]
    },
    {
     "name": "stdout",
     "output_type": "stream",
     "text": [
      "Doing  : Chemistry\n"
     ]
    },
    {
     "name": "stderr",
     "output_type": "stream",
     "text": [
      "100%|██████████| 1582/1582 [00:01<00:00, 1442.64it/s]\n"
     ]
    },
    {
     "name": "stdout",
     "output_type": "stream",
     "text": [
      "Doing  : Earth_science\n"
     ]
    },
    {
     "name": "stderr",
     "output_type": "stream",
     "text": [
      "100%|██████████| 1452/1452 [00:00<00:00, 1468.40it/s]\n"
     ]
    },
    {
     "name": "stdout",
     "output_type": "stream",
     "text": [
      "Doing  : Physics\n"
     ]
    },
    {
     "name": "stderr",
     "output_type": "stream",
     "text": [
      "100%|██████████| 1448/1448 [00:00<00:00, 1497.34it/s]\n"
     ]
    },
    {
     "name": "stdout",
     "output_type": "stream",
     "text": [
      "Doing  : Technology\n"
     ]
    },
    {
     "name": "stderr",
     "output_type": "stream",
     "text": [
      "100%|██████████| 3993/3993 [04:17<00:00, 15.50it/s]  \n"
     ]
    },
    {
     "name": "stdout",
     "output_type": "stream",
     "text": [
      "Doing  : Mathematics\n"
     ]
    },
    {
     "name": "stderr",
     "output_type": "stream",
     "text": [
      "100%|██████████| 1538/1538 [15:12<00:00,  1.68it/s]  \n"
     ]
    }
   ],
   "source": [
    "for url in links:\n",
    "    print(\"Doing  : {}\".format(url.split(\"/\")[-1]))\n",
    "    path = \"dataset-level-5/\" + url.split(\"/\")[-1]\n",
    "    article_path = path + \"/Article/\"\n",
    "    summary_path = path + \"/Summary/\"\n",
    "    os.makedirs(path, exist_ok=True)\n",
    "    os.makedirs(article_path, exist_ok=True)\n",
    "    os.makedirs(summary_path, exist_ok=True)\n",
    "    \n",
    "    res = requests.get(url)\n",
    "    soup = BeautifulSoup(res.text, 'html.parser')\n",
    "\n",
    "    tags = soup.find_all(lambda tag: tag.name == 'a' and 'href' in tag.attrs and 'title' in tag.attrs and len(tag.attrs) == 2)\n",
    "    article_names = [ tag.text for tag in tags]\n",
    "    \n",
    "    pattern = '.*\\/wiki.*'\n",
    "    \n",
    "    wiki_wiki = wikipediaapi.Wikipedia('en',timeout=10.0)\n",
    "\n",
    "    done_files = set()\n",
    "    \n",
    "    api_calls = 0\n",
    "\n",
    "    for i, tag in enumerate( tqdm(tags) ):\n",
    "        attributes = tag.attrs\n",
    "        href = attributes[\"href\"]\n",
    "        title = attributes[\"title\"]\n",
    "        if re.match(pattern, href) and title not in done_files :\n",
    "            #print(href + \":\" + title)\n",
    "\n",
    "            done_files.add(title)\n",
    "            \n",
    "            if os.path.isfile(article_path+\"/{}.txt\".format(title.replace('/','-'))) and os.path.isfile(summary_path+\"/{}.txt\".format(title.replace('/','-'))):\n",
    "                continue\n",
    "            if \"Category:Wikipedia\" in title or \"Wikipedia:\" in title or \"User:\" in title or \"Help:\" in title or \"Template talk:\" in title or \"Template:\" in title or \"Category:\" in title:\n",
    "                    continue\n",
    "                \n",
    "\n",
    "            page_py = wiki_wiki.page(title)\n",
    "            api_calls += 1\n",
    "\n",
    "           \n",
    "                #print(\"Failed for {}\".format(title))\n",
    "\n",
    "            if page_py.exists() == True:\n",
    "\n",
    "                with open(article_path+\"/{}.txt\".format(title.replace('/','-')),'w') as file:\n",
    "                    file.write(page_py.text)\n",
    "\n",
    "                with open(summary_path+\"/{}.txt\".format(title.replace('/','-')),'w') as file:\n",
    "                    file.write(page_py.summary)\n",
    "\n",
    "        if api_calls%100 == 0 and api_calls!=0:\n",
    "            time.sleep(60)\n",
    "            api_calls = 0"
   ]
  },
  {
   "cell_type": "code",
   "execution_count": null,
   "id": "4cee37c2-3a11-43c9-b6b1-33284419e513",
   "metadata": {},
   "outputs": [],
   "source": [
    "path = \"dataset/\" + url.split(\"/\")[-1]"
   ]
  },
  {
   "cell_type": "code",
   "execution_count": 93,
   "id": "978c87fd-9564-4d47-9a28-27fb14b51e89",
   "metadata": {},
   "outputs": [],
   "source": [
    "article_path = path + \"/Article/\"\n",
    "summary_path = path + \"/Summary/\"\n",
    "os.makedirs(path, exist_ok=True)\n",
    "os.makedirs(article_path, exist_ok=True)\n",
    "os.makedirs(summary_path, exist_ok=True)"
   ]
  },
  {
   "cell_type": "code",
   "execution_count": 94,
   "id": "e93bda74-86c4-4fb2-b5c1-41cf42a2191b",
   "metadata": {},
   "outputs": [],
   "source": [
    "res = requests.get(url)\n",
    "soup = BeautifulSoup(res.text, 'html.parser')\n",
    "\n",
    "tags = soup.find_all(lambda tag: tag.name == 'a' and 'href' in tag.attrs and 'title' in tag.attrs and len(tag.attrs) == 2)\n",
    "article_names = [ tag.text for tag in tags]"
   ]
  },
  {
   "cell_type": "code",
   "execution_count": 95,
   "id": "17311d2c-9a94-49c4-969d-efd474c83d1b",
   "metadata": {},
   "outputs": [
    {
     "name": "stderr",
     "output_type": "stream",
     "text": [
      "100%|█████████████████████████████████████████████████████████████████████████████████████████████████████████████████████████████████████████████████████████████████████████████| 945/945 [10:55<00:00,  1.44it/s]\n"
     ]
    }
   ],
   "source": [
    "pattern = '.*\\/wiki.*'\n",
    "success_count = 0\n",
    "fail_count = 0\n",
    "wiki_wiki = wikipediaapi.Wikipedia('en',timeout=10.0)\n",
    "\n",
    "done_files = set()\n",
    "\n",
    "for i, tag in enumerate( tqdm(tags) ):\n",
    "    attributes = tag.attrs\n",
    "    href = attributes[\"href\"]\n",
    "    title = attributes[\"title\"]\n",
    "    if re.match(pattern, href) and title not in done_files :\n",
    "        #print(href + \":\" + title)\n",
    "        \n",
    "        done_files.add(title)\n",
    "        \n",
    "        page_py = wiki_wiki.page(title)\n",
    "        \n",
    "        if page_py.exists() == False:\n",
    "            #print(\"Failed for {}\".format(title))\n",
    "            fail_count += 1\n",
    "            \n",
    "        else:\n",
    "\n",
    "            if \"Category:Wikipedia\" in title or \"Wikipedia:\" in title or \"User:\" in title or \"Help:\" in title or \"Template talk:\" in title or \"Template:\" in title or \"Category:\" in title:\n",
    "                continue\n",
    "\n",
    "            with open(article_path+\"/{}.txt\".format(title.replace('/','-')),'w') as file:\n",
    "                file.write(page_py.text)\n",
    "\n",
    "            with open(summary_path+\"/{}.txt\".format(title.replace('/','-')),'w') as file:\n",
    "                file.write(page_py.summary)\n",
    "                \n",
    "            success_count += 1\n",
    "            \n",
    "    if i%100 == 0 and i!=0:\n",
    "        time.sleep(60)"
   ]
  },
  {
   "cell_type": "code",
   "execution_count": 96,
   "id": "5bcb01c1-d5cf-4f2b-ab42-734f70adfe9d",
   "metadata": {},
   "outputs": [
    {
     "name": "stdout",
     "output_type": "stream",
     "text": [
      "740\n"
     ]
    }
   ],
   "source": [
    "print(success_count)"
   ]
  },
  {
   "cell_type": "code",
   "execution_count": 97,
   "id": "d8c607a4-d96c-41ea-9089-3e88e16ccf9b",
   "metadata": {},
   "outputs": [
    {
     "name": "stdout",
     "output_type": "stream",
     "text": [
      "10\n"
     ]
    }
   ],
   "source": [
    "print(fail_count)"
   ]
  }
 ],
 "metadata": {
  "kernelspec": {
   "display_name": "Python 3 (ipykernel)",
   "language": "python",
   "name": "python3"
  },
  "language_info": {
   "codemirror_mode": {
    "name": "ipython",
    "version": 3
   },
   "file_extension": ".py",
   "mimetype": "text/x-python",
   "name": "python",
   "nbconvert_exporter": "python",
   "pygments_lexer": "ipython3",
   "version": "3.9.16"
  }
 },
 "nbformat": 4,
 "nbformat_minor": 5
}

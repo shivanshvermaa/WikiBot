{
 "cells": [
  {
   "cell_type": "code",
   "execution_count": 1,
   "id": "16ab0051-24d4-419a-9863-fd4abb445d68",
   "metadata": {},
   "outputs": [],
   "source": [
    "import pandas as pd\n",
    "import numpy as np\n",
    "import os\n",
    "import nltk\n",
    "from sklearn.datasets import fetch_20newsgroups\n",
    "from nltk.tokenize import word_tokenize\n",
    "from sklearn.feature_extraction.text import CountVectorizer,TfidfVectorizer\n",
    "from sklearn.tree import DecisionTreeClassifier\n",
    "from gensim.parsing import strip_tags, strip_numeric, strip_multiple_whitespaces, stem_text, strip_punctuation, remove_stopwords\n",
    "from gensim.parsing import preprocess_string\n",
    "from gensim import parsing\n",
    "import glob\n",
    "import re\n",
    "from sklearn.linear_model import LogisticRegression\n",
    "from sklearn.model_selection import train_test_split\n",
    "from sklearn.feature_selection import SelectFromModel\n",
    "import matplotlib.pyplot as plt\n",
    "import seaborn as sns\n",
    "from sklearn.decomposition import NMF\n",
    "from nltk.corpus import stopwords \n",
    "from sklearn.decomposition import LatentDirichletAllocation \n",
    "from bs4 import BeautifulSoup"
   ]
  },
  {
   "cell_type": "code",
   "execution_count": 2,
   "id": "71a0e67a-6756-44ee-815d-83f63e440d57",
   "metadata": {},
   "outputs": [],
   "source": [
    "from rouge import Rouge"
   ]
  },
  {
   "cell_type": "code",
   "execution_count": 3,
   "id": "b9404e3f-9184-49d0-bb08-af0527a1d57b",
   "metadata": {},
   "outputs": [],
   "source": [
    "df = pd.read_csv(\"Wikipedia-Level-4-Articles-Cleaned-2.csv\")"
   ]
  },
  {
   "cell_type": "code",
   "execution_count": 4,
   "id": "972155ce-594c-4dc8-b42d-04c33d5e3b78",
   "metadata": {},
   "outputs": [
    {
     "data": {
      "text/html": [
       "<div>\n",
       "<style scoped>\n",
       "    .dataframe tbody tr th:only-of-type {\n",
       "        vertical-align: middle;\n",
       "    }\n",
       "\n",
       "    .dataframe tbody tr th {\n",
       "        vertical-align: top;\n",
       "    }\n",
       "\n",
       "    .dataframe thead th {\n",
       "        text-align: right;\n",
       "    }\n",
       "</style>\n",
       "<table border=\"1\" class=\"dataframe\">\n",
       "  <thead>\n",
       "    <tr style=\"text-align: right;\">\n",
       "      <th></th>\n",
       "      <th>Title</th>\n",
       "      <th>Article</th>\n",
       "      <th>Category</th>\n",
       "      <th>Summary</th>\n",
       "      <th>Article_clean</th>\n",
       "      <th>Summary_clean</th>\n",
       "    </tr>\n",
       "  </thead>\n",
       "  <tbody>\n",
       "    <tr>\n",
       "      <th>0</th>\n",
       "      <td>Masaccio</td>\n",
       "      <td>Masaccio (UK: , US: , Italian: [maˈzattʃo]; De...</td>\n",
       "      <td>People</td>\n",
       "      <td>Masaccio (UK: , US: , Italian: [maˈzattʃo]; De...</td>\n",
       "      <td>masaccio italian decemb 1401 summer 1428 born ...</td>\n",
       "      <td>masaccio italian december 1401 summer 1428 bor...</td>\n",
       "    </tr>\n",
       "    <tr>\n",
       "      <th>1</th>\n",
       "      <td>Hokusai</td>\n",
       "      <td>Katsushika Hokusai (葛飾 北斎, c. 31 October 1760 ...</td>\n",
       "      <td>People</td>\n",
       "      <td>Katsushika Hokusai (葛飾 北斎, c. 31 October 1760 ...</td>\n",
       "      <td>katsushika hokusai octob 1760 may 1849 known s...</td>\n",
       "      <td>katsushika hokusai october 1760 may 1849 known...</td>\n",
       "    </tr>\n",
       "    <tr>\n",
       "      <th>2</th>\n",
       "      <td>Steven Spielberg</td>\n",
       "      <td>Steven Allan Spielberg  (; born December 18, 1...</td>\n",
       "      <td>People</td>\n",
       "      <td>Steven Allan Spielberg  (; born December 18, 1...</td>\n",
       "      <td>steven allan spielberg born decemb 1946 americ...</td>\n",
       "      <td>steven allan spielberg born december 1946 amer...</td>\n",
       "    </tr>\n",
       "    <tr>\n",
       "      <th>3</th>\n",
       "      <td>Che Guevara</td>\n",
       "      <td>Ernesto \"Che\" Guevara (Spanish: [ˈtʃe ɣeˈβaɾa]...</td>\n",
       "      <td>People</td>\n",
       "      <td>Ernesto \"Che\" Guevara (Spanish: [ˈtʃe ɣeˈβaɾa]...</td>\n",
       "      <td>ernesto che guevara spanish june 1928 octob 19...</td>\n",
       "      <td>ernesto che guevara spanish june 1928 october ...</td>\n",
       "    </tr>\n",
       "    <tr>\n",
       "      <th>4</th>\n",
       "      <td>Jöns Jacob Berzelius</td>\n",
       "      <td>Baron Jöns Jacob Berzelius (Swedish: [jœns ˈjɑ...</td>\n",
       "      <td>People</td>\n",
       "      <td>Baron Jöns Jacob Berzelius (Swedish: [jœns ˈjɑ...</td>\n",
       "      <td>baron jacob berzeliu swedish contemporari name...</td>\n",
       "      <td>baron jacob berzelius swedish contemporary nam...</td>\n",
       "    </tr>\n",
       "  </tbody>\n",
       "</table>\n",
       "</div>"
      ],
      "text/plain": [
       "                   Title                                            Article  \\\n",
       "0               Masaccio  Masaccio (UK: , US: , Italian: [maˈzattʃo]; De...   \n",
       "1                Hokusai  Katsushika Hokusai (葛飾 北斎, c. 31 October 1760 ...   \n",
       "2       Steven Spielberg  Steven Allan Spielberg  (; born December 18, 1...   \n",
       "3            Che Guevara  Ernesto \"Che\" Guevara (Spanish: [ˈtʃe ɣeˈβaɾa]...   \n",
       "4  Jöns Jacob Berzelius  Baron Jöns Jacob Berzelius (Swedish: [jœns ˈjɑ...   \n",
       "\n",
       "  Category                                            Summary  \\\n",
       "0   People  Masaccio (UK: , US: , Italian: [maˈzattʃo]; De...   \n",
       "1   People  Katsushika Hokusai (葛飾 北斎, c. 31 October 1760 ...   \n",
       "2   People  Steven Allan Spielberg  (; born December 18, 1...   \n",
       "3   People  Ernesto \"Che\" Guevara (Spanish: [ˈtʃe ɣeˈβaɾa]...   \n",
       "4   People  Baron Jöns Jacob Berzelius (Swedish: [jœns ˈjɑ...   \n",
       "\n",
       "                                       Article_clean  \\\n",
       "0  masaccio italian decemb 1401 summer 1428 born ...   \n",
       "1  katsushika hokusai octob 1760 may 1849 known s...   \n",
       "2  steven allan spielberg born decemb 1946 americ...   \n",
       "3  ernesto che guevara spanish june 1928 octob 19...   \n",
       "4  baron jacob berzeliu swedish contemporari name...   \n",
       "\n",
       "                                       Summary_clean  \n",
       "0  masaccio italian december 1401 summer 1428 bor...  \n",
       "1  katsushika hokusai october 1760 may 1849 known...  \n",
       "2  steven allan spielberg born december 1946 amer...  \n",
       "3  ernesto che guevara spanish june 1928 october ...  \n",
       "4  baron jacob berzelius swedish contemporary nam...  "
      ]
     },
     "execution_count": 4,
     "metadata": {},
     "output_type": "execute_result"
    }
   ],
   "source": [
    "df = df.drop(['Unnamed: 0'], axis = 1)\n",
    "df.head()"
   ]
  },
  {
   "cell_type": "code",
   "execution_count": 5,
   "id": "00830393-e9a3-446c-b684-354ee94390f7",
   "metadata": {},
   "outputs": [],
   "source": [
    "def LDA_Summarizer(documents, num_sentences, num_of_topics=1000, num_of_top_words=20):\n",
    "    summaries = []\n",
    "    for document in documents:\n",
    "        # Vectorizing the document and finind the vectorized representation\n",
    "        vectorizer = TfidfVectorizer(sublinear_tf=True, stop_words='english')\n",
    "        document_model = vectorizer.fit_transform([document])\n",
    "        \n",
    "        #Fitting an LDA model to find the best topics\n",
    "        lda = LatentDirichletAllocation(n_components=num_of_topics, max_iter=20, random_state=42)\n",
    "        lda.fit(document_model)\n",
    "\n",
    "        # Get the most probable words for each topic\n",
    "        feature_names = vectorizer.get_feature_names_out()\n",
    "        topic_words = []\n",
    "        \n",
    "        for topic in lda.components_:\n",
    "            word_idx = np.argsort(topic)[::-1][:num_of_top_words]\n",
    "            topic_words.append([feature_names[i] for i in word_idx])\n",
    "\n",
    "        #Finding out the most probable topics in each of the sentences\n",
    "        sentence_topics = []\n",
    "        for sentence in nltk.sent_tokenize(document):\n",
    "            sentence_model = vectorizer.transform([sentence])\n",
    "            sentence_topics.append(lda.transform(sentence_model)[0])\n",
    "\n",
    "        summary = []\n",
    "        selected_sentences = set()\n",
    "        while len(summary) < num_sentences:\n",
    "            \n",
    "            best_sentence = None\n",
    "            best_score = 0\n",
    "            \n",
    "            for i, sentence in enumerate(sentence_topics):\n",
    "                \n",
    "                if i in selected_sentences: continue\n",
    "                sentence_score = sum([sentence[j]*sentence_topics[j][k] for j in range(len(sentence_topics)) for k in range(num_of_topics)])\n",
    "                \n",
    "                #Selecting the best sentences based on the PD sum\n",
    "                \n",
    "                if sentence_score > best_score:\n",
    "                    best_sentence = i\n",
    "                    best_score = sentence_score\n",
    "            if best_sentence is None: break\n",
    "            \n",
    "            summary.append((nltk.sent_tokenize(document)[best_sentence], best_sentence))\n",
    "            print(nltk.sent_tokenize(document)[best_sentence])\n",
    "            selected_sentences.add(best_sentence)\n",
    "\n",
    "        summary = sorted(summary, key=lambda x: x[1])\n",
    "        summaries.append(' '.join(list(map(lambda x: x[0], summary))))\n",
    "    return summaries"
   ]
  },
  {
   "cell_type": "code",
   "execution_count": 6,
   "id": "aaca0cce-4347-41c0-86a2-c1f7bbb140a5",
   "metadata": {},
   "outputs": [],
   "source": [
    "articles = list(df[\"Article\"])\n",
    "summary_list = list(df[\"Summary\"])"
   ]
  },
  {
   "cell_type": "code",
   "execution_count": 7,
   "id": "bd3a2b73-85e0-42b4-8313-ef61a1f82a76",
   "metadata": {},
   "outputs": [],
   "source": [
    "articles = articles[101:102]\n",
    "summary_list = summary_list[101:102]"
   ]
  },
  {
   "cell_type": "code",
   "execution_count": 8,
   "id": "95bc0b8f-1a8c-4894-a43d-72ba6e531e3b",
   "metadata": {},
   "outputs": [
    {
     "name": "stderr",
     "output_type": "stream",
     "text": [
      "/shared/centos7/anaconda3/2022.05/lib/python3.9/site-packages/sklearn/decomposition/_lda.py:861: RuntimeWarning: overflow encountered in exp\n",
      "  return np.exp(-1.0 * perword_bound)\n"
     ]
    },
    {
     "name": "stdout",
     "output_type": "stream",
     "text": [
      "Philip Cortelyou Johnson (July 8, 1906 – January 25, 2005) was an American architect best known for his works of modern and postmodern architecture.\n",
      "Among his best-known designs are his modernist Glass House in New Canaan, Connecticut; the postmodern 550 Madison Avenue in New York, designed for AT&T; 190 South La Salle Street in Chicago; the Sculpture Garden of the Museum of Modern Art; and the Pre-Columbian Pavilion at Dumbarton Oaks.\n",
      "In his obituary in 2005, The New York Times wrote that his works \"were widely considered among the architectural masterpieces of the 20th century.\n",
      "\"In 1930, Johnson became the first director of the architecture department of the Museum of Modern Art in New York.\n",
      "There he arranged for visits by Walter Gropius and Le Corbusier and negotiated the first American commission for Mies van der Rohe, when he fled Nazi Germany.\n",
      "In 1932, he organized the first exhibition on modern architecture at the Museum of Modern Art.\n",
      "In 1934, Johnson resigned his position at the museum, and, as the New York Times reported in his obituary, \"took a bizarre and, he later conceded, deeply mistaken detour into right-wing politics, suspending his career to work on behalf of Gov.\n",
      "Huey P. Long of Louisiana and later the radio priest Father Charles Coughlin, and expressing more than passing admiration for Hitler.\"\n",
      "In 1941, as the war approached, Johnson abruptly quit Coughlin's newspaper and journalism.\n",
      "He was investigated by the FBI, and was eventually cleared for military service.\n",
      "-----\n",
      "Philip Cortelyou Johnson (July 8, 1906 – January 25, 2005) was an American architect best known for his works of modern and postmodern architecture. Among his best-known designs are his modernist Glass House in New Canaan, Connecticut; the postmodern 550 Madison Avenue in New York, designed for AT&T; 190 South La Salle Street in Chicago; the Sculpture Garden of the Museum of Modern Art; and the Pre-Columbian Pavilion at Dumbarton Oaks. In his obituary in 2005, The New York Times wrote that his works \"were widely considered among the architectural masterpieces of the 20th century. \"In 1930, Johnson became the first director of the architecture department of the Museum of Modern Art in New York. There he arranged for visits by Walter Gropius and Le Corbusier and negotiated the first American commission for Mies van der Rohe, when he fled Nazi Germany. In 1932, he organized the first exhibition on modern architecture at the Museum of Modern Art. In 1934, Johnson resigned his position at the museum, and, as the New York Times reported in his obituary, \"took a bizarre and, he later conceded, deeply mistaken detour into right-wing politics, suspending his career to work on behalf of Gov. Huey P. Long of Louisiana and later the radio priest Father Charles Coughlin, and expressing more than passing admiration for Hitler.\" In 1941, as the war approached, Johnson abruptly quit Coughlin's newspaper and journalism. He was investigated by the FBI, and was eventually cleared for military service.\n",
      "-----\n"
     ]
    }
   ],
   "source": [
    "summaries = LDA_Summarizer(articles,10)\n",
    "for summary in summaries:\n",
    "    print(\"-----\")\n",
    "    print(summary)\n",
    "    print(\"-----\")"
   ]
  },
  {
   "cell_type": "code",
   "execution_count": 9,
   "id": "fc6b9803-27ed-41fa-bad1-7926707daa0a",
   "metadata": {},
   "outputs": [],
   "source": [
    "rouge = Rouge()"
   ]
  },
  {
   "cell_type": "code",
   "execution_count": 10,
   "id": "adaf93f3-32b4-41df-a90d-47f322638f2a",
   "metadata": {},
   "outputs": [
    {
     "name": "stdout",
     "output_type": "stream",
     "text": [
      "{'rouge-1': {'f': 0.888489203695267, 'p': 1.0, 'r': 0.7993527508090615}, 'rouge-2': {'f': 0.888086637661901, 'p': 1.0, 'r': 0.7987012987012987}, 'rouge-l': {'f': 0.8888888839506174, 'p': 1.0, 'r': 0.8}}\n"
     ]
    }
   ],
   "source": [
    "scores = rouge.get_scores(summaries, summary_list, avg = True)\n",
    "print(scores)"
   ]
  },
  {
   "cell_type": "code",
   "execution_count": 11,
   "id": "edf5b0b0-2adc-40df-b810-198bd62556e1",
   "metadata": {},
   "outputs": [
    {
     "data": {
      "text/plain": [
       "['Philip Cortelyou Johnson (July 8, 1906 – January 25, 2005) was an American architect best known for his works of modern and postmodern architecture. Among his best-known designs are his modernist Glass House in New Canaan, Connecticut; the postmodern 550 Madison Avenue in New York, designed for AT&T; 190 South La Salle Street in Chicago; the Sculpture Garden of the Museum of Modern Art; and the Pre-Columbian Pavilion at Dumbarton Oaks. In his obituary in 2005, The New York Times wrote that his works \"were widely considered among the architectural masterpieces of the 20th century.\"In 1930, Johnson became the first director of the architecture department of the Museum of Modern Art in New York. There he arranged for visits by Walter Gropius and Le Corbusier and negotiated the first American commission for Mies van der Rohe, when he fled Nazi Germany. In 1932, he organized the first exhibition on modern architecture at the Museum of Modern Art.\\nIn 1934, Johnson resigned his position at the museum, and, as the New York Times reported in his obituary, \"took a bizarre and, he later conceded, deeply mistaken detour into right-wing politics, suspending his career to work on behalf of Gov. Huey P. Long of Louisiana and later the radio priest Father Charles Coughlin, and expressing more than passing admiration for Hitler.\"  In 1941, as the war approached, Johnson abruptly quit Coughlin\\'s newspaper and journalism. He was investigated by the FBI, and was eventually cleared for military service. Years later he would refer to these activities as \"the stupidest thing I ever did [which] I never can atone for\".\\n1978, he was awarded an American Institute of Architects Gold Medal and in 1979 the first Pritzker Architecture Prize. Today his skyscrapers are prominent features in the skylines of New York, Houston, Chicago, Detroit, Minneapolis, Pittsburgh, Atlanta, Madrid, and other cities.']"
      ]
     },
     "execution_count": 11,
     "metadata": {},
     "output_type": "execute_result"
    }
   ],
   "source": [
    "summary_list"
   ]
  },
  {
   "cell_type": "code",
   "execution_count": 12,
   "id": "475c1036-ebbb-498b-9292-d37dea49c92c",
   "metadata": {},
   "outputs": [],
   "source": [
    "def NMF_Summarizer(documents, num_sentences, num_of_topics=1000, num_of_top_words=20):\n",
    "    summaries = []\n",
    "    for document in documents:\n",
    "        # Vectorizing the document and finind the vectorized representation\n",
    "        vectorizer = TfidfVectorizer(sublinear_tf=True, stop_words='english')\n",
    "        document_model = vectorizer.fit_transform([document])\n",
    "        \n",
    "        #Fitting an NMF model to find the best topics\n",
    "        nmf = NMF(n_components=num_of_topics, random_state=42)\n",
    "        nmf.fit(document_model)\n",
    "\n",
    "        # Get the most probable words for each topic\n",
    "        feature_names = vectorizer.get_feature_names_out()\n",
    "        topic_words = []\n",
    "        \n",
    "        for topic in nmf.components_:\n",
    "            word_idx = np.argsort(topic)[::-1][:num_of_top_words]\n",
    "            topic_words.append([feature_names[i] for i in word_idx])\n",
    "\n",
    "        #Finding out the most probable topics in each of the sentences\n",
    "        sentence_topics = []\n",
    "        for sentence in nltk.sent_tokenize(document):\n",
    "            sentence_model = vectorizer.transform([sentence])\n",
    "            sentence_topics.append(nmf.transform(sentence_model)[0])\n",
    "\n",
    "        summary = []\n",
    "        selected_sentences = set()\n",
    "        while len(summary) < num_sentences:\n",
    "            \n",
    "            best_sentence = None\n",
    "            best_score = 0\n",
    "            \n",
    "            for i, sentence in enumerate(sentence_topics):\n",
    "                \n",
    "                if i in selected_sentences: continue\n",
    "                sentence_score = sum([sentence[j]*sentence_topics[j][k] for j in range(len(sentence_topics)) for k in range(num_of_topics)])\n",
    "                \n",
    "                #Selecting the best sentences based on the PD sum\n",
    "                \n",
    "                if sentence_score > best_score:\n",
    "                    best_sentence = i\n",
    "                    best_score = sentence_score\n",
    "            if best_sentence is None: break\n",
    "            \n",
    "            summary.append((nltk.sent_tokenize(document)[best_sentence], best_sentence))\n",
    "            print(nltk.sent_tokenize(document)[best_sentence])\n",
    "            selected_sentences.add(best_sentence)\n",
    "\n",
    "        summary = sorted(summary, key=lambda x: x[1])\n",
    "        summaries.append(' '.join(list(map(lambda x: x[0], summary))))\n",
    "    return summaries"
   ]
  },
  {
   "cell_type": "code",
   "execution_count": 13,
   "id": "b18b1600-514c-4a1f-af61-d989b1b2fc22",
   "metadata": {},
   "outputs": [
    {
     "name": "stderr",
     "output_type": "stream",
     "text": [
      "/shared/centos7/anaconda3/2022.05/lib/python3.9/site-packages/sklearn/decomposition/_nmf.py:289: FutureWarning: The 'init' value, when 'init=None' and n_components is less than n_samples and n_features, will be changed from 'nndsvd' to 'nndsvda' in 1.1 (renaming of 0.26).\n",
      "  warnings.warn(\n",
      "/shared/centos7/anaconda3/2022.05/lib/python3.9/site-packages/sklearn/decomposition/_nmf.py:112: RuntimeWarning: invalid value encountered in sqrt\n",
      "  return np.sqrt(res * 2)\n"
     ]
    },
    {
     "name": "stdout",
     "output_type": "stream",
     "text": [
      "In 1947, he curated the first exhibition of modern architecture of the Museum of Modern Art including a model of the glass Farnsworth House of Mies.In 1949 he began building a new residence, the Glass House in New Canaan, Connecticut, that was completed in 1949.\n",
      "\"In 1930, Johnson became the first director of the architecture department of the Museum of Modern Art in New York.\n",
      "There he arranged for visits by Walter Gropius and Le Corbusier and negotiated the first American commission for Mies van der Rohe, when he fled Nazi Germany.\n",
      "The Man in the Glass House: Philip Johnson, Architect of the Modern Century.\n",
      "Philip Cortelyou Johnson (July 8, 1906 – January 25, 2005) was an American architect best known for his works of modern and postmodern architecture.\n",
      "-----\n",
      "Philip Cortelyou Johnson (July 8, 1906 – January 25, 2005) was an American architect best known for his works of modern and postmodern architecture. \"In 1930, Johnson became the first director of the architecture department of the Museum of Modern Art in New York. There he arranged for visits by Walter Gropius and Le Corbusier and negotiated the first American commission for Mies van der Rohe, when he fled Nazi Germany. In 1947, he curated the first exhibition of modern architecture of the Museum of Modern Art including a model of the glass Farnsworth House of Mies.In 1949 he began building a new residence, the Glass House in New Canaan, Connecticut, that was completed in 1949. The Man in the Glass House: Philip Johnson, Architect of the Modern Century.\n",
      "-----\n"
     ]
    }
   ],
   "source": [
    "summaries = NMF_Summarizer(articles,5)\n",
    "for summary in summaries:\n",
    "    print(\"-----\")\n",
    "    print(summary)\n",
    "    print(\"-----\")"
   ]
  },
  {
   "cell_type": "code",
   "execution_count": 14,
   "id": "74be8894-5892-4b60-852f-5cb4d24e5522",
   "metadata": {},
   "outputs": [
    {
     "name": "stdout",
     "output_type": "stream",
     "text": [
      "{'rouge-1': {'f': 0.4829157133711428, 'p': 0.8153846153846154, 'r': 0.343042071197411}, 'rouge-2': {'f': 0.3844393551066404, 'p': 0.6511627906976745, 'r': 0.2727272727272727}, 'rouge-l': {'f': 0.4539007050953172, 'p': 0.7804878048780488, 'r': 0.32}}\n"
     ]
    }
   ],
   "source": [
    "scores = rouge.get_scores(summaries, summary_list, avg = True)\n",
    "print(scores)"
   ]
  },
  {
   "cell_type": "code",
   "execution_count": 15,
   "id": "3208fb30-c9ff-431e-a4aa-93b023694ce8",
   "metadata": {},
   "outputs": [
    {
     "data": {
      "text/plain": [
       "['Philip Cortelyou Johnson (July 8, 1906 – January 25, 2005) was an American architect best known for his works of modern and postmodern architecture. \"In 1930, Johnson became the first director of the architecture department of the Museum of Modern Art in New York. There he arranged for visits by Walter Gropius and Le Corbusier and negotiated the first American commission for Mies van der Rohe, when he fled Nazi Germany. In 1947, he curated the first exhibition of modern architecture of the Museum of Modern Art including a model of the glass Farnsworth House of Mies.In 1949 he began building a new residence, the Glass House in New Canaan, Connecticut, that was completed in 1949. The Man in the Glass House: Philip Johnson, Architect of the Modern Century.']"
      ]
     },
     "execution_count": 15,
     "metadata": {},
     "output_type": "execute_result"
    }
   ],
   "source": [
    "summaries"
   ]
  },
  {
   "cell_type": "code",
   "execution_count": 16,
   "id": "8e328e4c-4d3e-4ad4-96d5-8da686cc89b2",
   "metadata": {},
   "outputs": [
    {
     "data": {
      "text/plain": [
       "['Philip Cortelyou Johnson (July 8, 1906 – January 25, 2005) was an American architect best known for his works of modern and postmodern architecture. Among his best-known designs are his modernist Glass House in New Canaan, Connecticut; the postmodern 550 Madison Avenue in New York, designed for AT&T; 190 South La Salle Street in Chicago; the Sculpture Garden of the Museum of Modern Art; and the Pre-Columbian Pavilion at Dumbarton Oaks. In his obituary in 2005, The New York Times wrote that his works \"were widely considered among the architectural masterpieces of the 20th century.\"In 1930, Johnson became the first director of the architecture department of the Museum of Modern Art in New York. There he arranged for visits by Walter Gropius and Le Corbusier and negotiated the first American commission for Mies van der Rohe, when he fled Nazi Germany. In 1932, he organized the first exhibition on modern architecture at the Museum of Modern Art.\\nIn 1934, Johnson resigned his position at the museum, and, as the New York Times reported in his obituary, \"took a bizarre and, he later conceded, deeply mistaken detour into right-wing politics, suspending his career to work on behalf of Gov. Huey P. Long of Louisiana and later the radio priest Father Charles Coughlin, and expressing more than passing admiration for Hitler.\"  In 1941, as the war approached, Johnson abruptly quit Coughlin\\'s newspaper and journalism. He was investigated by the FBI, and was eventually cleared for military service. Years later he would refer to these activities as \"the stupidest thing I ever did [which] I never can atone for\".\\n1978, he was awarded an American Institute of Architects Gold Medal and in 1979 the first Pritzker Architecture Prize. Today his skyscrapers are prominent features in the skylines of New York, Houston, Chicago, Detroit, Minneapolis, Pittsburgh, Atlanta, Madrid, and other cities.']"
      ]
     },
     "execution_count": 16,
     "metadata": {},
     "output_type": "execute_result"
    }
   ],
   "source": [
    "summary_list"
   ]
  },
  {
   "cell_type": "code",
   "execution_count": null,
   "id": "03a81c61-02e0-4da0-8412-0fb3b18ee71e",
   "metadata": {},
   "outputs": [],
   "source": []
  }
 ],
 "metadata": {
  "kernelspec": {
   "display_name": "Python 3 (ipykernel)",
   "language": "python",
   "name": "python3"
  },
  "language_info": {
   "codemirror_mode": {
    "name": "ipython",
    "version": 3
   },
   "file_extension": ".py",
   "mimetype": "text/x-python",
   "name": "python",
   "nbconvert_exporter": "python",
   "pygments_lexer": "ipython3",
   "version": "3.9.12"
  }
 },
 "nbformat": 4,
 "nbformat_minor": 5
}

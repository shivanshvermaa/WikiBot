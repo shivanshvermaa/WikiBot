{
 "cells": [
  {
   "cell_type": "code",
   "execution_count": 1,
   "id": "2ccb38c7-1a5c-47b0-a94e-5bd513723f93",
   "metadata": {},
   "outputs": [],
   "source": [
    "import warnings\n",
    "warnings.filterwarnings(\"ignore\")"
   ]
  },
  {
   "cell_type": "code",
   "execution_count": 2,
   "id": "8fa4fad4-d331-427b-9218-5e3b7b8160b4",
   "metadata": {},
   "outputs": [
    {
     "name": "stderr",
     "output_type": "stream",
     "text": [
      "2023-04-14 16:10:30.737526: I tensorflow/core/platform/cpu_feature_guard.cc:193] This TensorFlow binary is optimized with oneAPI Deep Neural Network Library (oneDNN) to use the following CPU instructions in performance-critical operations:  AVX2 FMA\n",
      "To enable them in other operations, rebuild TensorFlow with the appropriate compiler flags.\n",
      "2023-04-14 16:10:33.751988: W tensorflow/compiler/xla/stream_executor/platform/default/dso_loader.cc:64] Could not load dynamic library 'libnvinfer.so.7'; dlerror: libnvinfer.so.7: cannot open shared object file: No such file or directory; LD_LIBRARY_PATH: /shared/centos7/anaconda3/2022.05/lib:/shared/centos7/nodejs/14.15.4/lib:/home/patel.ayushj/.conda/envs/nlp-tf/lib/\n",
      "2023-04-14 16:10:33.752215: W tensorflow/compiler/xla/stream_executor/platform/default/dso_loader.cc:64] Could not load dynamic library 'libnvinfer_plugin.so.7'; dlerror: libnvinfer_plugin.so.7: cannot open shared object file: No such file or directory; LD_LIBRARY_PATH: /shared/centos7/anaconda3/2022.05/lib:/shared/centos7/nodejs/14.15.4/lib:/home/patel.ayushj/.conda/envs/nlp-tf/lib/\n",
      "2023-04-14 16:10:33.752240: W tensorflow/compiler/tf2tensorrt/utils/py_utils.cc:38] TF-TRT Warning: Cannot dlopen some TensorRT libraries. If you would like to use Nvidia GPU with TensorRT, please make sure the missing libraries mentioned above are installed properly.\n"
     ]
    }
   ],
   "source": [
    "import pandas as pd\n",
    "import numpy as np\n",
    "import matplotlib.pyplot as plt\n",
    "import seaborn as sns\n",
    "import re\n",
    "import langdetect \n",
    "import nltk\n",
    "import wordcloud\n",
    "import contractions\n",
    "from nltk.sentiment.vader import SentimentIntensityAnalyzer\n",
    "from textblob import TextBlob\n",
    "import spacy\n",
    "import collections\n",
    "from sklearn import preprocessing, model_selection, feature_extraction, feature_selection, metrics, manifold, naive_bayes, pipeline\n",
    "from tensorflow.keras import callbacks, models, layers, preprocessing as kprocessing\n",
    "from tensorflow.keras import backend as K\n",
    "from lime import lime_text\n",
    "import shap\n",
    "import gensim\n",
    "import gensim.downloader as gensim_api\n",
    "import transformers\n",
    "import rouge\n",
    "import difflib"
   ]
  },
  {
   "cell_type": "code",
   "execution_count": 3,
   "id": "941958e6-a33c-4d08-815e-71cd27984f10",
   "metadata": {},
   "outputs": [],
   "source": [
    "data = pd.read_csv('Wikipedia-Level-4-Articles-Cleaned-2.csv')"
   ]
  },
  {
   "cell_type": "code",
   "execution_count": 4,
   "id": "3c672c8d-108a-4019-942c-a4b877c51726",
   "metadata": {},
   "outputs": [
    {
     "data": {
      "text/html": [
       "<div>\n",
       "<style scoped>\n",
       "    .dataframe tbody tr th:only-of-type {\n",
       "        vertical-align: middle;\n",
       "    }\n",
       "\n",
       "    .dataframe tbody tr th {\n",
       "        vertical-align: top;\n",
       "    }\n",
       "\n",
       "    .dataframe thead th {\n",
       "        text-align: right;\n",
       "    }\n",
       "</style>\n",
       "<table border=\"1\" class=\"dataframe\">\n",
       "  <thead>\n",
       "    <tr style=\"text-align: right;\">\n",
       "      <th></th>\n",
       "      <th>Title</th>\n",
       "      <th>Article</th>\n",
       "      <th>Category</th>\n",
       "      <th>Summary</th>\n",
       "      <th>Article_clean</th>\n",
       "      <th>Summary_clean</th>\n",
       "    </tr>\n",
       "  </thead>\n",
       "  <tbody>\n",
       "    <tr>\n",
       "      <th>0</th>\n",
       "      <td>Masaccio</td>\n",
       "      <td>Masaccio (UK: , US: , Italian: [maˈzattʃo]; De...</td>\n",
       "      <td>People</td>\n",
       "      <td>Masaccio (UK: , US: , Italian: [maˈzattʃo]; De...</td>\n",
       "      <td>masaccio italian decemb 1401 summer 1428 born ...</td>\n",
       "      <td>masaccio italian december 1401 summer 1428 bor...</td>\n",
       "    </tr>\n",
       "    <tr>\n",
       "      <th>1</th>\n",
       "      <td>Hokusai</td>\n",
       "      <td>Katsushika Hokusai (葛飾 北斎, c. 31 October 1760 ...</td>\n",
       "      <td>People</td>\n",
       "      <td>Katsushika Hokusai (葛飾 北斎, c. 31 October 1760 ...</td>\n",
       "      <td>katsushika hokusai octob 1760 may 1849 known s...</td>\n",
       "      <td>katsushika hokusai october 1760 may 1849 known...</td>\n",
       "    </tr>\n",
       "    <tr>\n",
       "      <th>2</th>\n",
       "      <td>Steven Spielberg</td>\n",
       "      <td>Steven Allan Spielberg  (; born December 18, 1...</td>\n",
       "      <td>People</td>\n",
       "      <td>Steven Allan Spielberg  (; born December 18, 1...</td>\n",
       "      <td>steven allan spielberg born decemb 1946 americ...</td>\n",
       "      <td>steven allan spielberg born december 1946 amer...</td>\n",
       "    </tr>\n",
       "    <tr>\n",
       "      <th>3</th>\n",
       "      <td>Che Guevara</td>\n",
       "      <td>Ernesto \"Che\" Guevara (Spanish: [ˈtʃe ɣeˈβaɾa]...</td>\n",
       "      <td>People</td>\n",
       "      <td>Ernesto \"Che\" Guevara (Spanish: [ˈtʃe ɣeˈβaɾa]...</td>\n",
       "      <td>ernesto che guevara spanish june 1928 octob 19...</td>\n",
       "      <td>ernesto che guevara spanish june 1928 october ...</td>\n",
       "    </tr>\n",
       "    <tr>\n",
       "      <th>4</th>\n",
       "      <td>Jöns Jacob Berzelius</td>\n",
       "      <td>Baron Jöns Jacob Berzelius (Swedish: [jœns ˈjɑ...</td>\n",
       "      <td>People</td>\n",
       "      <td>Baron Jöns Jacob Berzelius (Swedish: [jœns ˈjɑ...</td>\n",
       "      <td>baron jacob berzeliu swedish contemporari name...</td>\n",
       "      <td>baron jacob berzelius swedish contemporary nam...</td>\n",
       "    </tr>\n",
       "  </tbody>\n",
       "</table>\n",
       "</div>"
      ],
      "text/plain": [
       "                   Title                                            Article  \\\n",
       "0               Masaccio  Masaccio (UK: , US: , Italian: [maˈzattʃo]; De...   \n",
       "1                Hokusai  Katsushika Hokusai (葛飾 北斎, c. 31 October 1760 ...   \n",
       "2       Steven Spielberg  Steven Allan Spielberg  (; born December 18, 1...   \n",
       "3            Che Guevara  Ernesto \"Che\" Guevara (Spanish: [ˈtʃe ɣeˈβaɾa]...   \n",
       "4  Jöns Jacob Berzelius  Baron Jöns Jacob Berzelius (Swedish: [jœns ˈjɑ...   \n",
       "\n",
       "  Category                                            Summary  \\\n",
       "0   People  Masaccio (UK: , US: , Italian: [maˈzattʃo]; De...   \n",
       "1   People  Katsushika Hokusai (葛飾 北斎, c. 31 October 1760 ...   \n",
       "2   People  Steven Allan Spielberg  (; born December 18, 1...   \n",
       "3   People  Ernesto \"Che\" Guevara (Spanish: [ˈtʃe ɣeˈβaɾa]...   \n",
       "4   People  Baron Jöns Jacob Berzelius (Swedish: [jœns ˈjɑ...   \n",
       "\n",
       "                                       Article_clean  \\\n",
       "0  masaccio italian decemb 1401 summer 1428 born ...   \n",
       "1  katsushika hokusai octob 1760 may 1849 known s...   \n",
       "2  steven allan spielberg born decemb 1946 americ...   \n",
       "3  ernesto che guevara spanish june 1928 octob 19...   \n",
       "4  baron jacob berzeliu swedish contemporari name...   \n",
       "\n",
       "                                       Summary_clean  \n",
       "0  masaccio italian december 1401 summer 1428 bor...  \n",
       "1  katsushika hokusai october 1760 may 1849 known...  \n",
       "2  steven allan spielberg born december 1946 amer...  \n",
       "3  ernesto che guevara spanish june 1928 october ...  \n",
       "4  baron jacob berzelius swedish contemporary nam...  "
      ]
     },
     "execution_count": 4,
     "metadata": {},
     "output_type": "execute_result"
    }
   ],
   "source": [
    "data = data.drop(['Unnamed: 0'], axis = 1)\n",
    "data.head()"
   ]
  },
  {
   "cell_type": "code",
   "execution_count": 5,
   "id": "4f2eb947-f979-4b8c-888f-4df989365f68",
   "metadata": {},
   "outputs": [
    {
     "name": "stdout",
     "output_type": "stream",
     "text": [
      "<class 'pandas.core.frame.DataFrame'>\n",
      "RangeIndex: 10009 entries, 0 to 10008\n",
      "Data columns (total 6 columns):\n",
      " #   Column         Non-Null Count  Dtype \n",
      "---  ------         --------------  ----- \n",
      " 0   Title          10009 non-null  object\n",
      " 1   Article        10009 non-null  object\n",
      " 2   Category       10009 non-null  object\n",
      " 3   Summary        10009 non-null  object\n",
      " 4   Article_clean  10009 non-null  object\n",
      " 5   Summary_clean  10009 non-null  object\n",
      "dtypes: object(6)\n",
      "memory usage: 469.3+ KB\n"
     ]
    }
   ],
   "source": [
    "data.info()"
   ]
  },
  {
   "cell_type": "code",
   "execution_count": 6,
   "id": "503d82a6-c8ac-4ab7-b233-0d319c33a3cb",
   "metadata": {},
   "outputs": [],
   "source": [
    "def word_freq(corpus, ngrams=[1,2,3], top=10, figsize=(10,7)):\n",
    "    lst_tokens = nltk.tokenize.word_tokenize(corpus.str.cat(sep=\" \"))\n",
    "    ngrams = [ngrams] if type(ngrams) is int else ngrams\n",
    "    \n",
    "    ## calculate\n",
    "    data_freq = pd.DataFrame()\n",
    "    for n in ngrams:\n",
    "        dic_words_freq = nltk.FreqDist(nltk.ngrams(lst_tokens, n))\n",
    "        data_n = pd.DataFrame(dic_words_freq.most_common(), columns=[\"word\",\"freq\"])\n",
    "        data_n[\"ngrams\"] = n\n",
    "        data_freq = data_freq.append(data_n)\n",
    "    data_freq[\"word\"] = data_freq[\"word\"].apply(lambda x: \" \".join(string for string in x) )\n",
    "    data_freq = data_freq.sort_values([\"ngrams\",\"freq\"], ascending=[True,False])\n",
    "    \n",
    "    ## plot\n",
    "    fig, ax = plt.subplots(figsize=figsize)\n",
    "    sns.barplot(x=\"freq\", y=\"word\", hue=\"ngrams\", dodge=False, ax=ax,\n",
    "                data=data_freq.groupby('ngrams')[\"ngrams\",\"freq\",\"word\"].head(top))\n",
    "    ax.set(xlabel=None, ylabel=None, title=\"Most frequent words\")\n",
    "    ax.grid(axis=\"x\")\n",
    "    plt.show()\n",
    "    return data_freq"
   ]
  },
  {
   "cell_type": "code",
   "execution_count": 7,
   "id": "3db667fc-3805-410d-a27e-221679d99aef",
   "metadata": {},
   "outputs": [
    {
     "data": {
      "image/png": "[encoded data removed]",
      "text/plain": [
       "<Figure size 720x504 with 1 Axes>"
      ]
     },
     "metadata": {
      "needs_background": "light"
     },
     "output_type": "display_data"
    }
   ],
   "source": [
    "# Find most common words in article\n",
    "data_freq = word_freq(corpus = data[\"Article_clean\"], ngrams = [1], top = 30, figsize = (10,7))"
   ]
  },
  {
   "cell_type": "code",
   "execution_count": 8,
   "id": "15b3445c-26b7-4c20-9318-8052aec2ae61",
   "metadata": {},
   "outputs": [
    {
     "data": {
      "text/plain": [
       "112845"
      ]
     },
     "execution_count": 8,
     "metadata": {},
     "output_type": "execute_result"
    }
   ],
   "source": [
    "thres = 5\n",
    "X_top_words = len(data_freq[data_freq[\"freq\"]>thres])\n",
    "X_top_words"
   ]
  },
  {
   "cell_type": "code",
   "execution_count": 9,
   "id": "8c7d5777-44bd-44fc-bb53-e76c4f5a185f",
   "metadata": {},
   "outputs": [
    {
     "data": {
      "image/png": "[encoded data removed]",
      "text/plain": [
       "<Figure size 720x504 with 1 Axes>"
      ]
     },
     "metadata": {
      "needs_background": "light"
     },
     "output_type": "display_data"
    }
   ],
   "source": [
    "# Find most common words in summaries\n",
    "data_freq = word_freq(corpus = data[\"Summary_clean\"], ngrams = [1], top = 30, figsize = (10,7))"
   ]
  },
  {
   "cell_type": "code",
   "execution_count": 10,
   "id": "227f1c33-7fb9-4617-b7f5-c3c9e9ca69ae",
   "metadata": {},
   "outputs": [
    {
     "data": {
      "text/plain": [
       "21268"
      ]
     },
     "execution_count": 10,
     "metadata": {},
     "output_type": "execute_result"
    }
   ],
   "source": [
    "thres = 5\n",
    "y_top_words = len(data_freq[data_freq[\"freq\"] > thres])\n",
    "y_top_words"
   ]
  },
  {
   "cell_type": "code",
   "execution_count": 11,
   "id": "2a032a7a-4507-40f1-9e29-81e5855fd025",
   "metadata": {},
   "outputs": [],
   "source": [
    "def add_text_length(data, column):\n",
    "    data = data.copy()\n",
    "    data['word_count'] = data[column].apply(lambda x: len(nltk.word_tokenize(str(x))) )\n",
    "    data['char_count'] = data[column].apply(lambda x: sum(len(word) for word in nltk.word_tokenize(str(x))) )\n",
    "    data['sentence_count'] = data[column].apply(lambda x: len(nltk.sent_tokenize(str(x))) )\n",
    "    data['avg_word_length'] = data['char_count'] / data['word_count']\n",
    "    data['avg_sentence_lenght'] = data['word_count'] / data['sentence_count']\n",
    "    print(data[['char_count','word_count','sentence_count','avg_word_length','avg_sentence_lenght']].describe().T[[\"min\",\"mean\",\"max\"]])\n",
    "    return data"
   ]
  },
  {
   "cell_type": "code",
   "execution_count": 12,
   "id": "8303a98b-2439-4d19-9b59-e44349864cc5",
   "metadata": {},
   "outputs": [
    {
     "name": "stdout",
     "output_type": "stream",
     "text": [
      "                            min          mean           max\n",
      "char_count           421.000000  19482.671296  126076.00000\n",
      "word_count            60.000000   3371.737236   21625.00000\n",
      "sentence_count         1.000000      1.000000       1.00000\n",
      "avg_word_length        4.719607      5.786694       8.22809\n",
      "avg_sentence_lenght   60.000000   3371.737236   21625.00000\n"
     ]
    }
   ],
   "source": [
    "# Texts\n",
    "X = add_text_length(data, \"Article_clean\")"
   ]
  },
  {
   "cell_type": "code",
   "execution_count": 13,
   "id": "04b5dd97-5db5-476f-a8b0-3ef254265685",
   "metadata": {},
   "outputs": [],
   "source": [
    "def plot_distributions(data, x, max_cat=20, top=None, y=None, bins=None, figsize=(10,5)):\n",
    "    ## univariate\n",
    "    if y is None:\n",
    "        fig, ax = plt.subplots(figsize=figsize)\n",
    "        fig.suptitle(x, fontsize=15)\n",
    "        ### categorical\n",
    "        if data[x].nunique() <= max_cat:\n",
    "            if top is None:\n",
    "                data[x].reset_index().groupby(x).count().sort_values(by=\"index\").plot(kind=\"barh\", legend=False, ax=ax).grid(axis='x')\n",
    "            else:   \n",
    "                data[x].reset_index().groupby(x).count().sort_values(by=\"index\").tail(top).plot(kind=\"barh\", legend=False, ax=ax).grid(axis='x')\n",
    "            ax.set(ylabel=None)\n",
    "        ### numerical\n",
    "        else:\n",
    "            sns.distplot(data[x], hist=True, kde=True, kde_kws={\"shade\":True}, ax=ax)\n",
    "            ax.grid(True)\n",
    "            ax.set(xlabel=None, yticklabels=[], yticks=[])\n",
    "\n",
    "    ## bivariate\n",
    "    else:\n",
    "        fig, ax = plt.subplots(nrows=1, ncols=2, sharex=False, sharey=False, figsize=figsize)\n",
    "        fig.suptitle(x, fontsize=15)\n",
    "        for i in data[y].unique():\n",
    "            sns.distplot(data[data[y]==i][x], hist=True, kde=False, bins=bins, hist_kws={\"alpha\":0.8}, axlabel=\"\", ax=ax[0])\n",
    "            sns.distplot(data[data[y]==i][x], hist=False, kde=True, kde_kws={\"shade\":True}, axlabel=\"\", ax=ax[1])\n",
    "        ax[0].set(title=\"histogram\")\n",
    "        ax[0].grid(True)\n",
    "        ax[0].legend(data[y].unique())\n",
    "        ax[1].set(title=\"density\")\n",
    "        ax[1].grid(True)\n",
    "    plt.show()"
   ]
  },
  {
   "cell_type": "code",
   "execution_count": 14,
   "id": "3e3a8693-3ad9-4d3a-bf2f-c3b9027e9753",
   "metadata": {},
   "outputs": [
    {
     "data": {
      "image/png": "[encoded data removed]",
      "text/plain": [
       "<Figure size 720x216 with 1 Axes>"
      ]
     },
     "metadata": {
      "needs_background": "light"
     },
     "output_type": "display_data"
    }
   ],
   "source": [
    "plot_distributions(X, x = \"word_count\", figsize = (10,3))"
   ]
  },
  {
   "cell_type": "code",
   "execution_count": 15,
   "id": "c66d9b20-7a3f-40e9-a9cc-171ce5e48828",
   "metadata": {},
   "outputs": [],
   "source": [
    "def add_text_length(data, column):\n",
    "    data = data.copy()\n",
    "    data['word_count'] = data[column].apply(lambda x: len(nltk.word_tokenize(str(x))) )\n",
    "    data['char_count'] = data[column].apply(lambda x: sum(len(word) for word in nltk.word_tokenize(str(x))) )\n",
    "    data['sentence_count'] = data[column].apply(lambda x: len(nltk.sent_tokenize(str(x))) )\n",
    "    data['avg_word_length'] = data['char_count'] / data['word_count']\n",
    "    data['avg_sentence_lenght'] = data['word_count'] / data['sentence_count']\n",
    "    print(data[['char_count','word_count','sentence_count','avg_word_length','avg_sentence_lenght']].describe().T[[\"min\",\"mean\",\"max\"]])\n",
    "    return data"
   ]
  },
  {
   "cell_type": "code",
   "execution_count": 16,
   "id": "6e7686ed-a426-4e2f-bf64-1da6ada6aae5",
   "metadata": {},
   "outputs": [
    {
     "name": "stdout",
     "output_type": "stream",
     "text": [
      "                           min         mean          max\n",
      "char_count           43.000000  1115.091118  7475.000000\n",
      "word_count            8.000000   164.608552  1133.000000\n",
      "sentence_count        1.000000     1.000000     1.000000\n",
      "avg_word_length       4.611111     6.777615     9.566667\n",
      "avg_sentence_lenght   8.000000   164.608552  1133.000000\n"
     ]
    }
   ],
   "source": [
    "# Summaries\n",
    "y = add_text_length(data, \"Summary_clean\")"
   ]
  },
  {
   "cell_type": "code",
   "execution_count": 17,
   "id": "e41b6984-7132-44c5-81ef-e17f6c9e88ef",
   "metadata": {},
   "outputs": [
    {
     "data": {
      "image/png": "[encoded data removed]",
      "text/plain": [
       "<Figure size 720x216 with 1 Axes>"
      ]
     },
     "metadata": {
      "needs_background": "light"
     },
     "output_type": "display_data"
    }
   ],
   "source": [
    "plot_distributions(y, x = \"word_count\", max_cat = 1, figsize = (10,3))"
   ]
  },
  {
   "cell_type": "code",
   "execution_count": 18,
   "id": "57ce54b2-4adc-4371-95b9-ce3a4d0e4284",
   "metadata": {},
   "outputs": [
    {
     "data": {
      "text/html": [
       "<div>\n",
       "<style scoped>\n",
       "    .dataframe tbody tr th:only-of-type {\n",
       "        vertical-align: middle;\n",
       "    }\n",
       "\n",
       "    .dataframe tbody tr th {\n",
       "        vertical-align: top;\n",
       "    }\n",
       "\n",
       "    .dataframe thead th {\n",
       "        text-align: right;\n",
       "    }\n",
       "</style>\n",
       "<table border=\"1\" class=\"dataframe\">\n",
       "  <thead>\n",
       "    <tr style=\"text-align: right;\">\n",
       "      <th></th>\n",
       "      <th>Title</th>\n",
       "      <th>Category</th>\n",
       "      <th>Article</th>\n",
       "      <th>Article_clean</th>\n",
       "      <th>Summary</th>\n",
       "      <th>Summary_clean</th>\n",
       "    </tr>\n",
       "  </thead>\n",
       "  <tbody>\n",
       "    <tr>\n",
       "      <th>0</th>\n",
       "      <td>Masaccio</td>\n",
       "      <td>People</td>\n",
       "      <td>Masaccio (UK: , US: , Italian: [maˈzattʃo]; De...</td>\n",
       "      <td>masaccio italian decemb 1401 summer 1428 born ...</td>\n",
       "      <td>Masaccio (UK: , US: , Italian: [maˈzattʃo]; De...</td>\n",
       "      <td>masaccio italian december 1401 summer 1428 bor...</td>\n",
       "    </tr>\n",
       "    <tr>\n",
       "      <th>1</th>\n",
       "      <td>Hokusai</td>\n",
       "      <td>People</td>\n",
       "      <td>Katsushika Hokusai (葛飾 北斎, c. 31 October 1760 ...</td>\n",
       "      <td>katsushika hokusai octob 1760 may 1849 known s...</td>\n",
       "      <td>Katsushika Hokusai (葛飾 北斎, c. 31 October 1760 ...</td>\n",
       "      <td>katsushika hokusai october 1760 may 1849 known...</td>\n",
       "    </tr>\n",
       "    <tr>\n",
       "      <th>2</th>\n",
       "      <td>Steven Spielberg</td>\n",
       "      <td>People</td>\n",
       "      <td>Steven Allan Spielberg  (; born December 18, 1...</td>\n",
       "      <td>steven allan spielberg born decemb 1946 americ...</td>\n",
       "      <td>Steven Allan Spielberg  (; born December 18, 1...</td>\n",
       "      <td>steven allan spielberg born december 1946 amer...</td>\n",
       "    </tr>\n",
       "    <tr>\n",
       "      <th>3</th>\n",
       "      <td>Che Guevara</td>\n",
       "      <td>People</td>\n",
       "      <td>Ernesto \"Che\" Guevara (Spanish: [ˈtʃe ɣeˈβaɾa]...</td>\n",
       "      <td>ernesto che guevara spanish june 1928 octob 19...</td>\n",
       "      <td>Ernesto \"Che\" Guevara (Spanish: [ˈtʃe ɣeˈβaɾa]...</td>\n",
       "      <td>ernesto che guevara spanish june 1928 october ...</td>\n",
       "    </tr>\n",
       "    <tr>\n",
       "      <th>4</th>\n",
       "      <td>Jöns Jacob Berzelius</td>\n",
       "      <td>People</td>\n",
       "      <td>Baron Jöns Jacob Berzelius (Swedish: [jœns ˈjɑ...</td>\n",
       "      <td>baron jacob berzeliu swedish contemporari name...</td>\n",
       "      <td>Baron Jöns Jacob Berzelius (Swedish: [jœns ˈjɑ...</td>\n",
       "      <td>baron jacob berzelius swedish contemporary nam...</td>\n",
       "    </tr>\n",
       "  </tbody>\n",
       "</table>\n",
       "</div>"
      ],
      "text/plain": [
       "                   Title Category  \\\n",
       "0               Masaccio   People   \n",
       "1                Hokusai   People   \n",
       "2       Steven Spielberg   People   \n",
       "3            Che Guevara   People   \n",
       "4  Jöns Jacob Berzelius   People   \n",
       "\n",
       "                                             Article  \\\n",
       "0  Masaccio (UK: , US: , Italian: [maˈzattʃo]; De...   \n",
       "1  Katsushika Hokusai (葛飾 北斎, c. 31 October 1760 ...   \n",
       "2  Steven Allan Spielberg  (; born December 18, 1...   \n",
       "3  Ernesto \"Che\" Guevara (Spanish: [ˈtʃe ɣeˈβaɾa]...   \n",
       "4  Baron Jöns Jacob Berzelius (Swedish: [jœns ˈjɑ...   \n",
       "\n",
       "                                       Article_clean  \\\n",
       "0  masaccio italian decemb 1401 summer 1428 born ...   \n",
       "1  katsushika hokusai octob 1760 may 1849 known s...   \n",
       "2  steven allan spielberg born decemb 1946 americ...   \n",
       "3  ernesto che guevara spanish june 1928 octob 19...   \n",
       "4  baron jacob berzeliu swedish contemporari name...   \n",
       "\n",
       "                                             Summary  \\\n",
       "0  Masaccio (UK: , US: , Italian: [maˈzattʃo]; De...   \n",
       "1  Katsushika Hokusai (葛飾 北斎, c. 31 October 1760 ...   \n",
       "2  Steven Allan Spielberg  (; born December 18, 1...   \n",
       "3  Ernesto \"Che\" Guevara (Spanish: [ˈtʃe ɣeˈβaɾa]...   \n",
       "4  Baron Jöns Jacob Berzelius (Swedish: [jœns ˈjɑ...   \n",
       "\n",
       "                                       Summary_clean  \n",
       "0  masaccio italian december 1401 summer 1428 bor...  \n",
       "1  katsushika hokusai october 1760 may 1849 known...  \n",
       "2  steven allan spielberg born december 1946 amer...  \n",
       "3  ernesto che guevara spanish june 1928 october ...  \n",
       "4  baron jacob berzelius swedish contemporary nam...  "
      ]
     },
     "execution_count": 18,
     "metadata": {},
     "output_type": "execute_result"
    }
   ],
   "source": [
    "data = data[[\"Title\",\"Category\",\"Article\",\"Article_clean\",\"Summary\",\"Summary_clean\"]]\n",
    "data.head()"
   ]
  },
  {
   "cell_type": "code",
   "execution_count": 19,
   "id": "0a5423a4-d2f8-4e42-bd48-efb3002e42b0",
   "metadata": {},
   "outputs": [
    {
     "name": "stdout",
     "output_type": "stream",
     "text": [
      "<class 'pandas.core.frame.DataFrame'>\n",
      "RangeIndex: 10009 entries, 0 to 10008\n",
      "Data columns (total 6 columns):\n",
      " #   Column         Non-Null Count  Dtype \n",
      "---  ------         --------------  ----- \n",
      " 0   Title          10009 non-null  object\n",
      " 1   Category       10009 non-null  object\n",
      " 2   Article        10009 non-null  object\n",
      " 3   Article_clean  10009 non-null  object\n",
      " 4   Summary        10009 non-null  object\n",
      " 5   Summary_clean  10009 non-null  object\n",
      "dtypes: object(6)\n",
      "memory usage: 469.3+ KB\n"
     ]
    }
   ],
   "source": [
    "data.info()"
   ]
  },
  {
   "cell_type": "code",
   "execution_count": 20,
   "id": "c3f2b7eb-408b-4bbf-b568-e89bb4d99ce9",
   "metadata": {},
   "outputs": [],
   "source": [
    "# Partitioning\n",
    "data_train = data[0:5000]\n",
    "data_test = data[5001:7686]"
   ]
  },
  {
   "cell_type": "code",
   "execution_count": 21,
   "id": "88d22c0b-c36e-40bc-92e9-3e37323a84d0",
   "metadata": {},
   "outputs": [
    {
     "data": {
      "text/html": [
       "<div>\n",
       "<style scoped>\n",
       "    .dataframe tbody tr th:only-of-type {\n",
       "        vertical-align: middle;\n",
       "    }\n",
       "\n",
       "    .dataframe tbody tr th {\n",
       "        vertical-align: top;\n",
       "    }\n",
       "\n",
       "    .dataframe thead th {\n",
       "        text-align: right;\n",
       "    }\n",
       "</style>\n",
       "<table border=\"1\" class=\"dataframe\">\n",
       "  <thead>\n",
       "    <tr style=\"text-align: right;\">\n",
       "      <th></th>\n",
       "      <th>Title</th>\n",
       "      <th>Category</th>\n",
       "      <th>Article</th>\n",
       "      <th>Article_clean</th>\n",
       "      <th>Summary</th>\n",
       "      <th>Summary_clean</th>\n",
       "    </tr>\n",
       "  </thead>\n",
       "  <tbody>\n",
       "    <tr>\n",
       "      <th>0</th>\n",
       "      <td>Masaccio</td>\n",
       "      <td>People</td>\n",
       "      <td>Masaccio (UK: , US: , Italian: [maˈzattʃo]; De...</td>\n",
       "      <td>masaccio italian decemb 1401 summer 1428 born ...</td>\n",
       "      <td>Masaccio (UK: , US: , Italian: [maˈzattʃo]; De...</td>\n",
       "      <td>masaccio italian december 1401 summer 1428 bor...</td>\n",
       "    </tr>\n",
       "    <tr>\n",
       "      <th>1</th>\n",
       "      <td>Hokusai</td>\n",
       "      <td>People</td>\n",
       "      <td>Katsushika Hokusai (葛飾 北斎, c. 31 October 1760 ...</td>\n",
       "      <td>katsushika hokusai octob 1760 may 1849 known s...</td>\n",
       "      <td>Katsushika Hokusai (葛飾 北斎, c. 31 October 1760 ...</td>\n",
       "      <td>katsushika hokusai october 1760 may 1849 known...</td>\n",
       "    </tr>\n",
       "    <tr>\n",
       "      <th>2</th>\n",
       "      <td>Steven Spielberg</td>\n",
       "      <td>People</td>\n",
       "      <td>Steven Allan Spielberg  (; born December 18, 1...</td>\n",
       "      <td>steven allan spielberg born decemb 1946 americ...</td>\n",
       "      <td>Steven Allan Spielberg  (; born December 18, 1...</td>\n",
       "      <td>steven allan spielberg born december 1946 amer...</td>\n",
       "    </tr>\n",
       "    <tr>\n",
       "      <th>3</th>\n",
       "      <td>Che Guevara</td>\n",
       "      <td>People</td>\n",
       "      <td>Ernesto \"Che\" Guevara (Spanish: [ˈtʃe ɣeˈβaɾa]...</td>\n",
       "      <td>ernesto che guevara spanish june 1928 octob 19...</td>\n",
       "      <td>Ernesto \"Che\" Guevara (Spanish: [ˈtʃe ɣeˈβaɾa]...</td>\n",
       "      <td>ernesto che guevara spanish june 1928 october ...</td>\n",
       "    </tr>\n",
       "    <tr>\n",
       "      <th>4</th>\n",
       "      <td>Jöns Jacob Berzelius</td>\n",
       "      <td>People</td>\n",
       "      <td>Baron Jöns Jacob Berzelius (Swedish: [jœns ˈjɑ...</td>\n",
       "      <td>baron jacob berzeliu swedish contemporari name...</td>\n",
       "      <td>Baron Jöns Jacob Berzelius (Swedish: [jœns ˈjɑ...</td>\n",
       "      <td>baron jacob berzelius swedish contemporary nam...</td>\n",
       "    </tr>\n",
       "  </tbody>\n",
       "</table>\n",
       "</div>"
      ],
      "text/plain": [
       "                   Title Category  \\\n",
       "0               Masaccio   People   \n",
       "1                Hokusai   People   \n",
       "2       Steven Spielberg   People   \n",
       "3            Che Guevara   People   \n",
       "4  Jöns Jacob Berzelius   People   \n",
       "\n",
       "                                             Article  \\\n",
       "0  Masaccio (UK: , US: , Italian: [maˈzattʃo]; De...   \n",
       "1  Katsushika Hokusai (葛飾 北斎, c. 31 October 1760 ...   \n",
       "2  Steven Allan Spielberg  (; born December 18, 1...   \n",
       "3  Ernesto \"Che\" Guevara (Spanish: [ˈtʃe ɣeˈβaɾa]...   \n",
       "4  Baron Jöns Jacob Berzelius (Swedish: [jœns ˈjɑ...   \n",
       "\n",
       "                                       Article_clean  \\\n",
       "0  masaccio italian decemb 1401 summer 1428 born ...   \n",
       "1  katsushika hokusai octob 1760 may 1849 known s...   \n",
       "2  steven allan spielberg born decemb 1946 americ...   \n",
       "3  ernesto che guevara spanish june 1928 octob 19...   \n",
       "4  baron jacob berzeliu swedish contemporari name...   \n",
       "\n",
       "                                             Summary  \\\n",
       "0  Masaccio (UK: , US: , Italian: [maˈzattʃo]; De...   \n",
       "1  Katsushika Hokusai (葛飾 北斎, c. 31 October 1760 ...   \n",
       "2  Steven Allan Spielberg  (; born December 18, 1...   \n",
       "3  Ernesto \"Che\" Guevara (Spanish: [ˈtʃe ɣeˈβaɾa]...   \n",
       "4  Baron Jöns Jacob Berzelius (Swedish: [jœns ˈjɑ...   \n",
       "\n",
       "                                       Summary_clean  \n",
       "0  masaccio italian december 1401 summer 1428 bor...  \n",
       "1  katsushika hokusai october 1760 may 1849 known...  \n",
       "2  steven allan spielberg born december 1946 amer...  \n",
       "3  ernesto che guevara spanish june 1928 october ...  \n",
       "4  baron jacob berzelius swedish contemporary nam...  "
      ]
     },
     "execution_count": 21,
     "metadata": {},
     "output_type": "execute_result"
    }
   ],
   "source": [
    "data_train.head()"
   ]
  },
  {
   "cell_type": "code",
   "execution_count": 22,
   "id": "4079b502-dd36-42ab-9f6c-5745119debcc",
   "metadata": {},
   "outputs": [
    {
     "data": {
      "text/html": [
       "<div>\n",
       "<style scoped>\n",
       "    .dataframe tbody tr th:only-of-type {\n",
       "        vertical-align: middle;\n",
       "    }\n",
       "\n",
       "    .dataframe tbody tr th {\n",
       "        vertical-align: top;\n",
       "    }\n",
       "\n",
       "    .dataframe thead th {\n",
       "        text-align: right;\n",
       "    }\n",
       "</style>\n",
       "<table border=\"1\" class=\"dataframe\">\n",
       "  <thead>\n",
       "    <tr style=\"text-align: right;\">\n",
       "      <th></th>\n",
       "      <th>Title</th>\n",
       "      <th>Category</th>\n",
       "      <th>Article</th>\n",
       "      <th>Article_clean</th>\n",
       "      <th>Summary</th>\n",
       "      <th>Summary_clean</th>\n",
       "    </tr>\n",
       "  </thead>\n",
       "  <tbody>\n",
       "    <tr>\n",
       "      <th>5001</th>\n",
       "      <td>Manta ray</td>\n",
       "      <td>Biology_and_health_sciences</td>\n",
       "      <td>Manta rays are large rays belonging to the gen...</td>\n",
       "      <td>manta ray larg ray belong genu mobula formerli...</td>\n",
       "      <td>Manta rays are large rays belonging to the gen...</td>\n",
       "      <td>manta ray large ray belonging genus mobula for...</td>\n",
       "    </tr>\n",
       "    <tr>\n",
       "      <th>5002</th>\n",
       "      <td>Tagetes</td>\n",
       "      <td>Biology_and_health_sciences</td>\n",
       "      <td>Tagetes () is a genus  of 50 species of annual...</td>\n",
       "      <td>taget genu speci annual perenni mostli herbac ...</td>\n",
       "      <td>Tagetes () is a genus  of 50 species of annual...</td>\n",
       "      <td>tagetes genus specie annual perennial mostly h...</td>\n",
       "    </tr>\n",
       "    <tr>\n",
       "      <th>5003</th>\n",
       "      <td>Seaweed</td>\n",
       "      <td>Biology_and_health_sciences</td>\n",
       "      <td>Seaweed, or macroalgae, refers to thousands of...</td>\n",
       "      <td>seawe macroalga refer thousand speci macroscop...</td>\n",
       "      <td>Seaweed, or macroalgae, refers to thousands of...</td>\n",
       "      <td>seaweed macroalgae refers thousand specie macr...</td>\n",
       "    </tr>\n",
       "    <tr>\n",
       "      <th>5004</th>\n",
       "      <td>Fungus</td>\n",
       "      <td>Biology_and_health_sciences</td>\n",
       "      <td>A fungus (PL: fungi or funguses) is any member...</td>\n",
       "      <td>fungu fungi fungus ani member group eukaryot o...</td>\n",
       "      <td>A fungus (PL: fungi or funguses) is any member...</td>\n",
       "      <td>fungus fungi fungus member group eukaryotic or...</td>\n",
       "    </tr>\n",
       "    <tr>\n",
       "      <th>5005</th>\n",
       "      <td>Kiwi (bird)</td>\n",
       "      <td>Biology_and_health_sciences</td>\n",
       "      <td>Kiwi ( KEE-wee) are flightless birds endemic t...</td>\n",
       "      <td>kiwi keewe flightless bird endem new zealand o...</td>\n",
       "      <td>Kiwi ( KEE-wee) are flightless birds endemic t...</td>\n",
       "      <td>kiwi keewee flightless bird endemic new zealan...</td>\n",
       "    </tr>\n",
       "  </tbody>\n",
       "</table>\n",
       "</div>"
      ],
      "text/plain": [
       "            Title                     Category  \\\n",
       "5001    Manta ray  Biology_and_health_sciences   \n",
       "5002      Tagetes  Biology_and_health_sciences   \n",
       "5003      Seaweed  Biology_and_health_sciences   \n",
       "5004       Fungus  Biology_and_health_sciences   \n",
       "5005  Kiwi (bird)  Biology_and_health_sciences   \n",
       "\n",
       "                                                Article  \\\n",
       "5001  Manta rays are large rays belonging to the gen...   \n",
       "5002  Tagetes () is a genus  of 50 species of annual...   \n",
       "5003  Seaweed, or macroalgae, refers to thousands of...   \n",
       "5004  A fungus (PL: fungi or funguses) is any member...   \n",
       "5005  Kiwi ( KEE-wee) are flightless birds endemic t...   \n",
       "\n",
       "                                          Article_clean  \\\n",
       "5001  manta ray larg ray belong genu mobula formerli...   \n",
       "5002  taget genu speci annual perenni mostli herbac ...   \n",
       "5003  seawe macroalga refer thousand speci macroscop...   \n",
       "5004  fungu fungi fungus ani member group eukaryot o...   \n",
       "5005  kiwi keewe flightless bird endem new zealand o...   \n",
       "\n",
       "                                                Summary  \\\n",
       "5001  Manta rays are large rays belonging to the gen...   \n",
       "5002  Tagetes () is a genus  of 50 species of annual...   \n",
       "5003  Seaweed, or macroalgae, refers to thousands of...   \n",
       "5004  A fungus (PL: fungi or funguses) is any member...   \n",
       "5005  Kiwi ( KEE-wee) are flightless birds endemic t...   \n",
       "\n",
       "                                          Summary_clean  \n",
       "5001  manta ray large ray belonging genus mobula for...  \n",
       "5002  tagetes genus specie annual perennial mostly h...  \n",
       "5003  seaweed macroalgae refers thousand specie macr...  \n",
       "5004  fungus fungi fungus member group eukaryotic or...  \n",
       "5005  kiwi keewee flightless bird endemic new zealan...  "
      ]
     },
     "execution_count": 22,
     "metadata": {},
     "output_type": "execute_result"
    }
   ],
   "source": [
    "data_test.head()"
   ]
  },
  {
   "cell_type": "code",
   "execution_count": 23,
   "id": "f225f3bd-738d-40c0-8cf6-cf8212a37044",
   "metadata": {},
   "outputs": [],
   "source": [
    "def textrank(corpus, ratio=0.2):\n",
    "    if type(corpus) is str:\n",
    "        corpus = [corpus]\n",
    "    lst_summaries = [gensim.summarization.summarize(txt, ratio=ratio) for txt in corpus]\n",
    "    return lst_summaries"
   ]
  },
  {
   "cell_type": "code",
   "execution_count": 24,
   "id": "b376d38b-0425-4b2b-be80-be411a2c1abf",
   "metadata": {},
   "outputs": [],
   "source": [
    "y_len = 40\n",
    "X_len = 400"
   ]
  },
  {
   "cell_type": "code",
   "execution_count": 25,
   "id": "62aef40c-85ed-481f-995f-2b3324c911ee",
   "metadata": {},
   "outputs": [],
   "source": [
    "# Test (no Train)\n",
    "predicted = textrank(corpus = data_test[\"Article\"], ratio = y_len / X_len)"
   ]
  },
  {
   "cell_type": "code",
   "execution_count": 26,
   "id": "9332a2de-90b1-4305-8010-87c29a3a78bd",
   "metadata": {},
   "outputs": [],
   "source": [
    "def evaluate_summary(y_test, predicted):\n",
    "    rouge_score = rouge.Rouge()\n",
    "    scores = rouge_score.get_scores(y_test, predicted, avg=True)\n",
    "    score_1 = round(scores['rouge-1']['f'], 2)\n",
    "    score_2 = round(scores['rouge-2']['f'], 2)\n",
    "    score_L = round(scores['rouge-l']['f'], 2)\n",
    "    print(\"rouge1:\", score_1, \"| rouge2:\", score_2, \"| rougeL:\", score_2, \n",
    "          \"--> avg rouge:\", round(np.mean([score_1,score_2,score_L]), 2))"
   ]
  },
  {
   "cell_type": "code",
   "execution_count": 27,
   "id": "4c19ba4e-e9c0-4298-ac18-79393065d0c7",
   "metadata": {},
   "outputs": [],
   "source": [
    "act = data_test.iloc[0][\"Summary\"]"
   ]
  },
  {
   "cell_type": "code",
   "execution_count": 28,
   "id": "b2e1f7e0-ee75-45e6-a801-d8924d0ad757",
   "metadata": {},
   "outputs": [],
   "source": [
    "pred = predicted[0]"
   ]
  },
  {
   "cell_type": "code",
   "execution_count": 29,
   "id": "5ac3353d-f535-4681-888b-5f08b3939ee8",
   "metadata": {},
   "outputs": [
    {
     "name": "stdout",
     "output_type": "stream",
     "text": [
      "rouge1: 0.32 | rouge2: 0.13 | rougeL: 0.13 --> avg rouge: 0.25\n"
     ]
    }
   ],
   "source": [
    "# Evaluate\n",
    "evaluate_summary(act, pred)"
   ]
  },
  {
   "cell_type": "code",
   "execution_count": 30,
   "id": "a3e73329-e00d-40c8-b845-999b70a209cc",
   "metadata": {},
   "outputs": [],
   "source": [
    "def display_string_matching(a, b, both=True, sentences=True, titles=[]):\n",
    "    if sentences is True:\n",
    "        lst_a, lst_b = utils_split_sentences(a, b)\n",
    "    else:\n",
    "        lst_a, lst_b = a.split(), b.split()       \n",
    "    \n",
    "    ## highlight a\n",
    "    first_text = []\n",
    "    for i in lst_a:\n",
    "        if re.sub(r'[^\\w\\s]', '', i.lower()) in [re.sub(r'[^\\w\\s]', '', z.lower()) for z in lst_b]:\n",
    "            first_text.append('<span style=\"background-color:rgba(255,215,0,0.3);\">' + i + '</span>')\n",
    "        else:\n",
    "            first_text.append(i)\n",
    "    first_text = ' '.join(first_text)\n",
    "    \n",
    "    ## highlight b\n",
    "    second_text = []\n",
    "    if both is True:\n",
    "        for i in lst_b:\n",
    "            if re.sub(r'[^\\w\\s]', '', i.lower()) in [re.sub(r'[^\\w\\s]', '', z.lower()) for z in lst_a]:\n",
    "                second_text.append('<span style=\"background-color:rgba(255,215,0,0.3);\">' + i + '</span>')\n",
    "            else:\n",
    "                second_text.append(i)\n",
    "    else:\n",
    "        second_text.append(b) \n",
    "    second_text = ' '.join(second_text)\n",
    "    \n",
    "    ## concatenate\n",
    "    if len(titles) > 0:\n",
    "        first_text = \"<strong>\"+titles[0]+\"</strong><br>\"+first_text\n",
    "    if len(titles) > 1:\n",
    "        second_text = \"<strong>\"+titles[1]+\"</strong><br>\"+second_text\n",
    "    else:\n",
    "        second_text = \"---\"*65+\"<br><br>\"+second_text\n",
    "    final_text = first_text +'<br><br>'+ second_text\n",
    "    return final_text"
   ]
  },
  {
   "cell_type": "code",
   "execution_count": 31,
   "id": "929ee872-a537-4446-a98a-c230bfdde2a2",
   "metadata": {},
   "outputs": [
    {
     "data": {
      "text/html": [
       "<strong>Real Summary</strong><br><span style=\"background-color:rgba(255,215,0,0.3);\">Manta</span> <span style=\"background-color:rgba(255,215,0,0.3);\">rays</span> <span style=\"background-color:rgba(255,215,0,0.3);\">are</span> <span style=\"background-color:rgba(255,215,0,0.3);\">large</span> <span style=\"background-color:rgba(255,215,0,0.3);\">rays</span> belonging <span style=\"background-color:rgba(255,215,0,0.3);\">to</span> <span style=\"background-color:rgba(255,215,0,0.3);\">the</span> <span style=\"background-color:rgba(255,215,0,0.3);\">genus</span> <span style=\"background-color:rgba(255,215,0,0.3);\">Mobula</span> (formerly <span style=\"background-color:rgba(255,215,0,0.3);\">its</span> own <span style=\"background-color:rgba(255,215,0,0.3);\">genus</span> <span style=\"background-color:rgba(255,215,0,0.3);\">Manta).</span> <span style=\"background-color:rgba(255,215,0,0.3);\">The</span> larger <span style=\"background-color:rgba(255,215,0,0.3);\">species,</span> <span style=\"background-color:rgba(255,215,0,0.3);\">M.</span> <span style=\"background-color:rgba(255,215,0,0.3);\">birostris,</span> reaches 7 <span style=\"background-color:rgba(255,215,0,0.3);\">m</span> <span style=\"background-color:rgba(255,215,0,0.3);\">(23</span> <span style=\"background-color:rgba(255,215,0,0.3);\">ft)</span> <span style=\"background-color:rgba(255,215,0,0.3);\">in</span> width, <span style=\"background-color:rgba(255,215,0,0.3);\">while</span> <span style=\"background-color:rgba(255,215,0,0.3);\">the</span> smaller, <span style=\"background-color:rgba(255,215,0,0.3);\">M.</span> <span style=\"background-color:rgba(255,215,0,0.3);\">alfredi,</span> reaches 5.5 <span style=\"background-color:rgba(255,215,0,0.3);\">m</span> (18 <span style=\"background-color:rgba(255,215,0,0.3);\">ft).</span> <span style=\"background-color:rgba(255,215,0,0.3);\">Both</span> <span style=\"background-color:rgba(255,215,0,0.3);\">have</span> <span style=\"background-color:rgba(255,215,0,0.3);\">triangular</span> <span style=\"background-color:rgba(255,215,0,0.3);\">pectoral</span> <span style=\"background-color:rgba(255,215,0,0.3);\">fins,</span> <span style=\"background-color:rgba(255,215,0,0.3);\">horn-shaped</span> <span style=\"background-color:rgba(255,215,0,0.3);\">cephalic</span> <span style=\"background-color:rgba(255,215,0,0.3);\">fins</span> <span style=\"background-color:rgba(255,215,0,0.3);\">and</span> <span style=\"background-color:rgba(255,215,0,0.3);\">large,</span> forward-facing <span style=\"background-color:rgba(255,215,0,0.3);\">mouths.</span> <span style=\"background-color:rgba(255,215,0,0.3);\">They</span> <span style=\"background-color:rgba(255,215,0,0.3);\">are</span> classified among <span style=\"background-color:rgba(255,215,0,0.3);\">the</span> Myliobatiformes <span style=\"background-color:rgba(255,215,0,0.3);\">(stingrays</span> <span style=\"background-color:rgba(255,215,0,0.3);\">and</span> relatives) <span style=\"background-color:rgba(255,215,0,0.3);\">and</span> <span style=\"background-color:rgba(255,215,0,0.3);\">are</span> placed <span style=\"background-color:rgba(255,215,0,0.3);\">in</span> <span style=\"background-color:rgba(255,215,0,0.3);\">the</span> family Myliobatidae (eagle <span style=\"background-color:rgba(255,215,0,0.3);\">rays).</span> <span style=\"background-color:rgba(255,215,0,0.3);\">They</span> <span style=\"background-color:rgba(255,215,0,0.3);\">have</span> <span style=\"background-color:rgba(255,215,0,0.3);\">the</span> <span style=\"background-color:rgba(255,215,0,0.3);\">largest</span> brains <span style=\"background-color:rgba(255,215,0,0.3);\">and</span> brain <span style=\"background-color:rgba(255,215,0,0.3);\">to</span> body ratio <span style=\"background-color:rgba(255,215,0,0.3);\">of</span> <span style=\"background-color:rgba(255,215,0,0.3);\">all</span> <span style=\"background-color:rgba(255,215,0,0.3);\">fish,</span> <span style=\"background-color:rgba(255,215,0,0.3);\">and</span> <span style=\"background-color:rgba(255,215,0,0.3);\">can</span> pass <span style=\"background-color:rgba(255,215,0,0.3);\">the</span> mirror test. <span style=\"background-color:rgba(255,215,0,0.3);\">Mantas</span> <span style=\"background-color:rgba(255,215,0,0.3);\">are</span> <span style=\"background-color:rgba(255,215,0,0.3);\">found</span> <span style=\"background-color:rgba(255,215,0,0.3);\">in</span> warm <span style=\"background-color:rgba(255,215,0,0.3);\">temperate,</span> <span style=\"background-color:rgba(255,215,0,0.3);\">subtropical</span> <span style=\"background-color:rgba(255,215,0,0.3);\">and</span> <span style=\"background-color:rgba(255,215,0,0.3);\">tropical</span> <span style=\"background-color:rgba(255,215,0,0.3);\">waters.</span> <span style=\"background-color:rgba(255,215,0,0.3);\">Both</span> <span style=\"background-color:rgba(255,215,0,0.3);\">species</span> <span style=\"background-color:rgba(255,215,0,0.3);\">are</span> pelagic; <span style=\"background-color:rgba(255,215,0,0.3);\">M.</span> <span style=\"background-color:rgba(255,215,0,0.3);\">birostris</span> migrates across <span style=\"background-color:rgba(255,215,0,0.3);\">open</span> <span style=\"background-color:rgba(255,215,0,0.3);\">oceans,</span> singly <span style=\"background-color:rgba(255,215,0,0.3);\">or</span> <span style=\"background-color:rgba(255,215,0,0.3);\">in</span> groups, <span style=\"background-color:rgba(255,215,0,0.3);\">while</span> <span style=\"background-color:rgba(255,215,0,0.3);\">M.</span> <span style=\"background-color:rgba(255,215,0,0.3);\">alfredi</span> tends <span style=\"background-color:rgba(255,215,0,0.3);\">to</span> <span style=\"background-color:rgba(255,215,0,0.3);\">be</span> resident <span style=\"background-color:rgba(255,215,0,0.3);\">and</span> coastal. <span style=\"background-color:rgba(255,215,0,0.3);\">They</span> <span style=\"background-color:rgba(255,215,0,0.3);\">are</span> <span style=\"background-color:rgba(255,215,0,0.3);\">filter</span> <span style=\"background-color:rgba(255,215,0,0.3);\">feeders</span> <span style=\"background-color:rgba(255,215,0,0.3);\">and</span> eat <span style=\"background-color:rgba(255,215,0,0.3);\">large</span> quantities <span style=\"background-color:rgba(255,215,0,0.3);\">of</span> zooplankton, <span style=\"background-color:rgba(255,215,0,0.3);\">which</span> <span style=\"background-color:rgba(255,215,0,0.3);\">they</span> gather <span style=\"background-color:rgba(255,215,0,0.3);\">with</span> <span style=\"background-color:rgba(255,215,0,0.3);\">their</span> <span style=\"background-color:rgba(255,215,0,0.3);\">open</span> <span style=\"background-color:rgba(255,215,0,0.3);\">mouths</span> <span style=\"background-color:rgba(255,215,0,0.3);\">as</span> <span style=\"background-color:rgba(255,215,0,0.3);\">they</span> swim. However, research suggests <span style=\"background-color:rgba(255,215,0,0.3);\">that</span> <span style=\"background-color:rgba(255,215,0,0.3);\">the</span> majority <span style=\"background-color:rgba(255,215,0,0.3);\">of</span> <span style=\"background-color:rgba(255,215,0,0.3);\">their</span> diet (73%) actually comes <span style=\"background-color:rgba(255,215,0,0.3);\">from</span> mesopelagic sources. Gestation lasts <span style=\"background-color:rgba(255,215,0,0.3);\">over</span> <span style=\"background-color:rgba(255,215,0,0.3);\">a</span> year <span style=\"background-color:rgba(255,215,0,0.3);\">and</span> <span style=\"background-color:rgba(255,215,0,0.3);\">mantas</span> give <span style=\"background-color:rgba(255,215,0,0.3);\">birth</span> <span style=\"background-color:rgba(255,215,0,0.3);\">to</span> live pups. <span style=\"background-color:rgba(255,215,0,0.3);\">Mantas</span> <span style=\"background-color:rgba(255,215,0,0.3);\">may</span> visit cleaning stations <span style=\"background-color:rgba(255,215,0,0.3);\">for</span> <span style=\"background-color:rgba(255,215,0,0.3);\">the</span> removal <span style=\"background-color:rgba(255,215,0,0.3);\">of</span> <span style=\"background-color:rgba(255,215,0,0.3);\">parasites.</span> Like <span style=\"background-color:rgba(255,215,0,0.3);\">whales,</span> <span style=\"background-color:rgba(255,215,0,0.3);\">they</span> breach <span style=\"background-color:rgba(255,215,0,0.3);\">for</span> unknown reasons. <span style=\"background-color:rgba(255,215,0,0.3);\">Both</span> <span style=\"background-color:rgba(255,215,0,0.3);\">species</span> <span style=\"background-color:rgba(255,215,0,0.3);\">are</span> listed <span style=\"background-color:rgba(255,215,0,0.3);\">as</span> <span style=\"background-color:rgba(255,215,0,0.3);\">vulnerable</span> <span style=\"background-color:rgba(255,215,0,0.3);\">by</span> <span style=\"background-color:rgba(255,215,0,0.3);\">the</span> <span style=\"background-color:rgba(255,215,0,0.3);\">International</span> Union <span style=\"background-color:rgba(255,215,0,0.3);\">for</span> <span style=\"background-color:rgba(255,215,0,0.3);\">Conservation</span> <span style=\"background-color:rgba(255,215,0,0.3);\">of</span> Nature. <span style=\"background-color:rgba(255,215,0,0.3);\">Anthropogenic</span> <span style=\"background-color:rgba(255,215,0,0.3);\">threats</span> <span style=\"background-color:rgba(255,215,0,0.3);\">include</span> <span style=\"background-color:rgba(255,215,0,0.3);\">pollution,</span> <span style=\"background-color:rgba(255,215,0,0.3);\">entanglement</span> <span style=\"background-color:rgba(255,215,0,0.3);\">in</span> <span style=\"background-color:rgba(255,215,0,0.3);\">fishing</span> <span style=\"background-color:rgba(255,215,0,0.3);\">nets,</span> <span style=\"background-color:rgba(255,215,0,0.3);\">and</span> <span style=\"background-color:rgba(255,215,0,0.3);\">direct</span> <span style=\"background-color:rgba(255,215,0,0.3);\">harvesting</span> <span style=\"background-color:rgba(255,215,0,0.3);\">of</span> <span style=\"background-color:rgba(255,215,0,0.3);\">their</span> <span style=\"background-color:rgba(255,215,0,0.3);\">gill</span> <span style=\"background-color:rgba(255,215,0,0.3);\">rakers</span> <span style=\"background-color:rgba(255,215,0,0.3);\">for</span> <span style=\"background-color:rgba(255,215,0,0.3);\">use</span> <span style=\"background-color:rgba(255,215,0,0.3);\">in</span> <span style=\"background-color:rgba(255,215,0,0.3);\">Chinese</span> <span style=\"background-color:rgba(255,215,0,0.3);\">medicine.</span> <span style=\"background-color:rgba(255,215,0,0.3);\">Their</span> slow reproductive rate exacerbates these <span style=\"background-color:rgba(255,215,0,0.3);\">threats.</span> <span style=\"background-color:rgba(255,215,0,0.3);\">They</span> <span style=\"background-color:rgba(255,215,0,0.3);\">are</span> <span style=\"background-color:rgba(255,215,0,0.3);\">protected</span> <span style=\"background-color:rgba(255,215,0,0.3);\">in</span> <span style=\"background-color:rgba(255,215,0,0.3);\">international</span> <span style=\"background-color:rgba(255,215,0,0.3);\">waters</span> <span style=\"background-color:rgba(255,215,0,0.3);\">by</span> <span style=\"background-color:rgba(255,215,0,0.3);\">the</span> <span style=\"background-color:rgba(255,215,0,0.3);\">Convention</span> <span style=\"background-color:rgba(255,215,0,0.3);\">on</span> <span style=\"background-color:rgba(255,215,0,0.3);\">Migratory</span> <span style=\"background-color:rgba(255,215,0,0.3);\">Species</span> <span style=\"background-color:rgba(255,215,0,0.3);\">of</span> <span style=\"background-color:rgba(255,215,0,0.3);\">Wild</span> <span style=\"background-color:rgba(255,215,0,0.3);\">Animals,</span> <span style=\"background-color:rgba(255,215,0,0.3);\">but</span> <span style=\"background-color:rgba(255,215,0,0.3);\">are</span> <span style=\"background-color:rgba(255,215,0,0.3);\">more</span> <span style=\"background-color:rgba(255,215,0,0.3);\">vulnerable</span> <span style=\"background-color:rgba(255,215,0,0.3);\">closer</span> <span style=\"background-color:rgba(255,215,0,0.3);\">to</span> <span style=\"background-color:rgba(255,215,0,0.3);\">shore.</span> <span style=\"background-color:rgba(255,215,0,0.3);\">Areas</span> <span style=\"background-color:rgba(255,215,0,0.3);\">where</span> <span style=\"background-color:rgba(255,215,0,0.3);\">mantas</span> congregate <span style=\"background-color:rgba(255,215,0,0.3);\">are</span> popular <span style=\"background-color:rgba(255,215,0,0.3);\">with</span> tourists. <span style=\"background-color:rgba(255,215,0,0.3);\">Only</span> <span style=\"background-color:rgba(255,215,0,0.3);\">a</span> few public aquariums <span style=\"background-color:rgba(255,215,0,0.3);\">are</span> <span style=\"background-color:rgba(255,215,0,0.3);\">large</span> enough <span style=\"background-color:rgba(255,215,0,0.3);\">to</span> house <span style=\"background-color:rgba(255,215,0,0.3);\">them.</span><br><br><strong>Predicted Summary</strong><br><span style=\"background-color:rgba(255,215,0,0.3);\">Anthropogenic</span> <span style=\"background-color:rgba(255,215,0,0.3);\">threats</span> <span style=\"background-color:rgba(255,215,0,0.3);\">include</span> <span style=\"background-color:rgba(255,215,0,0.3);\">pollution,</span> <span style=\"background-color:rgba(255,215,0,0.3);\">entanglement</span> <span style=\"background-color:rgba(255,215,0,0.3);\">in</span> <span style=\"background-color:rgba(255,215,0,0.3);\">fishing</span> <span style=\"background-color:rgba(255,215,0,0.3);\">nets,</span> <span style=\"background-color:rgba(255,215,0,0.3);\">and</span> <span style=\"background-color:rgba(255,215,0,0.3);\">direct</span> <span style=\"background-color:rgba(255,215,0,0.3);\">harvesting</span> <span style=\"background-color:rgba(255,215,0,0.3);\">of</span> <span style=\"background-color:rgba(255,215,0,0.3);\">their</span> <span style=\"background-color:rgba(255,215,0,0.3);\">gill</span> <span style=\"background-color:rgba(255,215,0,0.3);\">rakers</span> <span style=\"background-color:rgba(255,215,0,0.3);\">for</span> <span style=\"background-color:rgba(255,215,0,0.3);\">use</span> <span style=\"background-color:rgba(255,215,0,0.3);\">in</span> <span style=\"background-color:rgba(255,215,0,0.3);\">Chinese</span> <span style=\"background-color:rgba(255,215,0,0.3);\">medicine.</span> <span style=\"background-color:rgba(255,215,0,0.3);\">They</span> <span style=\"background-color:rgba(255,215,0,0.3);\">are</span> <span style=\"background-color:rgba(255,215,0,0.3);\">protected</span> <span style=\"background-color:rgba(255,215,0,0.3);\">in</span> <span style=\"background-color:rgba(255,215,0,0.3);\">international</span> <span style=\"background-color:rgba(255,215,0,0.3);\">waters</span> <span style=\"background-color:rgba(255,215,0,0.3);\">by</span> <span style=\"background-color:rgba(255,215,0,0.3);\">the</span> <span style=\"background-color:rgba(255,215,0,0.3);\">Convention</span> <span style=\"background-color:rgba(255,215,0,0.3);\">on</span> <span style=\"background-color:rgba(255,215,0,0.3);\">Migratory</span> <span style=\"background-color:rgba(255,215,0,0.3);\">Species</span> <span style=\"background-color:rgba(255,215,0,0.3);\">of</span> <span style=\"background-color:rgba(255,215,0,0.3);\">Wild</span> <span style=\"background-color:rgba(255,215,0,0.3);\">Animals,</span> <span style=\"background-color:rgba(255,215,0,0.3);\">but</span> <span style=\"background-color:rgba(255,215,0,0.3);\">are</span> <span style=\"background-color:rgba(255,215,0,0.3);\">more</span> <span style=\"background-color:rgba(255,215,0,0.3);\">vulnerable</span> <span style=\"background-color:rgba(255,215,0,0.3);\">closer</span> <span style=\"background-color:rgba(255,215,0,0.3);\">to</span> <span style=\"background-color:rgba(255,215,0,0.3);\">shore.</span> <span style=\"background-color:rgba(255,215,0,0.3);\">In</span> 2018, an analysis <span style=\"background-color:rgba(255,215,0,0.3);\">of</span> DNA, <span style=\"background-color:rgba(255,215,0,0.3);\">and</span> <span style=\"background-color:rgba(255,215,0,0.3);\">to</span> <span style=\"background-color:rgba(255,215,0,0.3);\">a</span> lesser degree, morphology, <span style=\"background-color:rgba(255,215,0,0.3);\">found</span> <span style=\"background-color:rgba(255,215,0,0.3);\">that</span> <span style=\"background-color:rgba(255,215,0,0.3);\">Mobula</span> was paraphyletic <span style=\"background-color:rgba(255,215,0,0.3);\">with</span> respect <span style=\"background-color:rgba(255,215,0,0.3);\">to</span> <span style=\"background-color:rgba(255,215,0,0.3);\">the</span> <span style=\"background-color:rgba(255,215,0,0.3);\">manta</span> <span style=\"background-color:rgba(255,215,0,0.3);\">rays;</span> <span style=\"background-color:rgba(255,215,0,0.3);\">that</span> is, <span style=\"background-color:rgba(255,215,0,0.3);\">the</span> members <span style=\"background-color:rgba(255,215,0,0.3);\">of</span> <span style=\"background-color:rgba(255,215,0,0.3);\">the</span> <span style=\"background-color:rgba(255,215,0,0.3);\">genus</span> <span style=\"background-color:rgba(255,215,0,0.3);\">Manta</span> <span style=\"background-color:rgba(255,215,0,0.3);\">are</span> <span style=\"background-color:rgba(255,215,0,0.3);\">closer</span> related <span style=\"background-color:rgba(255,215,0,0.3);\">to</span> some members <span style=\"background-color:rgba(255,215,0,0.3);\">of</span> <span style=\"background-color:rgba(255,215,0,0.3);\">genus</span> <span style=\"background-color:rgba(255,215,0,0.3);\">Mobula</span> than <span style=\"background-color:rgba(255,215,0,0.3);\">them</span> <span style=\"background-color:rgba(255,215,0,0.3);\">to</span> other <span style=\"background-color:rgba(255,215,0,0.3);\">Mobula,</span> <span style=\"background-color:rgba(255,215,0,0.3);\">and</span> <span style=\"background-color:rgba(255,215,0,0.3);\">they</span> recommended treating <span style=\"background-color:rgba(255,215,0,0.3);\">Manta</span> <span style=\"background-color:rgba(255,215,0,0.3);\">as</span> <span style=\"background-color:rgba(255,215,0,0.3);\">a</span> junior synonym <span style=\"background-color:rgba(255,215,0,0.3);\">of</span> Mobula.Mantas evolved <span style=\"background-color:rgba(255,215,0,0.3);\">from</span> bottom-dwelling <span style=\"background-color:rgba(255,215,0,0.3);\">stingrays,</span> eventually developing <span style=\"background-color:rgba(255,215,0,0.3);\">more</span> wing-like <span style=\"background-color:rgba(255,215,0,0.3);\">pectoral</span> <span style=\"background-color:rgba(255,215,0,0.3);\">fins.</span> <span style=\"background-color:rgba(255,215,0,0.3);\">The</span> edges <span style=\"background-color:rgba(255,215,0,0.3);\">of</span> <span style=\"background-color:rgba(255,215,0,0.3);\">the</span> jaws line up <span style=\"background-color:rgba(255,215,0,0.3);\">while</span> <span style=\"background-color:rgba(255,215,0,0.3);\">in</span> devil <span style=\"background-color:rgba(255,215,0,0.3);\">rays,</span> <span style=\"background-color:rgba(255,215,0,0.3);\">the</span> lower jaw shifts back when <span style=\"background-color:rgba(255,215,0,0.3);\">the</span> mouth closes.: 14 <span style=\"background-color:rgba(255,215,0,0.3);\">Manta</span> <span style=\"background-color:rgba(255,215,0,0.3);\">rays</span> <span style=\"background-color:rgba(255,215,0,0.3);\">and</span> devil <span style=\"background-color:rgba(255,215,0,0.3);\">rays</span> <span style=\"background-color:rgba(255,215,0,0.3);\">are</span> <span style=\"background-color:rgba(255,215,0,0.3);\">the</span> <span style=\"background-color:rgba(255,215,0,0.3);\">only</span> ray <span style=\"background-color:rgba(255,215,0,0.3);\">species</span> <span style=\"background-color:rgba(255,215,0,0.3);\">that</span> <span style=\"background-color:rgba(255,215,0,0.3);\">have</span> evolved into <span style=\"background-color:rgba(255,215,0,0.3);\">filter</span> <span style=\"background-color:rgba(255,215,0,0.3);\">feeders.</span> <span style=\"background-color:rgba(255,215,0,0.3);\">All</span> were eventually treated <span style=\"background-color:rgba(255,215,0,0.3);\">as</span> synonyms <span style=\"background-color:rgba(255,215,0,0.3);\">of</span> <span style=\"background-color:rgba(255,215,0,0.3);\">the</span> single <span style=\"background-color:rgba(255,215,0,0.3);\">species</span> <span style=\"background-color:rgba(255,215,0,0.3);\">Manta</span> <span style=\"background-color:rgba(255,215,0,0.3);\">birostris.</span> <span style=\"background-color:rgba(255,215,0,0.3);\">The</span> specific name <span style=\"background-color:rgba(255,215,0,0.3);\">alfredi</span> was first used <span style=\"background-color:rgba(255,215,0,0.3);\">by</span> Australian zoologist Gerard Krefft, who named <span style=\"background-color:rgba(255,215,0,0.3);\">the</span> <span style=\"background-color:rgba(255,215,0,0.3);\">manta</span> after Prince Alfred.A 2009 study analyzed <span style=\"background-color:rgba(255,215,0,0.3);\">the</span> differences <span style=\"background-color:rgba(255,215,0,0.3);\">in</span> morphology, including color, meristic variation, spine, dermal denticles (tooth-like scales), <span style=\"background-color:rgba(255,215,0,0.3);\">and</span> teeth <span style=\"background-color:rgba(255,215,0,0.3);\">of</span> different populations. <span style=\"background-color:rgba(255,215,0,0.3);\">Manta</span> <span style=\"background-color:rgba(255,215,0,0.3);\">rays</span> <span style=\"background-color:rgba(255,215,0,0.3);\">have</span> broad heads, <span style=\"background-color:rgba(255,215,0,0.3);\">triangular</span> <span style=\"background-color:rgba(255,215,0,0.3);\">pectoral</span> <span style=\"background-color:rgba(255,215,0,0.3);\">fins,</span> <span style=\"background-color:rgba(255,215,0,0.3);\">and</span> <span style=\"background-color:rgba(255,215,0,0.3);\">horn-shaped</span> <span style=\"background-color:rgba(255,215,0,0.3);\">cephalic</span> <span style=\"background-color:rgba(255,215,0,0.3);\">fins</span> located <span style=\"background-color:rgba(255,215,0,0.3);\">on</span> <span style=\"background-color:rgba(255,215,0,0.3);\">both</span> sides <span style=\"background-color:rgba(255,215,0,0.3);\">of</span> <span style=\"background-color:rgba(255,215,0,0.3);\">their</span> <span style=\"background-color:rgba(255,215,0,0.3);\">mouths.</span> <span style=\"background-color:rgba(255,215,0,0.3);\">The</span> <span style=\"background-color:rgba(255,215,0,0.3);\">fish,</span> spotted near Lady Elliot Island, is <span style=\"background-color:rgba(255,215,0,0.3);\">the</span> world's <span style=\"background-color:rgba(255,215,0,0.3);\">only</span> known pink <span style=\"background-color:rgba(255,215,0,0.3);\">manta</span> ray. <span style=\"background-color:rgba(255,215,0,0.3);\">birostris</span> has <span style=\"background-color:rgba(255,215,0,0.3);\">a</span> caudal spine near <span style=\"background-color:rgba(255,215,0,0.3);\">its</span> dorsal fin.Mantas move through <span style=\"background-color:rgba(255,215,0,0.3);\">the</span> water <span style=\"background-color:rgba(255,215,0,0.3);\">by</span> <span style=\"background-color:rgba(255,215,0,0.3);\">the</span> wing-like movements <span style=\"background-color:rgba(255,215,0,0.3);\">of</span> <span style=\"background-color:rgba(255,215,0,0.3);\">their</span> <span style=\"background-color:rgba(255,215,0,0.3);\">pectoral</span> <span style=\"background-color:rgba(255,215,0,0.3);\">fins.</span> <span style=\"background-color:rgba(255,215,0,0.3);\">The</span> spiracles typical <span style=\"background-color:rgba(255,215,0,0.3);\">of</span> <span style=\"background-color:rgba(255,215,0,0.3);\">rays</span> <span style=\"background-color:rgba(255,215,0,0.3);\">are</span> vestigial <span style=\"background-color:rgba(255,215,0,0.3);\">and</span> concealed <span style=\"background-color:rgba(255,215,0,0.3);\">by</span> small flaps <span style=\"background-color:rgba(255,215,0,0.3);\">of</span> skin, <span style=\"background-color:rgba(255,215,0,0.3);\">and</span> <span style=\"background-color:rgba(255,215,0,0.3);\">mantas</span> must keep swimming <span style=\"background-color:rgba(255,215,0,0.3);\">with</span> <span style=\"background-color:rgba(255,215,0,0.3);\">their</span> <span style=\"background-color:rgba(255,215,0,0.3);\">mouths</span> <span style=\"background-color:rgba(255,215,0,0.3);\">open</span> <span style=\"background-color:rgba(255,215,0,0.3);\">to</span> keep oxygenated water passing <span style=\"background-color:rgba(255,215,0,0.3);\">over</span> <span style=\"background-color:rgba(255,215,0,0.3);\">their</span> gills.: 13 <span style=\"background-color:rgba(255,215,0,0.3);\">The</span> <span style=\"background-color:rgba(255,215,0,0.3);\">cephalic</span> <span style=\"background-color:rgba(255,215,0,0.3);\">fins</span> <span style=\"background-color:rgba(255,215,0,0.3);\">are</span> usually spiraled <span style=\"background-color:rgba(255,215,0,0.3);\">but</span> flatten during foraging. <span style=\"background-color:rgba(255,215,0,0.3);\">The</span> ray adopts <span style=\"background-color:rgba(255,215,0,0.3);\">a</span> near-stationary position close <span style=\"background-color:rgba(255,215,0,0.3);\">to</span> <span style=\"background-color:rgba(255,215,0,0.3);\">the</span> coral surface <span style=\"background-color:rgba(255,215,0,0.3);\">for</span> several minutes <span style=\"background-color:rgba(255,215,0,0.3);\">while</span> <span style=\"background-color:rgba(255,215,0,0.3);\">the</span> cleaner <span style=\"background-color:rgba(255,215,0,0.3);\">fish</span> feed. <span style=\"background-color:rgba(255,215,0,0.3);\">In</span> addition, it has been confirmed <span style=\"background-color:rgba(255,215,0,0.3);\">that</span> reef <span style=\"background-color:rgba(255,215,0,0.3);\">manta</span> <span style=\"background-color:rgba(255,215,0,0.3);\">rays</span> form <span style=\"background-color:rgba(255,215,0,0.3);\">a</span> community <span style=\"background-color:rgba(255,215,0,0.3);\">with</span> <span style=\"background-color:rgba(255,215,0,0.3);\">a</span> specific individual <span style=\"background-color:rgba(255,215,0,0.3);\">and</span> act together.Mantas <span style=\"background-color:rgba(255,215,0,0.3);\">may</span> <span style=\"background-color:rgba(255,215,0,0.3);\">be</span> preyed upon <span style=\"background-color:rgba(255,215,0,0.3);\">by</span> <span style=\"background-color:rgba(255,215,0,0.3);\">large</span> sharks, orcas <span style=\"background-color:rgba(255,215,0,0.3);\">and</span> false killer <span style=\"background-color:rgba(255,215,0,0.3);\">whales.</span> Though <span style=\"background-color:rgba(255,215,0,0.3);\">they</span> <span style=\"background-color:rgba(255,215,0,0.3);\">may</span> clean <span style=\"background-color:rgba(255,215,0,0.3);\">them</span> <span style=\"background-color:rgba(255,215,0,0.3);\">of</span> <span style=\"background-color:rgba(255,215,0,0.3);\">parasites,</span> remoras <span style=\"background-color:rgba(255,215,0,0.3);\">can</span> also damage <span style=\"background-color:rgba(255,215,0,0.3);\">the</span> <span style=\"background-color:rgba(255,215,0,0.3);\">manta's</span> gills <span style=\"background-color:rgba(255,215,0,0.3);\">and</span> skin, <span style=\"background-color:rgba(255,215,0,0.3);\">and</span> increase <span style=\"background-color:rgba(255,215,0,0.3);\">its</span> swimming load.: 33, 36–38 <span style=\"background-color:rgba(255,215,0,0.3);\">In</span> 2016, scientists published <span style=\"background-color:rgba(255,215,0,0.3);\">a</span> study <span style=\"background-color:rgba(255,215,0,0.3);\">in</span> <span style=\"background-color:rgba(255,215,0,0.3);\">which</span> <span style=\"background-color:rgba(255,215,0,0.3);\">manta</span> <span style=\"background-color:rgba(255,215,0,0.3);\">rays</span> were shown <span style=\"background-color:rgba(255,215,0,0.3);\">to</span> exhibit behavior associated <span style=\"background-color:rgba(255,215,0,0.3);\">with</span> self-awareness. <span style=\"background-color:rgba(255,215,0,0.3);\">Mantas</span> <span style=\"background-color:rgba(255,215,0,0.3);\">are</span> <span style=\"background-color:rgba(255,215,0,0.3);\">found</span> <span style=\"background-color:rgba(255,215,0,0.3);\">in</span> <span style=\"background-color:rgba(255,215,0,0.3);\">tropical</span> <span style=\"background-color:rgba(255,215,0,0.3);\">and</span> <span style=\"background-color:rgba(255,215,0,0.3);\">subtropical</span> <span style=\"background-color:rgba(255,215,0,0.3);\">waters</span> <span style=\"background-color:rgba(255,215,0,0.3);\">in</span> <span style=\"background-color:rgba(255,215,0,0.3);\">all</span> <span style=\"background-color:rgba(255,215,0,0.3);\">the</span> world's major <span style=\"background-color:rgba(255,215,0,0.3);\">oceans,</span> <span style=\"background-color:rgba(255,215,0,0.3);\">and</span> also venture into <span style=\"background-color:rgba(255,215,0,0.3);\">temperate</span> seas. <span style=\"background-color:rgba(255,215,0,0.3);\">M.</span> <span style=\"background-color:rgba(255,215,0,0.3);\">birostris</span> lives mostly <span style=\"background-color:rgba(255,215,0,0.3);\">in</span> <span style=\"background-color:rgba(255,215,0,0.3);\">the</span> <span style=\"background-color:rgba(255,215,0,0.3);\">open</span> ocean, travelling <span style=\"background-color:rgba(255,215,0,0.3);\">with</span> <span style=\"background-color:rgba(255,215,0,0.3);\">the</span> currents <span style=\"background-color:rgba(255,215,0,0.3);\">and</span> migrating <span style=\"background-color:rgba(255,215,0,0.3);\">to</span> <span style=\"background-color:rgba(255,215,0,0.3);\">areas</span> <span style=\"background-color:rgba(255,215,0,0.3);\">where</span> upwellings <span style=\"background-color:rgba(255,215,0,0.3);\">of</span> nutrient-rich water increase prey concentrations.Fish <span style=\"background-color:rgba(255,215,0,0.3);\">that</span> <span style=\"background-color:rgba(255,215,0,0.3);\">have</span> been fitted <span style=\"background-color:rgba(255,215,0,0.3);\">with</span> radio transmitters <span style=\"background-color:rgba(255,215,0,0.3);\">have</span> traveled <span style=\"background-color:rgba(255,215,0,0.3);\">as</span> far <span style=\"background-color:rgba(255,215,0,0.3);\">as</span> 1,000 km (620 mi) <span style=\"background-color:rgba(255,215,0,0.3);\">from</span> <span style=\"background-color:rgba(255,215,0,0.3);\">where</span> <span style=\"background-color:rgba(255,215,0,0.3);\">they</span> were caught, <span style=\"background-color:rgba(255,215,0,0.3);\">and</span> descended <span style=\"background-color:rgba(255,215,0,0.3);\">to</span> depths <span style=\"background-color:rgba(255,215,0,0.3);\">of</span> at least 1,000 <span style=\"background-color:rgba(255,215,0,0.3);\">m</span> (3,300 <span style=\"background-color:rgba(255,215,0,0.3);\">ft).</span> <span style=\"background-color:rgba(255,215,0,0.3);\">In</span> 2011, <span style=\"background-color:rgba(255,215,0,0.3);\">mantas</span> became strictly <span style=\"background-color:rgba(255,215,0,0.3);\">protected</span> <span style=\"background-color:rgba(255,215,0,0.3);\">in</span> <span style=\"background-color:rgba(255,215,0,0.3);\">international</span> <span style=\"background-color:rgba(255,215,0,0.3);\">waters</span> because <span style=\"background-color:rgba(255,215,0,0.3);\">of</span> <span style=\"background-color:rgba(255,215,0,0.3);\">their</span> inclusion <span style=\"background-color:rgba(255,215,0,0.3);\">in</span> <span style=\"background-color:rgba(255,215,0,0.3);\">the</span> <span style=\"background-color:rgba(255,215,0,0.3);\">Convention</span> <span style=\"background-color:rgba(255,215,0,0.3);\">on</span> <span style=\"background-color:rgba(255,215,0,0.3);\">Migratory</span> <span style=\"background-color:rgba(255,215,0,0.3);\">Species</span> <span style=\"background-color:rgba(255,215,0,0.3);\">of</span> <span style=\"background-color:rgba(255,215,0,0.3);\">Wild</span> <span style=\"background-color:rgba(255,215,0,0.3);\">Animals.</span> Although individual nations were already protecting <span style=\"background-color:rgba(255,215,0,0.3);\">manta</span> <span style=\"background-color:rgba(255,215,0,0.3);\">rays,</span> <span style=\"background-color:rgba(255,215,0,0.3);\">the</span> <span style=\"background-color:rgba(255,215,0,0.3);\">fish</span> often migrate through unregulated <span style=\"background-color:rgba(255,215,0,0.3);\">waters,</span> putting <span style=\"background-color:rgba(255,215,0,0.3);\">them</span> at increased risk <span style=\"background-color:rgba(255,215,0,0.3);\">from</span> overfishing. <span style=\"background-color:rgba(255,215,0,0.3);\">The</span> organization's website is also an information resource <span style=\"background-color:rgba(255,215,0,0.3);\">for</span> <span style=\"background-color:rgba(255,215,0,0.3);\">manta</span> <span style=\"background-color:rgba(255,215,0,0.3);\">conservation</span> <span style=\"background-color:rgba(255,215,0,0.3);\">and</span> biology.In 2009, Hawaii became <span style=\"background-color:rgba(255,215,0,0.3);\">the</span> first <span style=\"background-color:rgba(255,215,0,0.3);\">of</span> <span style=\"background-color:rgba(255,215,0,0.3);\">the</span> United States <span style=\"background-color:rgba(255,215,0,0.3);\">to</span> introduce <span style=\"background-color:rgba(255,215,0,0.3);\">a</span> ban <span style=\"background-color:rgba(255,215,0,0.3);\">on</span> <span style=\"background-color:rgba(255,215,0,0.3);\">the</span> killing <span style=\"background-color:rgba(255,215,0,0.3);\">or</span> capturing <span style=\"background-color:rgba(255,215,0,0.3);\">of</span> <span style=\"background-color:rgba(255,215,0,0.3);\">manta</span> <span style=\"background-color:rgba(255,215,0,0.3);\">rays.</span> <span style=\"background-color:rgba(255,215,0,0.3);\">In</span> addition, at <span style=\"background-color:rgba(255,215,0,0.3);\">the</span> Okinawa Churaumi Aquarium, <span style=\"background-color:rgba(255,215,0,0.3);\">a</span> male <span style=\"background-color:rgba(255,215,0,0.3);\">manta</span> ray, <span style=\"background-color:rgba(255,215,0,0.3);\">which</span> started captivity <span style=\"background-color:rgba(255,215,0,0.3);\">in</span> 1992 at <span style=\"background-color:rgba(255,215,0,0.3);\">its</span> predecessor, <span style=\"background-color:rgba(255,215,0,0.3);\">the</span> Okinawa Ocean Expo Aquarium, was recorded <span style=\"background-color:rgba(255,215,0,0.3);\">to</span> <span style=\"background-color:rgba(255,215,0,0.3);\">have</span> lived <span style=\"background-color:rgba(255,215,0,0.3);\">for</span> approximately <span style=\"background-color:rgba(255,215,0,0.3);\">23</span> years. <span style=\"background-color:rgba(255,215,0,0.3);\">The</span> Okinawa Churaumi Aquarium houses <span style=\"background-color:rgba(255,215,0,0.3);\">manta</span> <span style=\"background-color:rgba(255,215,0,0.3);\">rays</span> <span style=\"background-color:rgba(255,215,0,0.3);\">in</span> <span style=\"background-color:rgba(255,215,0,0.3);\">the</span> \"Kuroshio Sea\" tank, one <span style=\"background-color:rgba(255,215,0,0.3);\">of</span> <span style=\"background-color:rgba(255,215,0,0.3);\">the</span> <span style=\"background-color:rgba(255,215,0,0.3);\">largest</span> aquarium tanks <span style=\"background-color:rgba(255,215,0,0.3);\">in</span> <span style=\"background-color:rgba(255,215,0,0.3);\">the</span> world. Although this pup did not survive, <span style=\"background-color:rgba(255,215,0,0.3);\">the</span> aquarium has since had <span style=\"background-color:rgba(255,215,0,0.3);\">the</span> <span style=\"background-color:rgba(255,215,0,0.3);\">birth</span> <span style=\"background-color:rgba(255,215,0,0.3);\">of</span> four <span style=\"background-color:rgba(255,215,0,0.3);\">more</span> <span style=\"background-color:rgba(255,215,0,0.3);\">manta</span> <span style=\"background-color:rgba(255,215,0,0.3);\">rays</span> <span style=\"background-color:rgba(255,215,0,0.3);\">in</span> 2008, 2009, 2010 <span style=\"background-color:rgba(255,215,0,0.3);\">and</span> 2011. Indonesia has 5.8 million km2 (2.2 million mi2) <span style=\"background-color:rgba(255,215,0,0.3);\">of</span> ocean, <span style=\"background-color:rgba(255,215,0,0.3);\">and</span> this is now <span style=\"background-color:rgba(255,215,0,0.3);\">the</span> world's <span style=\"background-color:rgba(255,215,0,0.3);\">largest</span> sanctuary <span style=\"background-color:rgba(255,215,0,0.3);\">for</span> <span style=\"background-color:rgba(255,215,0,0.3);\">manta</span> <span style=\"background-color:rgba(255,215,0,0.3);\">rays.</span> <span style=\"background-color:rgba(255,215,0,0.3);\">Manta</span> Ray videos <span style=\"background-color:rgba(255,215,0,0.3);\">and</span> news stories <span style=\"background-color:rgba(255,215,0,0.3);\">from</span> <span style=\"background-color:rgba(255,215,0,0.3);\">the</span> BBC including footage <span style=\"background-color:rgba(255,215,0,0.3);\">of</span> <span style=\"background-color:rgba(255,215,0,0.3);\">the</span> possible new <span style=\"background-color:rgba(255,215,0,0.3);\">species</span>"
      ],
      "text/plain": [
       "<IPython.core.display.HTML object>"
      ]
     },
     "metadata": {},
     "output_type": "display_data"
    }
   ],
   "source": [
    "# Compare y_test and predicted\n",
    "match = display_string_matching(act, pred, both = True, sentences = False, \n",
    "                                titles = [\"Real Summary\", \"Predicted Summary\"])\n",
    "\n",
    "from IPython.core.display import display, HTML\n",
    "display(HTML(match))"
   ]
  },
  {
   "cell_type": "code",
   "execution_count": 32,
   "id": "ea9b3cb9-2602-4f58-b8cc-64400e15e8ef",
   "metadata": {},
   "outputs": [],
   "source": [
    "def utils_split_sentences(a, b):\n",
    "    # find clean matches\n",
    "    match = difflib.SequenceMatcher(isjunk=None, a=a, b=b, autojunk=True)\n",
    "    lst_match = [block for block in match.get_matching_blocks() if block.size > 20]\n",
    "    \n",
    "    # difflib didn't find any match\n",
    "    if len(lst_match) == 0:\n",
    "        lst_a, lst_b = nltk.sent_tokenize(a), nltk.sent_tokenize(b)\n",
    "    \n",
    "    # work with matches\n",
    "    else:\n",
    "        first_m, last_m = lst_match[0], lst_match[-1]\n",
    "\n",
    "        ### a\n",
    "        string = a[0 : first_m.a]\n",
    "        lst_a = [t for t in nltk.sent_tokenize(string)]\n",
    "        for n in range(len(lst_match)):\n",
    "            m = lst_match[n]\n",
    "            string = a[m.a : m.a+m.size]\n",
    "            lst_a.append(string)\n",
    "            if n+1 < len(lst_match):\n",
    "                next_m = lst_match[n+1]\n",
    "                string = a[m.a+m.size : next_m.a]\n",
    "                lst_a = lst_a + [t for t in nltk.sent_tokenize(string)]\n",
    "            else:\n",
    "                break\n",
    "        string = a[last_m.a+last_m.size :]\n",
    "        lst_a = lst_a + [t for t in nltk.sent_tokenize(string)]\n",
    "\n",
    "        string = b[0 : first_m.b]\n",
    "        lst_b = [t for t in nltk.sent_tokenize(string)]\n",
    "        for n in range(len(lst_match)):\n",
    "            m = lst_match[n]\n",
    "            string = b[m.b : m.b+m.size]\n",
    "            lst_b.append(string)\n",
    "            if n+1 < len(lst_match):\n",
    "                next_m = lst_match[n+1]\n",
    "                string = b[m.b+m.size : next_m.b]\n",
    "                lst_b = lst_b + [t for t in nltk.sent_tokenize(string)]\n",
    "            else:\n",
    "                break\n",
    "        string = b[last_m.b+last_m.size :]\n",
    "        lst_b = lst_b + [t for t in nltk.sent_tokenize(string)]\n",
    "    \n",
    "    return lst_a, lst_b"
   ]
  },
  {
   "cell_type": "code",
   "execution_count": 33,
   "id": "d1d1f586-685a-46d0-aea7-5a1142609478",
   "metadata": {},
   "outputs": [
    {
     "data": {
      "text/html": [
       "<strong>Full Text</strong><br>Manta rays are large rays belonging to the genus Mobula (formerly its own genus Manta). The larger species, M. birostris, reaches 7 m (23 ft) in width, while the smaller, M. alfredi, reaches 5.5 m (18 ft). Both have triangular pectoral fins, horn-shaped cephalic fins and large, forward-facing mouths. They are classified among the Myliobatiformes (stingrays and relatives) and are placed in the family Myliobatidae (eagle rays). They have the largest brains and brain to body ratio of all fish, and can pass the mirror test. Mantas are found in warm temperate, subtropical and tropical waters. Both species are pelagic; M. birostris migrates across open oceans, singly or in groups, while M. alfredi tends to be resident and coastal. They are filter feeders and eat large quantities of zooplankton, which they gather with their open mouths as they swim. However, research suggests that the majority of their diet (73%) actually comes from mesopelagic sources. Gestation lasts over a year and mantas give birth to live pups. Mantas may visit cleaning stations for the removal of parasites. Like whales, they breach for unknown reasons. Both species are listed as vulnerable by the International Union for Conservation of Nature. <span style=\"background-color:rgba(255,215,0,0.3);\">Anthropogenic threats include pollution, entanglement in fishing nets, and direct harvesting of their gill rakers for use in Chinese medicine.</span> Their slow reproductive rate exacerbates these threats. <span style=\"background-color:rgba(255,215,0,0.3);\">They are protected in international waters by the Convention on Migratory Species of Wild Animals, but are more vulnerable closer to shore.</span> Areas where mantas congregate are popular with tourists. Only a few public aquariums are large enough to house them.<br><br><strong>Predicted Summary</strong><br><span style=\"background-color:rgba(255,215,0,0.3);\">Anthropogenic threats include pollution, entanglement in fishing nets, and direct harvesting of their gill rakers for use in Chinese medicine.</span> <span style=\"background-color:rgba(255,215,0,0.3);\">They are protected in international waters by the Convention on Migratory Species of Wild Animals, but are more vulnerable closer to shore.</span> In 2018, an analysis of DNA, and to a lesser degree, morphology, found that Mobula was paraphyletic with respect to the manta rays; that is, the members of the genus Manta are closer related to some members of genus Mobula than them to other Mobula, and they recommended treating Manta as a junior synonym of Mobula.Mantas evolved from bottom-dwelling stingrays, eventually developing more wing-like pectoral fins. The edges of the jaws line up while in devil rays, the lower jaw shifts back when the mouth closes. : 14  Manta rays and devil rays are the only ray species that have evolved into filter feeders. All were eventually treated as synonyms of the single species Manta birostris. The specific name alfredi was first used by Australian zoologist Gerard Krefft, who named the manta after Prince Alfred.A 2009 study analyzed the differences in morphology, including color, meristic variation, spine, dermal denticles (tooth-like scales), and teeth of different populations. Manta rays have broad heads, triangular pectoral fins, and horn-shaped cephalic fins located on both sides of their mouths. The fish, spotted near Lady Elliot Island, is the world's only known pink manta ray. birostris has a caudal spine near its dorsal fin.Mantas move through the water by the wing-like movements of their pectoral fins. The spiracles typical of rays are vestigial and concealed by small flaps of skin, and mantas must keep swimming with their mouths open to keep oxygenated water passing over their gills. : 13  The cephalic fins are usually spiraled but flatten during foraging. The ray adopts a near-stationary position close to the coral surface for several minutes while the cleaner fish feed. In addition, it has been confirmed that reef manta rays form a community with a specific individual and act together.Mantas may be preyed upon by large sharks, orcas and false killer whales. Though they may clean them of parasites, remoras can also damage the manta's gills and skin, and increase its swimming load. : 33, 36–38 In 2016, scientists published a study in which manta rays were shown to exhibit behavior associated with self-awareness. Mantas are found in tropical and subtropical waters in all the world's major oceans, and also venture into temperate seas. M. birostris lives mostly in the open ocean, travelling with the currents and migrating to areas where upwellings of nutrient-rich water increase prey concentrations.Fish that have been fitted with radio transmitters have traveled as far as 1,000 km (620 mi) from where they were caught, and descended to depths of at least 1,000 m (3,300 ft). In 2011, mantas became strictly protected in international waters because of their inclusion in the Convention on Migratory Species of Wild Animals. Although individual nations were already protecting manta rays, the fish often migrate through unregulated waters, putting them at increased risk from overfishing. The organization's website is also an information resource for manta conservation and biology.In 2009, Hawaii became the first of the United States to introduce a ban on the killing or capturing of manta rays. In addition, at the Okinawa Churaumi Aquarium, a male manta ray, which started captivity in 1992 at its predecessor, the Okinawa Ocean Expo Aquarium, was recorded to have lived for approximately 23 years. The Okinawa Churaumi Aquarium houses manta rays in the \"Kuroshio Sea\" tank, one of the largest aquarium tanks in the world. Although this pup did not survive, the aquarium has since had the birth of four more manta rays in 2008, 2009, 2010 and 2011. Indonesia has 5.8 million km2 (2.2 million mi2) of ocean, and this is now the world's largest sanctuary for manta rays. Manta Ray videos and news stories from the BBC including footage of the possible new species"
      ],
      "text/plain": [
       "<IPython.core.display.HTML object>"
      ]
     },
     "metadata": {},
     "output_type": "display_data"
    }
   ],
   "source": [
    "# Explainability\n",
    "match = display_string_matching(act, pred, both = True, sentences = True, \n",
    "                                titles=[\"Full Text\", \"Predicted Summary\"])\n",
    "\n",
    "from IPython.core.display import display, HTML\n",
    "display(HTML(match))"
   ]
  },
  {
   "cell_type": "code",
   "execution_count": null,
   "id": "a2642e53-fcc9-4071-a8a3-14aa009cef61",
   "metadata": {},
   "outputs": [],
   "source": []
  },
  {
   "cell_type": "code",
   "execution_count": null,
   "id": "c294f7c5-d14b-4561-b29c-e32f09b52fbc",
   "metadata": {},
   "outputs": [],
   "source": []
  },
  {
   "cell_type": "code",
   "execution_count": null,
   "id": "828e530b-6235-4dc7-9531-010fd34221f4",
   "metadata": {},
   "outputs": [],
   "source": []
  }
 ],
 "metadata": {
  "kernelspec": {
   "display_name": "Python 3 (ipykernel)",
   "language": "python",
   "name": "python3"
  },
  "language_info": {
   "codemirror_mode": {
    "name": "ipython",
    "version": 3
   },
   "file_extension": ".py",
   "mimetype": "text/x-python",
   "name": "python",
   "nbconvert_exporter": "python",
   "pygments_lexer": "ipython3",
   "version": "3.9.12"
  }
 },
 "nbformat": 4,
 "nbformat_minor": 5
}
